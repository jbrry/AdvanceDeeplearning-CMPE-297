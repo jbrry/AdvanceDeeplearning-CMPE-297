{
  "nbformat": 4,
  "nbformat_minor": 0,
  "metadata": {
    "colab": {
      "name": "Assignment_4k_Emmental MTL-Chexnet-Superglue.ipynb",
      "provenance": [],
      "toc_visible": true,
      "authorship_tag": "ABX9TyNeSAEUcOYfV4+bUNEBqIHy",
      "include_colab_link": true
    },
    "kernelspec": {
      "name": "python3",
      "display_name": "Python 3"
    }
  },
  "cells": [
    {
      "cell_type": "markdown",
      "metadata": {
        "id": "view-in-github",
        "colab_type": "text"
      },
      "source": [
        "<a href=\"https://colab.research.google.com/github/s-c-soma/AdvanceDeeplearning-CMPE-297/blob/master/Practice/Assignment_4k_Emmental_MTL_Chexnet_Superglue.ipynb\" target=\"_parent\"><img src=\"https://colab.research.google.com/assets/colab-badge.svg\" alt=\"Open In Colab\"/></a>"
      ]
    },
    {
      "cell_type": "markdown",
      "metadata": {
        "id": "NclOY_fp-MQU"
      },
      "source": [
        "# Emmental MTL - chexnet, superglue\n",
        "\n",
        "Asignment 4k\n",
        "\n",
        "https://github.com/SenWu/emmental-tutorials/tree/master/superglue"
      ]
    },
    {
      "cell_type": "code",
      "metadata": {
        "id": "0xVbjBKQ9PER"
      },
      "source": [
        ""
      ],
      "execution_count": null,
      "outputs": []
    }
  ]
}