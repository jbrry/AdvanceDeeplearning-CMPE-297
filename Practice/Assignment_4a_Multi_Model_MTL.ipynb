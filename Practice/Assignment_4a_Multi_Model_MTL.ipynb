{
  "nbformat": 4,
  "nbformat_minor": 0,
  "metadata": {
    "colab": {
      "name": "Assignment_4a_Multi_Model_MTL.ipynb",
      "provenance": [],
      "authorship_tag": "ABX9TyOoHK9U4yuejv4T/A6xGVZQ",
      "include_colab_link": true
    },
    "kernelspec": {
      "name": "python3",
      "display_name": "Python 3"
    }
  },
  "cells": [
    {
      "cell_type": "markdown",
      "metadata": {
        "id": "view-in-github",
        "colab_type": "text"
      },
      "source": [
        "<a href=\"https://colab.research.google.com/github/s-c-soma/AdvanceDeeplearning-CMPE-297/blob/master/Practice/Assignment_4a_Multi_Model_MTL.ipynb\" target=\"_parent\"><img src=\"https://colab.research.google.com/assets/colab-badge.svg\" alt=\"Open In Colab\"/></a>"
      ]
    },
    {
      "cell_type": "markdown",
      "metadata": {
        "id": "qYd8I6mU_ssB"
      },
      "source": [
        "# pre trained multi model multi task learning model from ibm\n",
        "Assignment 4a \n",
        "\n",
        "https://github.com/subho406/OmniNet"
      ]
    }
  ]
}