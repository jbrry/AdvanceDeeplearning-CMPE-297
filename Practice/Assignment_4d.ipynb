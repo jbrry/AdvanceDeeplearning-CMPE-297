{
  "nbformat": 4,
  "nbformat_minor": 0,
  "metadata": {
    "colab": {
      "name": "Assignment_4d.ipynb",
      "provenance": [],
      "machine_shape": "hm",
      "authorship_tag": "ABX9TyMJ+rC4ZfGUYl/GOMttcUXz",
      "include_colab_link": true
    },
    "kernelspec": {
      "name": "python3",
      "display_name": "Python 3"
    },
    "accelerator": "GPU",
    "widgets": {
      "application/vnd.jupyter.widget-state+json": {
        "159da4ffe82a4b71a7fa9a12018031ab": {
          "model_module": "@jupyter-widgets/controls",
          "model_name": "HBoxModel",
          "state": {
            "_view_name": "HBoxView",
            "_dom_classes": [],
            "_model_name": "HBoxModel",
            "_view_module": "@jupyter-widgets/controls",
            "_model_module_version": "1.5.0",
            "_view_count": null,
            "_view_module_version": "1.5.0",
            "box_style": "",
            "layout": "IPY_MODEL_61db8e38c0be4cea86ea170de20eae49",
            "_model_module": "@jupyter-widgets/controls",
            "children": [
              "IPY_MODEL_85537155faf443bc92af9c13fd346683",
              "IPY_MODEL_695dbb9b5b9e4bb4bab5805007be1bc1"
            ]
          }
        },
        "61db8e38c0be4cea86ea170de20eae49": {
          "model_module": "@jupyter-widgets/base",
          "model_name": "LayoutModel",
          "state": {
            "_view_name": "LayoutView",
            "grid_template_rows": null,
            "right": null,
            "justify_content": null,
            "_view_module": "@jupyter-widgets/base",
            "overflow": null,
            "_model_module_version": "1.2.0",
            "_view_count": null,
            "flex_flow": null,
            "width": null,
            "min_width": null,
            "border": null,
            "align_items": null,
            "bottom": null,
            "_model_module": "@jupyter-widgets/base",
            "top": null,
            "grid_column": null,
            "overflow_y": null,
            "overflow_x": null,
            "grid_auto_flow": null,
            "grid_area": null,
            "grid_template_columns": null,
            "flex": null,
            "_model_name": "LayoutModel",
            "justify_items": null,
            "grid_row": null,
            "max_height": null,
            "align_content": null,
            "visibility": null,
            "align_self": null,
            "height": null,
            "min_height": null,
            "padding": null,
            "grid_auto_rows": null,
            "grid_gap": null,
            "max_width": null,
            "order": null,
            "_view_module_version": "1.2.0",
            "grid_template_areas": null,
            "object_position": null,
            "object_fit": null,
            "grid_auto_columns": null,
            "margin": null,
            "display": null,
            "left": null
          }
        },
        "85537155faf443bc92af9c13fd346683": {
          "model_module": "@jupyter-widgets/controls",
          "model_name": "FloatProgressModel",
          "state": {
            "_view_name": "ProgressView",
            "style": "IPY_MODEL_0d9ef5d7d6af488da45b424fd6d76666",
            "_dom_classes": [],
            "description": "Epoch 1 train: 100%",
            "_model_name": "FloatProgressModel",
            "bar_style": "success",
            "max": 5,
            "_view_module": "@jupyter-widgets/controls",
            "_model_module_version": "1.5.0",
            "value": 5,
            "_view_count": null,
            "_view_module_version": "1.5.0",
            "orientation": "horizontal",
            "min": 0,
            "description_tooltip": null,
            "_model_module": "@jupyter-widgets/controls",
            "layout": "IPY_MODEL_5428a0996d834624a7f7326fd883f95c"
          }
        },
        "695dbb9b5b9e4bb4bab5805007be1bc1": {
          "model_module": "@jupyter-widgets/controls",
          "model_name": "HTMLModel",
          "state": {
            "_view_name": "HTMLView",
            "style": "IPY_MODEL_7489eddb97b842fe9ec9de930a27d148",
            "_dom_classes": [],
            "description": "",
            "_model_name": "HTMLModel",
            "placeholder": "​",
            "_view_module": "@jupyter-widgets/controls",
            "_model_module_version": "1.5.0",
            "value": " 5/5 [00:40&lt;00:00,  8.08s/it]",
            "_view_count": null,
            "_view_module_version": "1.5.0",
            "description_tooltip": null,
            "_model_module": "@jupyter-widgets/controls",
            "layout": "IPY_MODEL_3f019ba33e4247db883fd4f4f4cac630"
          }
        },
        "0d9ef5d7d6af488da45b424fd6d76666": {
          "model_module": "@jupyter-widgets/controls",
          "model_name": "ProgressStyleModel",
          "state": {
            "_view_name": "StyleView",
            "_model_name": "ProgressStyleModel",
            "description_width": "initial",
            "_view_module": "@jupyter-widgets/base",
            "_model_module_version": "1.5.0",
            "_view_count": null,
            "_view_module_version": "1.2.0",
            "bar_color": null,
            "_model_module": "@jupyter-widgets/controls"
          }
        },
        "5428a0996d834624a7f7326fd883f95c": {
          "model_module": "@jupyter-widgets/base",
          "model_name": "LayoutModel",
          "state": {
            "_view_name": "LayoutView",
            "grid_template_rows": null,
            "right": null,
            "justify_content": null,
            "_view_module": "@jupyter-widgets/base",
            "overflow": null,
            "_model_module_version": "1.2.0",
            "_view_count": null,
            "flex_flow": null,
            "width": null,
            "min_width": null,
            "border": null,
            "align_items": null,
            "bottom": null,
            "_model_module": "@jupyter-widgets/base",
            "top": null,
            "grid_column": null,
            "overflow_y": null,
            "overflow_x": null,
            "grid_auto_flow": null,
            "grid_area": null,
            "grid_template_columns": null,
            "flex": null,
            "_model_name": "LayoutModel",
            "justify_items": null,
            "grid_row": null,
            "max_height": null,
            "align_content": null,
            "visibility": null,
            "align_self": null,
            "height": null,
            "min_height": null,
            "padding": null,
            "grid_auto_rows": null,
            "grid_gap": null,
            "max_width": null,
            "order": null,
            "_view_module_version": "1.2.0",
            "grid_template_areas": null,
            "object_position": null,
            "object_fit": null,
            "grid_auto_columns": null,
            "margin": null,
            "display": null,
            "left": null
          }
        },
        "7489eddb97b842fe9ec9de930a27d148": {
          "model_module": "@jupyter-widgets/controls",
          "model_name": "DescriptionStyleModel",
          "state": {
            "_view_name": "StyleView",
            "_model_name": "DescriptionStyleModel",
            "description_width": "",
            "_view_module": "@jupyter-widgets/base",
            "_model_module_version": "1.5.0",
            "_view_count": null,
            "_view_module_version": "1.2.0",
            "_model_module": "@jupyter-widgets/controls"
          }
        },
        "3f019ba33e4247db883fd4f4f4cac630": {
          "model_module": "@jupyter-widgets/base",
          "model_name": "LayoutModel",
          "state": {
            "_view_name": "LayoutView",
            "grid_template_rows": null,
            "right": null,
            "justify_content": null,
            "_view_module": "@jupyter-widgets/base",
            "overflow": null,
            "_model_module_version": "1.2.0",
            "_view_count": null,
            "flex_flow": null,
            "width": null,
            "min_width": null,
            "border": null,
            "align_items": null,
            "bottom": null,
            "_model_module": "@jupyter-widgets/base",
            "top": null,
            "grid_column": null,
            "overflow_y": null,
            "overflow_x": null,
            "grid_auto_flow": null,
            "grid_area": null,
            "grid_template_columns": null,
            "flex": null,
            "_model_name": "LayoutModel",
            "justify_items": null,
            "grid_row": null,
            "max_height": null,
            "align_content": null,
            "visibility": null,
            "align_self": null,
            "height": null,
            "min_height": null,
            "padding": null,
            "grid_auto_rows": null,
            "grid_gap": null,
            "max_width": null,
            "order": null,
            "_view_module_version": "1.2.0",
            "grid_template_areas": null,
            "object_position": null,
            "object_fit": null,
            "grid_auto_columns": null,
            "margin": null,
            "display": null,
            "left": null
          }
        },
        "c24385ab7ccf43b09069292ce6d7bf30": {
          "model_module": "@jupyter-widgets/controls",
          "model_name": "HBoxModel",
          "state": {
            "_view_name": "HBoxView",
            "_dom_classes": [],
            "_model_name": "HBoxModel",
            "_view_module": "@jupyter-widgets/controls",
            "_model_module_version": "1.5.0",
            "_view_count": null,
            "_view_module_version": "1.5.0",
            "box_style": "",
            "layout": "IPY_MODEL_5eb52346f3734e0189b8a1fc8cc9a5c4",
            "_model_module": "@jupyter-widgets/controls",
            "children": [
              "IPY_MODEL_c30c566dc50648bbbc1e90d4e158327a",
              "IPY_MODEL_7e4d074fcc4b4c98a94cbdffa721c5ab"
            ]
          }
        },
        "5eb52346f3734e0189b8a1fc8cc9a5c4": {
          "model_module": "@jupyter-widgets/base",
          "model_name": "LayoutModel",
          "state": {
            "_view_name": "LayoutView",
            "grid_template_rows": null,
            "right": null,
            "justify_content": null,
            "_view_module": "@jupyter-widgets/base",
            "overflow": null,
            "_model_module_version": "1.2.0",
            "_view_count": null,
            "flex_flow": null,
            "width": null,
            "min_width": null,
            "border": null,
            "align_items": null,
            "bottom": null,
            "_model_module": "@jupyter-widgets/base",
            "top": null,
            "grid_column": null,
            "overflow_y": null,
            "overflow_x": null,
            "grid_auto_flow": null,
            "grid_area": null,
            "grid_template_columns": null,
            "flex": null,
            "_model_name": "LayoutModel",
            "justify_items": null,
            "grid_row": null,
            "max_height": null,
            "align_content": null,
            "visibility": null,
            "align_self": null,
            "height": null,
            "min_height": null,
            "padding": null,
            "grid_auto_rows": null,
            "grid_gap": null,
            "max_width": null,
            "order": null,
            "_view_module_version": "1.2.0",
            "grid_template_areas": null,
            "object_position": null,
            "object_fit": null,
            "grid_auto_columns": null,
            "margin": null,
            "display": null,
            "left": null
          }
        },
        "c30c566dc50648bbbc1e90d4e158327a": {
          "model_module": "@jupyter-widgets/controls",
          "model_name": "FloatProgressModel",
          "state": {
            "_view_name": "ProgressView",
            "style": "IPY_MODEL_c26adbe5290c4d7c8b3f4ad405ea2f5f",
            "_dom_classes": [],
            "description": "Epoch 2 train: 100%",
            "_model_name": "FloatProgressModel",
            "bar_style": "success",
            "max": 5,
            "_view_module": "@jupyter-widgets/controls",
            "_model_module_version": "1.5.0",
            "value": 5,
            "_view_count": null,
            "_view_module_version": "1.5.0",
            "orientation": "horizontal",
            "min": 0,
            "description_tooltip": null,
            "_model_module": "@jupyter-widgets/controls",
            "layout": "IPY_MODEL_e2a2c2c7b15e459781adb672340115d7"
          }
        },
        "7e4d074fcc4b4c98a94cbdffa721c5ab": {
          "model_module": "@jupyter-widgets/controls",
          "model_name": "HTMLModel",
          "state": {
            "_view_name": "HTMLView",
            "style": "IPY_MODEL_0cd5c643d1cd4ec78683e2675de54fdb",
            "_dom_classes": [],
            "description": "",
            "_model_name": "HTMLModel",
            "placeholder": "​",
            "_view_module": "@jupyter-widgets/controls",
            "_model_module_version": "1.5.0",
            "value": " 5/5 [00:01&lt;00:00,  3.96it/s]",
            "_view_count": null,
            "_view_module_version": "1.5.0",
            "description_tooltip": null,
            "_model_module": "@jupyter-widgets/controls",
            "layout": "IPY_MODEL_14f1434eb66a41bf97586b24c83b6af6"
          }
        },
        "c26adbe5290c4d7c8b3f4ad405ea2f5f": {
          "model_module": "@jupyter-widgets/controls",
          "model_name": "ProgressStyleModel",
          "state": {
            "_view_name": "StyleView",
            "_model_name": "ProgressStyleModel",
            "description_width": "initial",
            "_view_module": "@jupyter-widgets/base",
            "_model_module_version": "1.5.0",
            "_view_count": null,
            "_view_module_version": "1.2.0",
            "bar_color": null,
            "_model_module": "@jupyter-widgets/controls"
          }
        },
        "e2a2c2c7b15e459781adb672340115d7": {
          "model_module": "@jupyter-widgets/base",
          "model_name": "LayoutModel",
          "state": {
            "_view_name": "LayoutView",
            "grid_template_rows": null,
            "right": null,
            "justify_content": null,
            "_view_module": "@jupyter-widgets/base",
            "overflow": null,
            "_model_module_version": "1.2.0",
            "_view_count": null,
            "flex_flow": null,
            "width": null,
            "min_width": null,
            "border": null,
            "align_items": null,
            "bottom": null,
            "_model_module": "@jupyter-widgets/base",
            "top": null,
            "grid_column": null,
            "overflow_y": null,
            "overflow_x": null,
            "grid_auto_flow": null,
            "grid_area": null,
            "grid_template_columns": null,
            "flex": null,
            "_model_name": "LayoutModel",
            "justify_items": null,
            "grid_row": null,
            "max_height": null,
            "align_content": null,
            "visibility": null,
            "align_self": null,
            "height": null,
            "min_height": null,
            "padding": null,
            "grid_auto_rows": null,
            "grid_gap": null,
            "max_width": null,
            "order": null,
            "_view_module_version": "1.2.0",
            "grid_template_areas": null,
            "object_position": null,
            "object_fit": null,
            "grid_auto_columns": null,
            "margin": null,
            "display": null,
            "left": null
          }
        },
        "0cd5c643d1cd4ec78683e2675de54fdb": {
          "model_module": "@jupyter-widgets/controls",
          "model_name": "DescriptionStyleModel",
          "state": {
            "_view_name": "StyleView",
            "_model_name": "DescriptionStyleModel",
            "description_width": "",
            "_view_module": "@jupyter-widgets/base",
            "_model_module_version": "1.5.0",
            "_view_count": null,
            "_view_module_version": "1.2.0",
            "_model_module": "@jupyter-widgets/controls"
          }
        },
        "14f1434eb66a41bf97586b24c83b6af6": {
          "model_module": "@jupyter-widgets/base",
          "model_name": "LayoutModel",
          "state": {
            "_view_name": "LayoutView",
            "grid_template_rows": null,
            "right": null,
            "justify_content": null,
            "_view_module": "@jupyter-widgets/base",
            "overflow": null,
            "_model_module_version": "1.2.0",
            "_view_count": null,
            "flex_flow": null,
            "width": null,
            "min_width": null,
            "border": null,
            "align_items": null,
            "bottom": null,
            "_model_module": "@jupyter-widgets/base",
            "top": null,
            "grid_column": null,
            "overflow_y": null,
            "overflow_x": null,
            "grid_auto_flow": null,
            "grid_area": null,
            "grid_template_columns": null,
            "flex": null,
            "_model_name": "LayoutModel",
            "justify_items": null,
            "grid_row": null,
            "max_height": null,
            "align_content": null,
            "visibility": null,
            "align_self": null,
            "height": null,
            "min_height": null,
            "padding": null,
            "grid_auto_rows": null,
            "grid_gap": null,
            "max_width": null,
            "order": null,
            "_view_module_version": "1.2.0",
            "grid_template_areas": null,
            "object_position": null,
            "object_fit": null,
            "grid_auto_columns": null,
            "margin": null,
            "display": null,
            "left": null
          }
        },
        "1c33edbcc24945dd963c4231ea1ccd63": {
          "model_module": "@jupyter-widgets/controls",
          "model_name": "HBoxModel",
          "state": {
            "_view_name": "HBoxView",
            "_dom_classes": [],
            "_model_name": "HBoxModel",
            "_view_module": "@jupyter-widgets/controls",
            "_model_module_version": "1.5.0",
            "_view_count": null,
            "_view_module_version": "1.5.0",
            "box_style": "",
            "layout": "IPY_MODEL_0da87a8b68aa4ae6bb9cd9c4e774178f",
            "_model_module": "@jupyter-widgets/controls",
            "children": [
              "IPY_MODEL_4e84f96e782442fbb2f7abd72836ce19",
              "IPY_MODEL_44b662c859f2454f9c7cb7b0aa13cf05"
            ]
          }
        },
        "0da87a8b68aa4ae6bb9cd9c4e774178f": {
          "model_module": "@jupyter-widgets/base",
          "model_name": "LayoutModel",
          "state": {
            "_view_name": "LayoutView",
            "grid_template_rows": null,
            "right": null,
            "justify_content": null,
            "_view_module": "@jupyter-widgets/base",
            "overflow": null,
            "_model_module_version": "1.2.0",
            "_view_count": null,
            "flex_flow": null,
            "width": null,
            "min_width": null,
            "border": null,
            "align_items": null,
            "bottom": null,
            "_model_module": "@jupyter-widgets/base",
            "top": null,
            "grid_column": null,
            "overflow_y": null,
            "overflow_x": null,
            "grid_auto_flow": null,
            "grid_area": null,
            "grid_template_columns": null,
            "flex": null,
            "_model_name": "LayoutModel",
            "justify_items": null,
            "grid_row": null,
            "max_height": null,
            "align_content": null,
            "visibility": null,
            "align_self": null,
            "height": null,
            "min_height": null,
            "padding": null,
            "grid_auto_rows": null,
            "grid_gap": null,
            "max_width": null,
            "order": null,
            "_view_module_version": "1.2.0",
            "grid_template_areas": null,
            "object_position": null,
            "object_fit": null,
            "grid_auto_columns": null,
            "margin": null,
            "display": null,
            "left": null
          }
        },
        "4e84f96e782442fbb2f7abd72836ce19": {
          "model_module": "@jupyter-widgets/controls",
          "model_name": "FloatProgressModel",
          "state": {
            "_view_name": "ProgressView",
            "style": "IPY_MODEL_469edd56dd2d45448ab793a89fc99e3b",
            "_dom_classes": [],
            "description": "Epoch 3 train: 100%",
            "_model_name": "FloatProgressModel",
            "bar_style": "success",
            "max": 5,
            "_view_module": "@jupyter-widgets/controls",
            "_model_module_version": "1.5.0",
            "value": 5,
            "_view_count": null,
            "_view_module_version": "1.5.0",
            "orientation": "horizontal",
            "min": 0,
            "description_tooltip": null,
            "_model_module": "@jupyter-widgets/controls",
            "layout": "IPY_MODEL_7ca564226f2b44089d361e1fa122f671"
          }
        },
        "44b662c859f2454f9c7cb7b0aa13cf05": {
          "model_module": "@jupyter-widgets/controls",
          "model_name": "HTMLModel",
          "state": {
            "_view_name": "HTMLView",
            "style": "IPY_MODEL_fcad92865a33420bb47216a6d7e42b65",
            "_dom_classes": [],
            "description": "",
            "_model_name": "HTMLModel",
            "placeholder": "​",
            "_view_module": "@jupyter-widgets/controls",
            "_model_module_version": "1.5.0",
            "value": " 5/5 [00:00&lt;00:00,  7.85it/s]",
            "_view_count": null,
            "_view_module_version": "1.5.0",
            "description_tooltip": null,
            "_model_module": "@jupyter-widgets/controls",
            "layout": "IPY_MODEL_6c671fc89f404a30813dea1aaa90a4b4"
          }
        },
        "469edd56dd2d45448ab793a89fc99e3b": {
          "model_module": "@jupyter-widgets/controls",
          "model_name": "ProgressStyleModel",
          "state": {
            "_view_name": "StyleView",
            "_model_name": "ProgressStyleModel",
            "description_width": "initial",
            "_view_module": "@jupyter-widgets/base",
            "_model_module_version": "1.5.0",
            "_view_count": null,
            "_view_module_version": "1.2.0",
            "bar_color": null,
            "_model_module": "@jupyter-widgets/controls"
          }
        },
        "7ca564226f2b44089d361e1fa122f671": {
          "model_module": "@jupyter-widgets/base",
          "model_name": "LayoutModel",
          "state": {
            "_view_name": "LayoutView",
            "grid_template_rows": null,
            "right": null,
            "justify_content": null,
            "_view_module": "@jupyter-widgets/base",
            "overflow": null,
            "_model_module_version": "1.2.0",
            "_view_count": null,
            "flex_flow": null,
            "width": null,
            "min_width": null,
            "border": null,
            "align_items": null,
            "bottom": null,
            "_model_module": "@jupyter-widgets/base",
            "top": null,
            "grid_column": null,
            "overflow_y": null,
            "overflow_x": null,
            "grid_auto_flow": null,
            "grid_area": null,
            "grid_template_columns": null,
            "flex": null,
            "_model_name": "LayoutModel",
            "justify_items": null,
            "grid_row": null,
            "max_height": null,
            "align_content": null,
            "visibility": null,
            "align_self": null,
            "height": null,
            "min_height": null,
            "padding": null,
            "grid_auto_rows": null,
            "grid_gap": null,
            "max_width": null,
            "order": null,
            "_view_module_version": "1.2.0",
            "grid_template_areas": null,
            "object_position": null,
            "object_fit": null,
            "grid_auto_columns": null,
            "margin": null,
            "display": null,
            "left": null
          }
        },
        "fcad92865a33420bb47216a6d7e42b65": {
          "model_module": "@jupyter-widgets/controls",
          "model_name": "DescriptionStyleModel",
          "state": {
            "_view_name": "StyleView",
            "_model_name": "DescriptionStyleModel",
            "description_width": "",
            "_view_module": "@jupyter-widgets/base",
            "_model_module_version": "1.5.0",
            "_view_count": null,
            "_view_module_version": "1.2.0",
            "_model_module": "@jupyter-widgets/controls"
          }
        },
        "6c671fc89f404a30813dea1aaa90a4b4": {
          "model_module": "@jupyter-widgets/base",
          "model_name": "LayoutModel",
          "state": {
            "_view_name": "LayoutView",
            "grid_template_rows": null,
            "right": null,
            "justify_content": null,
            "_view_module": "@jupyter-widgets/base",
            "overflow": null,
            "_model_module_version": "1.2.0",
            "_view_count": null,
            "flex_flow": null,
            "width": null,
            "min_width": null,
            "border": null,
            "align_items": null,
            "bottom": null,
            "_model_module": "@jupyter-widgets/base",
            "top": null,
            "grid_column": null,
            "overflow_y": null,
            "overflow_x": null,
            "grid_auto_flow": null,
            "grid_area": null,
            "grid_template_columns": null,
            "flex": null,
            "_model_name": "LayoutModel",
            "justify_items": null,
            "grid_row": null,
            "max_height": null,
            "align_content": null,
            "visibility": null,
            "align_self": null,
            "height": null,
            "min_height": null,
            "padding": null,
            "grid_auto_rows": null,
            "grid_gap": null,
            "max_width": null,
            "order": null,
            "_view_module_version": "1.2.0",
            "grid_template_areas": null,
            "object_position": null,
            "object_fit": null,
            "grid_auto_columns": null,
            "margin": null,
            "display": null,
            "left": null
          }
        },
        "630151e1c8104bd7b542db8df6b54956": {
          "model_module": "@jupyter-widgets/controls",
          "model_name": "HBoxModel",
          "state": {
            "_view_name": "HBoxView",
            "_dom_classes": [],
            "_model_name": "HBoxModel",
            "_view_module": "@jupyter-widgets/controls",
            "_model_module_version": "1.5.0",
            "_view_count": null,
            "_view_module_version": "1.5.0",
            "box_style": "",
            "layout": "IPY_MODEL_c12957950c8a4f1a83be3f167007e2ac",
            "_model_module": "@jupyter-widgets/controls",
            "children": [
              "IPY_MODEL_cef0dfafcfa64bfc8c7186d1c519d79c",
              "IPY_MODEL_26c72fc97a364016b72af764e19a0982"
            ]
          }
        },
        "c12957950c8a4f1a83be3f167007e2ac": {
          "model_module": "@jupyter-widgets/base",
          "model_name": "LayoutModel",
          "state": {
            "_view_name": "LayoutView",
            "grid_template_rows": null,
            "right": null,
            "justify_content": null,
            "_view_module": "@jupyter-widgets/base",
            "overflow": null,
            "_model_module_version": "1.2.0",
            "_view_count": null,
            "flex_flow": null,
            "width": null,
            "min_width": null,
            "border": null,
            "align_items": null,
            "bottom": null,
            "_model_module": "@jupyter-widgets/base",
            "top": null,
            "grid_column": null,
            "overflow_y": null,
            "overflow_x": null,
            "grid_auto_flow": null,
            "grid_area": null,
            "grid_template_columns": null,
            "flex": null,
            "_model_name": "LayoutModel",
            "justify_items": null,
            "grid_row": null,
            "max_height": null,
            "align_content": null,
            "visibility": null,
            "align_self": null,
            "height": null,
            "min_height": null,
            "padding": null,
            "grid_auto_rows": null,
            "grid_gap": null,
            "max_width": null,
            "order": null,
            "_view_module_version": "1.2.0",
            "grid_template_areas": null,
            "object_position": null,
            "object_fit": null,
            "grid_auto_columns": null,
            "margin": null,
            "display": null,
            "left": null
          }
        },
        "cef0dfafcfa64bfc8c7186d1c519d79c": {
          "model_module": "@jupyter-widgets/controls",
          "model_name": "FloatProgressModel",
          "state": {
            "_view_name": "ProgressView",
            "style": "IPY_MODEL_f996988a2f044e22893f9568cea91475",
            "_dom_classes": [],
            "description": "Epoch 4 train: 100%",
            "_model_name": "FloatProgressModel",
            "bar_style": "success",
            "max": 5,
            "_view_module": "@jupyter-widgets/controls",
            "_model_module_version": "1.5.0",
            "value": 5,
            "_view_count": null,
            "_view_module_version": "1.5.0",
            "orientation": "horizontal",
            "min": 0,
            "description_tooltip": null,
            "_model_module": "@jupyter-widgets/controls",
            "layout": "IPY_MODEL_94e1419eb05a4ea28059bb9afbfd7f81"
          }
        },
        "26c72fc97a364016b72af764e19a0982": {
          "model_module": "@jupyter-widgets/controls",
          "model_name": "HTMLModel",
          "state": {
            "_view_name": "HTMLView",
            "style": "IPY_MODEL_7a98100c6a8e41d7b6e2568bbcf0d8d9",
            "_dom_classes": [],
            "description": "",
            "_model_name": "HTMLModel",
            "placeholder": "​",
            "_view_module": "@jupyter-widgets/controls",
            "_model_module_version": "1.5.0",
            "value": " 5/5 [00:38&lt;00:00,  7.70s/it]",
            "_view_count": null,
            "_view_module_version": "1.5.0",
            "description_tooltip": null,
            "_model_module": "@jupyter-widgets/controls",
            "layout": "IPY_MODEL_270ce5684f4d45f895f5f49176358e97"
          }
        },
        "f996988a2f044e22893f9568cea91475": {
          "model_module": "@jupyter-widgets/controls",
          "model_name": "ProgressStyleModel",
          "state": {
            "_view_name": "StyleView",
            "_model_name": "ProgressStyleModel",
            "description_width": "initial",
            "_view_module": "@jupyter-widgets/base",
            "_model_module_version": "1.5.0",
            "_view_count": null,
            "_view_module_version": "1.2.0",
            "bar_color": null,
            "_model_module": "@jupyter-widgets/controls"
          }
        },
        "94e1419eb05a4ea28059bb9afbfd7f81": {
          "model_module": "@jupyter-widgets/base",
          "model_name": "LayoutModel",
          "state": {
            "_view_name": "LayoutView",
            "grid_template_rows": null,
            "right": null,
            "justify_content": null,
            "_view_module": "@jupyter-widgets/base",
            "overflow": null,
            "_model_module_version": "1.2.0",
            "_view_count": null,
            "flex_flow": null,
            "width": null,
            "min_width": null,
            "border": null,
            "align_items": null,
            "bottom": null,
            "_model_module": "@jupyter-widgets/base",
            "top": null,
            "grid_column": null,
            "overflow_y": null,
            "overflow_x": null,
            "grid_auto_flow": null,
            "grid_area": null,
            "grid_template_columns": null,
            "flex": null,
            "_model_name": "LayoutModel",
            "justify_items": null,
            "grid_row": null,
            "max_height": null,
            "align_content": null,
            "visibility": null,
            "align_self": null,
            "height": null,
            "min_height": null,
            "padding": null,
            "grid_auto_rows": null,
            "grid_gap": null,
            "max_width": null,
            "order": null,
            "_view_module_version": "1.2.0",
            "grid_template_areas": null,
            "object_position": null,
            "object_fit": null,
            "grid_auto_columns": null,
            "margin": null,
            "display": null,
            "left": null
          }
        },
        "7a98100c6a8e41d7b6e2568bbcf0d8d9": {
          "model_module": "@jupyter-widgets/controls",
          "model_name": "DescriptionStyleModel",
          "state": {
            "_view_name": "StyleView",
            "_model_name": "DescriptionStyleModel",
            "description_width": "",
            "_view_module": "@jupyter-widgets/base",
            "_model_module_version": "1.5.0",
            "_view_count": null,
            "_view_module_version": "1.2.0",
            "_model_module": "@jupyter-widgets/controls"
          }
        },
        "270ce5684f4d45f895f5f49176358e97": {
          "model_module": "@jupyter-widgets/base",
          "model_name": "LayoutModel",
          "state": {
            "_view_name": "LayoutView",
            "grid_template_rows": null,
            "right": null,
            "justify_content": null,
            "_view_module": "@jupyter-widgets/base",
            "overflow": null,
            "_model_module_version": "1.2.0",
            "_view_count": null,
            "flex_flow": null,
            "width": null,
            "min_width": null,
            "border": null,
            "align_items": null,
            "bottom": null,
            "_model_module": "@jupyter-widgets/base",
            "top": null,
            "grid_column": null,
            "overflow_y": null,
            "overflow_x": null,
            "grid_auto_flow": null,
            "grid_area": null,
            "grid_template_columns": null,
            "flex": null,
            "_model_name": "LayoutModel",
            "justify_items": null,
            "grid_row": null,
            "max_height": null,
            "align_content": null,
            "visibility": null,
            "align_self": null,
            "height": null,
            "min_height": null,
            "padding": null,
            "grid_auto_rows": null,
            "grid_gap": null,
            "max_width": null,
            "order": null,
            "_view_module_version": "1.2.0",
            "grid_template_areas": null,
            "object_position": null,
            "object_fit": null,
            "grid_auto_columns": null,
            "margin": null,
            "display": null,
            "left": null
          }
        },
        "ada1f25e49ed4ad996fa6f2446102fa1": {
          "model_module": "@jupyter-widgets/controls",
          "model_name": "HBoxModel",
          "state": {
            "_view_name": "HBoxView",
            "_dom_classes": [],
            "_model_name": "HBoxModel",
            "_view_module": "@jupyter-widgets/controls",
            "_model_module_version": "1.5.0",
            "_view_count": null,
            "_view_module_version": "1.5.0",
            "box_style": "",
            "layout": "IPY_MODEL_5dcc18c2592d4ff7ab9ee5482e7aa850",
            "_model_module": "@jupyter-widgets/controls",
            "children": [
              "IPY_MODEL_114645ab7e6949ba98fe5fa7657d9080",
              "IPY_MODEL_59f2103fd0894279959ecada7bef026c"
            ]
          }
        },
        "5dcc18c2592d4ff7ab9ee5482e7aa850": {
          "model_module": "@jupyter-widgets/base",
          "model_name": "LayoutModel",
          "state": {
            "_view_name": "LayoutView",
            "grid_template_rows": null,
            "right": null,
            "justify_content": null,
            "_view_module": "@jupyter-widgets/base",
            "overflow": null,
            "_model_module_version": "1.2.0",
            "_view_count": null,
            "flex_flow": null,
            "width": null,
            "min_width": null,
            "border": null,
            "align_items": null,
            "bottom": null,
            "_model_module": "@jupyter-widgets/base",
            "top": null,
            "grid_column": null,
            "overflow_y": null,
            "overflow_x": null,
            "grid_auto_flow": null,
            "grid_area": null,
            "grid_template_columns": null,
            "flex": null,
            "_model_name": "LayoutModel",
            "justify_items": null,
            "grid_row": null,
            "max_height": null,
            "align_content": null,
            "visibility": null,
            "align_self": null,
            "height": null,
            "min_height": null,
            "padding": null,
            "grid_auto_rows": null,
            "grid_gap": null,
            "max_width": null,
            "order": null,
            "_view_module_version": "1.2.0",
            "grid_template_areas": null,
            "object_position": null,
            "object_fit": null,
            "grid_auto_columns": null,
            "margin": null,
            "display": null,
            "left": null
          }
        },
        "114645ab7e6949ba98fe5fa7657d9080": {
          "model_module": "@jupyter-widgets/controls",
          "model_name": "FloatProgressModel",
          "state": {
            "_view_name": "ProgressView",
            "style": "IPY_MODEL_711ffbe0659447f69bb8034ff0506e49",
            "_dom_classes": [],
            "description": "Epoch 5 train: 100%",
            "_model_name": "FloatProgressModel",
            "bar_style": "success",
            "max": 5,
            "_view_module": "@jupyter-widgets/controls",
            "_model_module_version": "1.5.0",
            "value": 5,
            "_view_count": null,
            "_view_module_version": "1.5.0",
            "orientation": "horizontal",
            "min": 0,
            "description_tooltip": null,
            "_model_module": "@jupyter-widgets/controls",
            "layout": "IPY_MODEL_91cd7dd5d9f04d0b8a57d2ecc4ed0bfc"
          }
        },
        "59f2103fd0894279959ecada7bef026c": {
          "model_module": "@jupyter-widgets/controls",
          "model_name": "HTMLModel",
          "state": {
            "_view_name": "HTMLView",
            "style": "IPY_MODEL_2282a8fd07a345eab7b9feee091aeb3a",
            "_dom_classes": [],
            "description": "",
            "_model_name": "HTMLModel",
            "placeholder": "​",
            "_view_module": "@jupyter-widgets/controls",
            "_model_module_version": "1.5.0",
            "value": " 5/5 [00:37&lt;00:00,  7.56s/it]",
            "_view_count": null,
            "_view_module_version": "1.5.0",
            "description_tooltip": null,
            "_model_module": "@jupyter-widgets/controls",
            "layout": "IPY_MODEL_6b169c6248c049c9ba654514f2d335d4"
          }
        },
        "711ffbe0659447f69bb8034ff0506e49": {
          "model_module": "@jupyter-widgets/controls",
          "model_name": "ProgressStyleModel",
          "state": {
            "_view_name": "StyleView",
            "_model_name": "ProgressStyleModel",
            "description_width": "initial",
            "_view_module": "@jupyter-widgets/base",
            "_model_module_version": "1.5.0",
            "_view_count": null,
            "_view_module_version": "1.2.0",
            "bar_color": null,
            "_model_module": "@jupyter-widgets/controls"
          }
        },
        "91cd7dd5d9f04d0b8a57d2ecc4ed0bfc": {
          "model_module": "@jupyter-widgets/base",
          "model_name": "LayoutModel",
          "state": {
            "_view_name": "LayoutView",
            "grid_template_rows": null,
            "right": null,
            "justify_content": null,
            "_view_module": "@jupyter-widgets/base",
            "overflow": null,
            "_model_module_version": "1.2.0",
            "_view_count": null,
            "flex_flow": null,
            "width": null,
            "min_width": null,
            "border": null,
            "align_items": null,
            "bottom": null,
            "_model_module": "@jupyter-widgets/base",
            "top": null,
            "grid_column": null,
            "overflow_y": null,
            "overflow_x": null,
            "grid_auto_flow": null,
            "grid_area": null,
            "grid_template_columns": null,
            "flex": null,
            "_model_name": "LayoutModel",
            "justify_items": null,
            "grid_row": null,
            "max_height": null,
            "align_content": null,
            "visibility": null,
            "align_self": null,
            "height": null,
            "min_height": null,
            "padding": null,
            "grid_auto_rows": null,
            "grid_gap": null,
            "max_width": null,
            "order": null,
            "_view_module_version": "1.2.0",
            "grid_template_areas": null,
            "object_position": null,
            "object_fit": null,
            "grid_auto_columns": null,
            "margin": null,
            "display": null,
            "left": null
          }
        },
        "2282a8fd07a345eab7b9feee091aeb3a": {
          "model_module": "@jupyter-widgets/controls",
          "model_name": "DescriptionStyleModel",
          "state": {
            "_view_name": "StyleView",
            "_model_name": "DescriptionStyleModel",
            "description_width": "",
            "_view_module": "@jupyter-widgets/base",
            "_model_module_version": "1.5.0",
            "_view_count": null,
            "_view_module_version": "1.2.0",
            "_model_module": "@jupyter-widgets/controls"
          }
        },
        "6b169c6248c049c9ba654514f2d335d4": {
          "model_module": "@jupyter-widgets/base",
          "model_name": "LayoutModel",
          "state": {
            "_view_name": "LayoutView",
            "grid_template_rows": null,
            "right": null,
            "justify_content": null,
            "_view_module": "@jupyter-widgets/base",
            "overflow": null,
            "_model_module_version": "1.2.0",
            "_view_count": null,
            "flex_flow": null,
            "width": null,
            "min_width": null,
            "border": null,
            "align_items": null,
            "bottom": null,
            "_model_module": "@jupyter-widgets/base",
            "top": null,
            "grid_column": null,
            "overflow_y": null,
            "overflow_x": null,
            "grid_auto_flow": null,
            "grid_area": null,
            "grid_template_columns": null,
            "flex": null,
            "_model_name": "LayoutModel",
            "justify_items": null,
            "grid_row": null,
            "max_height": null,
            "align_content": null,
            "visibility": null,
            "align_self": null,
            "height": null,
            "min_height": null,
            "padding": null,
            "grid_auto_rows": null,
            "grid_gap": null,
            "max_width": null,
            "order": null,
            "_view_module_version": "1.2.0",
            "grid_template_areas": null,
            "object_position": null,
            "object_fit": null,
            "grid_auto_columns": null,
            "margin": null,
            "display": null,
            "left": null
          }
        },
        "ffa704aa6d4442db8d869d17a94b7b5b": {
          "model_module": "@jupyter-widgets/controls",
          "model_name": "HBoxModel",
          "state": {
            "_view_name": "HBoxView",
            "_dom_classes": [],
            "_model_name": "HBoxModel",
            "_view_module": "@jupyter-widgets/controls",
            "_model_module_version": "1.5.0",
            "_view_count": null,
            "_view_module_version": "1.5.0",
            "box_style": "",
            "layout": "IPY_MODEL_cce0ad157bb34dddafc1a5b68619c881",
            "_model_module": "@jupyter-widgets/controls",
            "children": [
              "IPY_MODEL_4e19231666e2440bbbeb2f11d1eb7967",
              "IPY_MODEL_ec94184fee4045ff8b8aa5048814d300"
            ]
          }
        },
        "cce0ad157bb34dddafc1a5b68619c881": {
          "model_module": "@jupyter-widgets/base",
          "model_name": "LayoutModel",
          "state": {
            "_view_name": "LayoutView",
            "grid_template_rows": null,
            "right": null,
            "justify_content": null,
            "_view_module": "@jupyter-widgets/base",
            "overflow": null,
            "_model_module_version": "1.2.0",
            "_view_count": null,
            "flex_flow": null,
            "width": null,
            "min_width": null,
            "border": null,
            "align_items": null,
            "bottom": null,
            "_model_module": "@jupyter-widgets/base",
            "top": null,
            "grid_column": null,
            "overflow_y": null,
            "overflow_x": null,
            "grid_auto_flow": null,
            "grid_area": null,
            "grid_template_columns": null,
            "flex": null,
            "_model_name": "LayoutModel",
            "justify_items": null,
            "grid_row": null,
            "max_height": null,
            "align_content": null,
            "visibility": null,
            "align_self": null,
            "height": null,
            "min_height": null,
            "padding": null,
            "grid_auto_rows": null,
            "grid_gap": null,
            "max_width": null,
            "order": null,
            "_view_module_version": "1.2.0",
            "grid_template_areas": null,
            "object_position": null,
            "object_fit": null,
            "grid_auto_columns": null,
            "margin": null,
            "display": null,
            "left": null
          }
        },
        "4e19231666e2440bbbeb2f11d1eb7967": {
          "model_module": "@jupyter-widgets/controls",
          "model_name": "FloatProgressModel",
          "state": {
            "_view_name": "ProgressView",
            "style": "IPY_MODEL_5008197abfbc471dac12a4f90b169a7d",
            "_dom_classes": [],
            "description": "100%",
            "_model_name": "FloatProgressModel",
            "bar_style": "success",
            "max": 1000,
            "_view_module": "@jupyter-widgets/controls",
            "_model_module_version": "1.5.0",
            "value": 1000,
            "_view_count": null,
            "_view_module_version": "1.5.0",
            "orientation": "horizontal",
            "min": 0,
            "description_tooltip": null,
            "_model_module": "@jupyter-widgets/controls",
            "layout": "IPY_MODEL_66d03be9188f434f9fa042c7be976a51"
          }
        },
        "ec94184fee4045ff8b8aa5048814d300": {
          "model_module": "@jupyter-widgets/controls",
          "model_name": "HTMLModel",
          "state": {
            "_view_name": "HTMLView",
            "style": "IPY_MODEL_d17383f92e7b4e34861493be9e53ad42",
            "_dom_classes": [],
            "description": "",
            "_model_name": "HTMLModel",
            "placeholder": "​",
            "_view_module": "@jupyter-widgets/controls",
            "_model_module_version": "1.5.0",
            "value": " 1000/1000 [00:28&lt;00:00, 34.49it/s]",
            "_view_count": null,
            "_view_module_version": "1.5.0",
            "description_tooltip": null,
            "_model_module": "@jupyter-widgets/controls",
            "layout": "IPY_MODEL_def3eec05f6141af85db301d6eebabcd"
          }
        },
        "5008197abfbc471dac12a4f90b169a7d": {
          "model_module": "@jupyter-widgets/controls",
          "model_name": "ProgressStyleModel",
          "state": {
            "_view_name": "StyleView",
            "_model_name": "ProgressStyleModel",
            "description_width": "initial",
            "_view_module": "@jupyter-widgets/base",
            "_model_module_version": "1.5.0",
            "_view_count": null,
            "_view_module_version": "1.2.0",
            "bar_color": null,
            "_model_module": "@jupyter-widgets/controls"
          }
        },
        "66d03be9188f434f9fa042c7be976a51": {
          "model_module": "@jupyter-widgets/base",
          "model_name": "LayoutModel",
          "state": {
            "_view_name": "LayoutView",
            "grid_template_rows": null,
            "right": null,
            "justify_content": null,
            "_view_module": "@jupyter-widgets/base",
            "overflow": null,
            "_model_module_version": "1.2.0",
            "_view_count": null,
            "flex_flow": null,
            "width": null,
            "min_width": null,
            "border": null,
            "align_items": null,
            "bottom": null,
            "_model_module": "@jupyter-widgets/base",
            "top": null,
            "grid_column": null,
            "overflow_y": null,
            "overflow_x": null,
            "grid_auto_flow": null,
            "grid_area": null,
            "grid_template_columns": null,
            "flex": null,
            "_model_name": "LayoutModel",
            "justify_items": null,
            "grid_row": null,
            "max_height": null,
            "align_content": null,
            "visibility": null,
            "align_self": null,
            "height": null,
            "min_height": null,
            "padding": null,
            "grid_auto_rows": null,
            "grid_gap": null,
            "max_width": null,
            "order": null,
            "_view_module_version": "1.2.0",
            "grid_template_areas": null,
            "object_position": null,
            "object_fit": null,
            "grid_auto_columns": null,
            "margin": null,
            "display": null,
            "left": null
          }
        },
        "d17383f92e7b4e34861493be9e53ad42": {
          "model_module": "@jupyter-widgets/controls",
          "model_name": "DescriptionStyleModel",
          "state": {
            "_view_name": "StyleView",
            "_model_name": "DescriptionStyleModel",
            "description_width": "",
            "_view_module": "@jupyter-widgets/base",
            "_model_module_version": "1.5.0",
            "_view_count": null,
            "_view_module_version": "1.2.0",
            "_model_module": "@jupyter-widgets/controls"
          }
        },
        "def3eec05f6141af85db301d6eebabcd": {
          "model_module": "@jupyter-widgets/base",
          "model_name": "LayoutModel",
          "state": {
            "_view_name": "LayoutView",
            "grid_template_rows": null,
            "right": null,
            "justify_content": null,
            "_view_module": "@jupyter-widgets/base",
            "overflow": null,
            "_model_module_version": "1.2.0",
            "_view_count": null,
            "flex_flow": null,
            "width": null,
            "min_width": null,
            "border": null,
            "align_items": null,
            "bottom": null,
            "_model_module": "@jupyter-widgets/base",
            "top": null,
            "grid_column": null,
            "overflow_y": null,
            "overflow_x": null,
            "grid_auto_flow": null,
            "grid_area": null,
            "grid_template_columns": null,
            "flex": null,
            "_model_name": "LayoutModel",
            "justify_items": null,
            "grid_row": null,
            "max_height": null,
            "align_content": null,
            "visibility": null,
            "align_self": null,
            "height": null,
            "min_height": null,
            "padding": null,
            "grid_auto_rows": null,
            "grid_gap": null,
            "max_width": null,
            "order": null,
            "_view_module_version": "1.2.0",
            "grid_template_areas": null,
            "object_position": null,
            "object_fit": null,
            "grid_auto_columns": null,
            "margin": null,
            "display": null,
            "left": null
          }
        }
      }
    }
  },
  "cells": [
    {
      "cell_type": "markdown",
      "metadata": {
        "id": "view-in-github",
        "colab_type": "text"
      },
      "source": [
        "<a href=\"https://colab.research.google.com/github/s-c-soma/AdvanceDeeplearning-CMPE-297/blob/master/Practice/Assignment_4d.ipynb\" target=\"_parent\"><img src=\"https://colab.research.google.com/assets/colab-badge.svg\" alt=\"Open In Colab\"/></a>"
      ]
    },
    {
      "cell_type": "markdown",
      "metadata": {
        "id": "f0N1ZHGgRJni"
      },
      "source": [
        "# Prototype Networks"
      ]
    },
    {
      "cell_type": "markdown",
      "metadata": {
        "id": "uh1W3Lszseoa"
      },
      "source": [
        "##Import libraries"
      ]
    },
    {
      "cell_type": "code",
      "metadata": {
        "id": "F8XY5yCCZCYZ"
      },
      "source": [
        "import numpy as np\n",
        "import matplotlib.pyplot as plt\n",
        "from scipy import ndimage\n",
        "import multiprocessing as mp\n",
        "import os\n",
        "import cv2\n",
        "\n",
        "import torch\n",
        "import torch.nn as nn\n",
        "import torchvision\n",
        "import torch.nn.functional as F\n",
        "import torch.optim as optim\n",
        "from torch.autograd import Variable"
      ],
      "execution_count": 1,
      "outputs": []
    },
    {
      "cell_type": "code",
      "metadata": {
        "id": "X5zGtLpGIziY",
        "outputId": "356f82e1-f73f-4f87-88c3-168028c5bc2b",
        "colab": {
          "base_uri": "https://localhost:8080/"
        }
      },
      "source": [
        "#Check GPU support, please do activate GPU\n",
        "print(torch.cuda.is_available())"
      ],
      "execution_count": 2,
      "outputs": [
        {
          "output_type": "stream",
          "text": [
            "True\n"
          ],
          "name": "stdout"
        }
      ]
    },
    {
      "cell_type": "markdown",
      "metadata": {
        "id": "Ebffp6XBskUN"
      },
      "source": [
        "##Import Omniglot dataset"
      ]
    },
    {
      "cell_type": "markdown",
      "metadata": {
        "id": "5-R_Clr7tEQh"
      },
      "source": [
        "The Omniglot dataset is taken on [the official GitHub repository](https://github.com/brendenlake/omniglot)"
      ]
    },
    {
      "cell_type": "code",
      "metadata": {
        "id": "7aV-Lqty3qTu",
        "outputId": "fb18df3f-6e69-4d01-9f4d-d4895ff91db6",
        "colab": {
          "base_uri": "https://localhost:8080/"
        }
      },
      "source": [
        "!wget https://github.com/brendenlake/omniglot/raw/master/python/images_evaluation.zip\n",
        "\n",
        "!wget https://github.com/brendenlake/omniglot/raw/master/python/images_background.zip"
      ],
      "execution_count": 3,
      "outputs": [
        {
          "output_type": "stream",
          "text": [
            "--2020-10-30 06:50:39--  https://github.com/brendenlake/omniglot/raw/master/python/images_evaluation.zip\n",
            "Resolving github.com (github.com)... 140.82.121.3\n",
            "Connecting to github.com (github.com)|140.82.121.3|:443... connected.\n",
            "HTTP request sent, awaiting response... 302 Found\n",
            "Location: https://raw.githubusercontent.com/brendenlake/omniglot/master/python/images_evaluation.zip [following]\n",
            "--2020-10-30 06:50:40--  https://raw.githubusercontent.com/brendenlake/omniglot/master/python/images_evaluation.zip\n",
            "Resolving raw.githubusercontent.com (raw.githubusercontent.com)... 151.101.0.133, 151.101.64.133, 151.101.128.133, ...\n",
            "Connecting to raw.githubusercontent.com (raw.githubusercontent.com)|151.101.0.133|:443... connected.\n",
            "HTTP request sent, awaiting response... 200 OK\n",
            "Length: 6462886 (6.2M) [application/zip]\n",
            "Saving to: ‘images_evaluation.zip’\n",
            "\n",
            "images_evaluation.z 100%[===================>]   6.16M  --.-KB/s    in 0.1s    \n",
            "\n",
            "2020-10-30 06:50:41 (51.0 MB/s) - ‘images_evaluation.zip’ saved [6462886/6462886]\n",
            "\n",
            "--2020-10-30 06:50:41--  https://github.com/brendenlake/omniglot/raw/master/python/images_background.zip\n",
            "Resolving github.com (github.com)... 140.82.118.4\n",
            "Connecting to github.com (github.com)|140.82.118.4|:443... connected.\n",
            "HTTP request sent, awaiting response... 302 Found\n",
            "Location: https://raw.githubusercontent.com/brendenlake/omniglot/master/python/images_background.zip [following]\n",
            "--2020-10-30 06:50:42--  https://raw.githubusercontent.com/brendenlake/omniglot/master/python/images_background.zip\n",
            "Resolving raw.githubusercontent.com (raw.githubusercontent.com)... 151.101.0.133, 151.101.64.133, 151.101.128.133, ...\n",
            "Connecting to raw.githubusercontent.com (raw.githubusercontent.com)|151.101.0.133|:443... connected.\n",
            "HTTP request sent, awaiting response... 200 OK\n",
            "Length: 9464212 (9.0M) [application/zip]\n",
            "Saving to: ‘images_background.zip’\n",
            "\n",
            "images_background.z 100%[===================>]   9.03M  --.-KB/s    in 0.1s    \n",
            "\n",
            "2020-10-30 06:50:42 (65.9 MB/s) - ‘images_background.zip’ saved [9464212/9464212]\n",
            "\n"
          ],
          "name": "stdout"
        }
      ]
    },
    {
      "cell_type": "code",
      "metadata": {
        "id": "GnYYF9wL6ZuA"
      },
      "source": [
        "!unzip -qq images_background.zip\n",
        "!unzip -qq images_evaluation.zip"
      ],
      "execution_count": 4,
      "outputs": []
    },
    {
      "cell_type": "markdown",
      "metadata": {
        "id": "l33V3V0asntp"
      },
      "source": [
        "##Read data"
      ]
    },
    {
      "cell_type": "markdown",
      "metadata": {
        "id": "bMLu94FStR5n"
      },
      "source": [
        "The Omniglot dataset contains 1,623 different handwritten characters from 50 different alphabets. Each of the 1623 characters was drawn online via Amazon's Mechanical Turk by 20 different people (so 20 examples per character).\n",
        "It is split into a background set of 30 alphabets and an evaluation set of 20 alphabets. We will use the background set for training and the evaluation set for testing."
      ]
    },
    {
      "cell_type": "code",
      "metadata": {
        "id": "U1JXlgXT7aMG"
      },
      "source": [
        "def read_alphabets(alphabet_directory_path, alphabet_directory_name):\n",
        "    \"\"\"\n",
        "    Reads all the characters from a given alphabet_directory\n",
        "    \"\"\"\n",
        "    datax = []\n",
        "    datay = []\n",
        "    characters = os.listdir(alphabet_directory_path)\n",
        "    for character in characters:\n",
        "        images = os.listdir(alphabet_directory_path + character + '/')\n",
        "        for img in images:\n",
        "            image = cv2.resize(\n",
        "                cv2.imread(alphabet_directory_path + character + '/' + img),\n",
        "                (28,28)\n",
        "                )\n",
        "            #rotations of image\n",
        "            rotated_90 = ndimage.rotate(image, 90)\n",
        "            rotated_180 = ndimage.rotate(image, 180)\n",
        "            rotated_270 = ndimage.rotate(image, 270)\n",
        "            datax.extend((image, rotated_90, rotated_180, rotated_270))\n",
        "            datay.extend((\n",
        "                alphabet_directory_name + '_' + character + '_0',\n",
        "                alphabet_directory_name + '_' + character + '_90',\n",
        "                alphabet_directory_name + '_' + character + '_180',\n",
        "                alphabet_directory_name + '_' + character + '_270'\n",
        "            ))\n",
        "    return np.array(datax), np.array(datay)\n",
        "\n",
        "def read_images(base_directory):\n",
        "    \"\"\"\n",
        "    Reads all the alphabets from the base_directory\n",
        "    Uses multithreading to decrease the reading time drastically\n",
        "    \"\"\"\n",
        "    datax = None\n",
        "    datay = None\n",
        "    pool = mp.Pool(mp.cpu_count())\n",
        "    results = [pool.apply(read_alphabets,\n",
        "                          args=(\n",
        "                              base_directory + '/' + directory + '/', directory, \n",
        "                              )) for directory in os.listdir(base_directory)]\n",
        "    pool.close()\n",
        "    for result in results:\n",
        "        if datax is None:\n",
        "            datax = result[0]\n",
        "            datay = result[1]\n",
        "        else:\n",
        "            datax = np.vstack([datax, result[0]])\n",
        "            datay = np.concatenate([datay, result[1]])\n",
        "    return datax, datay"
      ],
      "execution_count": 6,
      "outputs": []
    },
    {
      "cell_type": "code",
      "metadata": {
        "id": "P7UN-n0l7aT0",
        "outputId": "8b6f9630-4062-4bc1-c717-0808a52562eb",
        "colab": {
          "base_uri": "https://localhost:8080/"
        }
      },
      "source": [
        "%%time \n",
        "trainx, trainy = read_images('images_background')"
      ],
      "execution_count": 7,
      "outputs": [
        {
          "output_type": "stream",
          "text": [
            "CPU times: user 758 ms, sys: 400 ms, total: 1.16 s\n",
            "Wall time: 33.2 s\n"
          ],
          "name": "stdout"
        }
      ]
    },
    {
      "cell_type": "code",
      "metadata": {
        "id": "G8urUFzNAaYA",
        "outputId": "6f124410-5049-4a7c-f2e9-37d9a578c9d4",
        "colab": {
          "base_uri": "https://localhost:8080/"
        }
      },
      "source": [
        "%%time \n",
        "testx, testy = read_images('images_evaluation')"
      ],
      "execution_count": 8,
      "outputs": [
        {
          "output_type": "stream",
          "text": [
            "CPU times: user 369 ms, sys: 279 ms, total: 648 ms\n",
            "Wall time: 22.7 s\n"
          ],
          "name": "stdout"
        }
      ]
    },
    {
      "cell_type": "code",
      "metadata": {
        "id": "Li3bT2bPAdih",
        "outputId": "271b69e8-8082-40a8-f0f6-0a988306679c",
        "colab": {
          "base_uri": "https://localhost:8080/"
        }
      },
      "source": [
        "trainx.shape, trainy.shape, testx.shape, testy.shape"
      ],
      "execution_count": 9,
      "outputs": [
        {
          "output_type": "execute_result",
          "data": {
            "text/plain": [
              "((77120, 28, 28, 3), (77120,), (52720, 28, 28, 3), (52720,))"
            ]
          },
          "metadata": {
            "tags": []
          },
          "execution_count": 9
        }
      ]
    },
    {
      "cell_type": "markdown",
      "metadata": {
        "id": "aLWx2XCWwAxx"
      },
      "source": [
        "The training set contains 77,120 images (from 964 * 4 = 3,856 characters in images_background) and the testing set contains 52,720 images (from 659 * 4 = 2,636 characters in images_evaluation)."
      ]
    },
    {
      "cell_type": "markdown",
      "metadata": {
        "id": "J2VcplJ3xA-z"
      },
      "source": [
        "##Create samples"
      ]
    },
    {
      "cell_type": "code",
      "metadata": {
        "id": "oDOhxCjd24bw"
      },
      "source": [
        "def extract_sample(n_way, n_support, n_query, datax, datay):\n",
        "  \"\"\"\n",
        "  Picks random sample of size n_support+n_querry, for n_way classes\n",
        "  Args:\n",
        "      n_way (int): number of classes in a classification task\n",
        "      n_support (int): number of labeled examples per class in the support set\n",
        "      n_query (int): number of labeled examples per class in the query set\n",
        "      datax (np.array): dataset of images\n",
        "      datay (np.array): dataset of labels\n",
        "  Returns:\n",
        "      (dict) of:\n",
        "        (torch.Tensor): sample of images. Size (n_way, n_support+n_query, (dim))\n",
        "        (int): n_way\n",
        "        (int): n_support\n",
        "        (int): n_query\n",
        "  \"\"\"\n",
        "  sample = []\n",
        "  K = np.random.choice(np.unique(datay), n_way, replace=False)\n",
        "  for cls in K:\n",
        "    datax_cls = datax[datay == cls]\n",
        "    perm = np.random.permutation(datax_cls)\n",
        "    sample_cls = perm[:(n_support+n_query)]\n",
        "    sample.append(sample_cls)\n",
        "  sample = np.array(sample)\n",
        "  sample = torch.from_numpy(sample).float()\n",
        "  sample = sample.permute(0,1,4,2,3)\n",
        "  return({\n",
        "      'images': sample,\n",
        "      'n_way': n_way,\n",
        "      'n_support': n_support,\n",
        "      'n_query': n_query\n",
        "      })"
      ],
      "execution_count": 10,
      "outputs": []
    },
    {
      "cell_type": "code",
      "metadata": {
        "id": "ia3JLpQRu4fh"
      },
      "source": [
        "def display_sample(sample):\n",
        "  \"\"\"\n",
        "  Displays sample in a grid\n",
        "  Args:\n",
        "      sample (torch.Tensor): sample of images to display\n",
        "  \"\"\"\n",
        "  #need 4D tensor to create grid, currently 5D\n",
        "  sample_4D = sample.view(sample.shape[0]*sample.shape[1],*sample.shape[2:])\n",
        "  #make a grid\n",
        "  out = torchvision.utils.make_grid(sample_4D, nrow=sample.shape[1])\n",
        "  plt.figure(figsize = (16,7))\n",
        "  plt.imshow(out.permute(1, 2, 0))"
      ],
      "execution_count": 11,
      "outputs": []
    },
    {
      "cell_type": "markdown",
      "metadata": {
        "id": "-uGq_ya4yG2K"
      },
      "source": [
        "As an example, let's pick a sample and display it\n",
        "\n",
        "*   n_way = 8\n",
        "*   n_support = 5\n",
        "*   n_query = 5\n",
        "\n",
        "\n"
      ]
    },
    {
      "cell_type": "code",
      "metadata": {
        "id": "lxOHvWfO1ApZ",
        "outputId": "9b2e6322-9f2a-405f-e58e-837f91eb92b1",
        "colab": {
          "base_uri": "https://localhost:8080/",
          "height": 449
        }
      },
      "source": [
        "sample_example = extract_sample(8, 5, 5, trainx, trainy)\n",
        "display_sample(sample_example['images'])"
      ],
      "execution_count": 12,
      "outputs": [
        {
          "output_type": "stream",
          "text": [
            "Clipping input data to the valid range for imshow with RGB data ([0..1] for floats or [0..255] for integers).\n"
          ],
          "name": "stderr"
        },
        {
          "output_type": "display_data",
          "data": {
            "image/png": "[encoded data removed]",
            "text/plain": [
              "<Figure size 1152x504 with 1 Axes>"
            ]
          },
          "metadata": {
            "tags": [],
            "needs_background": "light"
          }
        }
      ]
    },
    {
      "cell_type": "code",
      "metadata": {
        "id": "RhDNMyG8AjOB",
        "outputId": "5dc7943e-2a33-4268-8a76-ce729a0d4c30",
        "colab": {
          "base_uri": "https://localhost:8080/"
        }
      },
      "source": [
        "sample_example['images'].shape"
      ],
      "execution_count": 13,
      "outputs": [
        {
          "output_type": "execute_result",
          "data": {
            "text/plain": [
              "torch.Size([8, 10, 3, 28, 28])"
            ]
          },
          "metadata": {
            "tags": []
          },
          "execution_count": 13
        }
      ]
    },
    {
      "cell_type": "markdown",
      "metadata": {
        "id": "HbakTT_nFubI"
      },
      "source": [
        "##Build model"
      ]
    },
    {
      "cell_type": "markdown",
      "metadata": {
        "id": "VuvH9joezgja"
      },
      "source": [
        "The embedding part takes a (28x28x3) image and returns a column vector of length 64. The image2vector function is composed of 4 modules. Each module comprises a 64-filter 3 × 3 convolution, a batch normalization layer, a ReLU nonlinearity and a 2 × 2 max-pooling layer. \n",
        "\n",
        "When applied to the 28 × 28 Omniglot images this architecture results in a 64-dimensional output space."
      ]
    },
    {
      "cell_type": "code",
      "metadata": {
        "id": "DBzAfRyJB-3X"
      },
      "source": [
        "class Flatten(nn.Module):\n",
        "  def __init__(self):\n",
        "    super(Flatten, self).__init__()\n",
        "\n",
        "  def forward(self, x):\n",
        "    return x.view(x.size(0), -1)\n",
        "\n",
        "def load_protonet_conv(**kwargs):\n",
        "  \"\"\"\n",
        "  Loads the prototypical network model\n",
        "  Arg:\n",
        "      x_dim (tuple): dimension of input image\n",
        "      hid_dim (int): dimension of hidden layers in conv blocks\n",
        "      z_dim (int): dimension of embedded image\n",
        "  Returns:\n",
        "      Model (Class ProtoNet)\n",
        "  \"\"\"\n",
        "  x_dim = kwargs['x_dim']\n",
        "  hid_dim = kwargs['hid_dim']\n",
        "  z_dim = kwargs['z_dim']\n",
        "\n",
        "  def conv_block(in_channels, out_channels):\n",
        "    return nn.Sequential(\n",
        "        nn.Conv2d(in_channels, out_channels, 3, padding=1),\n",
        "        nn.BatchNorm2d(out_channels),\n",
        "        nn.ReLU(),\n",
        "        nn.MaxPool2d(2)\n",
        "        )\n",
        "    \n",
        "  encoder = nn.Sequential(\n",
        "    conv_block(x_dim[0], hid_dim),\n",
        "    conv_block(hid_dim, hid_dim),\n",
        "    conv_block(hid_dim, hid_dim),\n",
        "    conv_block(hid_dim, z_dim),\n",
        "    Flatten()\n",
        "    )\n",
        "    \n",
        "  return ProtoNet(encoder)"
      ],
      "execution_count": 14,
      "outputs": []
    },
    {
      "cell_type": "code",
      "metadata": {
        "id": "FTjSYAz1WY5e"
      },
      "source": [
        "class ProtoNet(nn.Module):\n",
        "  def __init__(self, encoder):\n",
        "    \"\"\"\n",
        "    Args:\n",
        "        encoder : CNN encoding the images in sample\n",
        "        n_way (int): number of classes in a classification task\n",
        "        n_support (int): number of labeled examples per class in the support set\n",
        "        n_query (int): number of labeled examples per class in the query set\n",
        "    \"\"\"\n",
        "    super(ProtoNet, self).__init__()\n",
        "    self.encoder = encoder.cuda()\n",
        "\n",
        "  def set_forward_loss(self, sample):\n",
        "    \"\"\"\n",
        "    Computes loss, accuracy and output for classification task\n",
        "    Args:\n",
        "        sample (torch.Tensor): shape (n_way, n_support+n_query, (dim)) \n",
        "    Returns:\n",
        "        torch.Tensor: shape(2), loss, accuracy and y_hat\n",
        "    \"\"\"\n",
        "    sample_images = sample['images'].cuda()\n",
        "    n_way = sample['n_way']\n",
        "    n_support = sample['n_support']\n",
        "    n_query = sample['n_query']\n",
        "\n",
        "    x_support = sample_images[:, :n_support]\n",
        "    x_query = sample_images[:, n_support:]\n",
        "   \n",
        "    #target indices are 0 ... n_way-1\n",
        "    target_inds = torch.arange(0, n_way).view(n_way, 1, 1).expand(n_way, n_query, 1).long()\n",
        "    target_inds = Variable(target_inds, requires_grad=False)\n",
        "    target_inds = target_inds.cuda()\n",
        "   \n",
        "    #encode images of the support and the query set\n",
        "    x = torch.cat([x_support.contiguous().view(n_way * n_support, *x_support.size()[2:]),\n",
        "                   x_query.contiguous().view(n_way * n_query, *x_query.size()[2:])], 0)\n",
        "   \n",
        "    z = self.encoder.forward(x)\n",
        "    z_dim = z.size(-1) #usually 64\n",
        "    z_proto = z[:n_way*n_support].view(n_way, n_support, z_dim).mean(1)\n",
        "    z_query = z[n_way*n_support:]\n",
        "\n",
        "    #compute distances\n",
        "    dists = euclidean_dist(z_query, z_proto)\n",
        "    \n",
        "    #compute probabilities\n",
        "    log_p_y = F.log_softmax(-dists, dim=1).view(n_way, n_query, -1)\n",
        "   \n",
        "    loss_val = -log_p_y.gather(2, target_inds).squeeze().view(-1).mean()\n",
        "    _, y_hat = log_p_y.max(2)\n",
        "    acc_val = torch.eq(y_hat, target_inds.squeeze()).float().mean()\n",
        "   \n",
        "    return loss_val, {\n",
        "        'loss': loss_val.item(),\n",
        "        'acc': acc_val.item(),\n",
        "        'y_hat': y_hat\n",
        "        }"
      ],
      "execution_count": 15,
      "outputs": []
    },
    {
      "cell_type": "code",
      "metadata": {
        "id": "Tjf4lqBFB_Ei"
      },
      "source": [
        "def euclidean_dist(x, y):\n",
        "  \"\"\"\n",
        "  Computes euclidean distance btw x and y\n",
        "  Args:\n",
        "      x (torch.Tensor): shape (n, d). n usually n_way*n_query\n",
        "      y (torch.Tensor): shape (m, d). m usually n_way\n",
        "  Returns:\n",
        "      torch.Tensor: shape(n, m). For each query, the distances to each centroid\n",
        "  \"\"\"\n",
        "  n = x.size(0)\n",
        "  m = y.size(0)\n",
        "  d = x.size(1)\n",
        "  assert d == y.size(1)\n",
        "\n",
        "  x = x.unsqueeze(1).expand(n, m, d)\n",
        "  y = y.unsqueeze(0).expand(n, m, d)\n",
        "\n",
        "  return torch.pow(x - y, 2).sum(2)"
      ],
      "execution_count": 16,
      "outputs": []
    },
    {
      "cell_type": "markdown",
      "metadata": {
        "id": "0Fke38yY6pI9"
      },
      "source": [
        "##Train"
      ]
    },
    {
      "cell_type": "code",
      "metadata": {
        "id": "olSQt0vGg_T3"
      },
      "source": [
        "from tqdm import tqdm_notebook\n",
        "from tqdm import tnrange"
      ],
      "execution_count": 17,
      "outputs": []
    },
    {
      "cell_type": "code",
      "metadata": {
        "id": "BnLOgECOKG_y"
      },
      "source": [
        "def train(model, optimizer, train_x, train_y, n_way, n_support, n_query, max_epoch, epoch_size):\n",
        "  \"\"\"\n",
        "  Trains the protonet\n",
        "  Args:\n",
        "      model\n",
        "      optimizer\n",
        "      train_x (np.array): images of training set\n",
        "      train_y(np.array): labels of training set\n",
        "      n_way (int): number of classes in a classification task\n",
        "      n_support (int): number of labeled examples per class in the support set\n",
        "      n_query (int): number of labeled examples per class in the query set\n",
        "      max_epoch (int): max epochs to train on\n",
        "      epoch_size (int): episodes per epoch\n",
        "  \"\"\"\n",
        "  #divide the learning rate by 2 at each epoch, as suggested in paper\n",
        "  scheduler = optim.lr_scheduler.StepLR(optimizer, 1, gamma=0.5, last_epoch=-1)\n",
        "  epoch = 0 #epochs done so far\n",
        "  stop = False #status to know when to stop\n",
        "\n",
        "  while epoch < max_epoch and not stop:\n",
        "    running_loss = 0.0\n",
        "    running_acc = 0.0\n",
        "\n",
        "    for episode in tnrange(epoch_size, desc=\"Epoch {:d} train\".format(epoch+1)):\n",
        "      sample = extract_sample(n_way, n_support, n_query, train_x, train_y)\n",
        "      optimizer.zero_grad()\n",
        "      loss, output = model.set_forward_loss(sample)\n",
        "      running_loss += output['loss']\n",
        "      running_acc += output['acc']\n",
        "      loss.backward()\n",
        "      optimizer.step()\n",
        "    epoch_loss = running_loss / epoch_size\n",
        "    epoch_acc = running_acc / epoch_size\n",
        "    print('Epoch {:d} -- Loss: {:.4f} Acc: {:.4f}'.format(epoch+1,epoch_loss, epoch_acc))\n",
        "    epoch += 1\n",
        "    scheduler.step()"
      ],
      "execution_count": 18,
      "outputs": []
    },
    {
      "cell_type": "markdown",
      "metadata": {
        "id": "-Dz55yINVfwK"
      },
      "source": [
        "epoch size reduced for time concern"
      ]
    },
    {
      "cell_type": "code",
      "metadata": {
        "id": "7uMy99qE-Ed6",
        "outputId": "8f488e01-ca0c-4698-fff6-53c9a8c9b441",
        "colab": {
          "base_uri": "https://localhost:8080/",
          "height": 415,
          "referenced_widgets": [
            "159da4ffe82a4b71a7fa9a12018031ab",
            "61db8e38c0be4cea86ea170de20eae49",
            "85537155faf443bc92af9c13fd346683",
            "695dbb9b5b9e4bb4bab5805007be1bc1",
            "0d9ef5d7d6af488da45b424fd6d76666",
            "5428a0996d834624a7f7326fd883f95c",
            "7489eddb97b842fe9ec9de930a27d148",
            "3f019ba33e4247db883fd4f4f4cac630",
            "c24385ab7ccf43b09069292ce6d7bf30",
            "5eb52346f3734e0189b8a1fc8cc9a5c4",
            "c30c566dc50648bbbc1e90d4e158327a",
            "7e4d074fcc4b4c98a94cbdffa721c5ab",
            "c26adbe5290c4d7c8b3f4ad405ea2f5f",
            "e2a2c2c7b15e459781adb672340115d7",
            "0cd5c643d1cd4ec78683e2675de54fdb",
            "14f1434eb66a41bf97586b24c83b6af6",
            "1c33edbcc24945dd963c4231ea1ccd63",
            "0da87a8b68aa4ae6bb9cd9c4e774178f",
            "4e84f96e782442fbb2f7abd72836ce19",
            "44b662c859f2454f9c7cb7b0aa13cf05",
            "469edd56dd2d45448ab793a89fc99e3b",
            "7ca564226f2b44089d361e1fa122f671",
            "fcad92865a33420bb47216a6d7e42b65",
            "6c671fc89f404a30813dea1aaa90a4b4",
            "630151e1c8104bd7b542db8df6b54956",
            "c12957950c8a4f1a83be3f167007e2ac",
            "cef0dfafcfa64bfc8c7186d1c519d79c",
            "26c72fc97a364016b72af764e19a0982",
            "f996988a2f044e22893f9568cea91475",
            "94e1419eb05a4ea28059bb9afbfd7f81",
            "7a98100c6a8e41d7b6e2568bbcf0d8d9",
            "270ce5684f4d45f895f5f49176358e97",
            "ada1f25e49ed4ad996fa6f2446102fa1",
            "5dcc18c2592d4ff7ab9ee5482e7aa850",
            "114645ab7e6949ba98fe5fa7657d9080",
            "59f2103fd0894279959ecada7bef026c",
            "711ffbe0659447f69bb8034ff0506e49",
            "91cd7dd5d9f04d0b8a57d2ecc4ed0bfc",
            "2282a8fd07a345eab7b9feee091aeb3a",
            "6b169c6248c049c9ba654514f2d335d4"
          ]
        }
      },
      "source": [
        "%%time\n",
        "\n",
        "model = load_protonet_conv(\n",
        "    x_dim=(3,28,28),\n",
        "    hid_dim=64,\n",
        "    z_dim=64,\n",
        "    )\n",
        "\n",
        "optimizer = optim.Adam(model.parameters(), lr = 0.001)\n",
        "\n",
        "n_way = 60\n",
        "n_support = 5\n",
        "n_query = 5\n",
        "\n",
        "train_x = trainx\n",
        "train_y = trainy\n",
        "\n",
        "max_epoch = 5\n",
        "epoch_size = 5#2000\n",
        "\n",
        "train(model, optimizer, train_x, train_y, n_way, n_support, n_query, max_epoch, epoch_size)"
      ],
      "execution_count": 20,
      "outputs": [
        {
          "output_type": "stream",
          "text": [
            "/usr/local/lib/python3.6/dist-packages/ipykernel_launcher.py:24: TqdmDeprecationWarning: Please use `tqdm.notebook.trange` instead of `tqdm.tnrange`\n"
          ],
          "name": "stderr"
        },
        {
          "output_type": "display_data",
          "data": {
            "application/vnd.jupyter.widget-view+json": {
              "model_id": "159da4ffe82a4b71a7fa9a12018031ab",
              "version_minor": 0,
              "version_major": 2
            },
            "text/plain": [
              "HBox(children=(FloatProgress(value=0.0, description='Epoch 1 train', max=5.0, style=ProgressStyle(description_…"
            ]
          },
          "metadata": {
            "tags": []
          }
        },
        {
          "output_type": "stream",
          "text": [
            "\n",
            "Epoch 1 -- Loss: 1.9092 Acc: 0.5420\n"
          ],
          "name": "stdout"
        },
        {
          "output_type": "display_data",
          "data": {
            "application/vnd.jupyter.widget-view+json": {
              "model_id": "c24385ab7ccf43b09069292ce6d7bf30",
              "version_minor": 0,
              "version_major": 2
            },
            "text/plain": [
              "HBox(children=(FloatProgress(value=0.0, description='Epoch 2 train', max=5.0, style=ProgressStyle(description_…"
            ]
          },
          "metadata": {
            "tags": []
          }
        },
        {
          "output_type": "stream",
          "text": [
            "\n",
            "Epoch 2 -- Loss: 0.9518 Acc: 0.7220\n"
          ],
          "name": "stdout"
        },
        {
          "output_type": "display_data",
          "data": {
            "application/vnd.jupyter.widget-view+json": {
              "model_id": "1c33edbcc24945dd963c4231ea1ccd63",
              "version_minor": 0,
              "version_major": 2
            },
            "text/plain": [
              "HBox(children=(FloatProgress(value=0.0, description='Epoch 3 train', max=5.0, style=ProgressStyle(description_…"
            ]
          },
          "metadata": {
            "tags": []
          }
        },
        {
          "output_type": "stream",
          "text": [
            "\n",
            "Epoch 3 -- Loss: 0.8120 Acc: 0.7520\n"
          ],
          "name": "stdout"
        },
        {
          "output_type": "display_data",
          "data": {
            "application/vnd.jupyter.widget-view+json": {
              "model_id": "630151e1c8104bd7b542db8df6b54956",
              "version_minor": 0,
              "version_major": 2
            },
            "text/plain": [
              "HBox(children=(FloatProgress(value=0.0, description='Epoch 4 train', max=5.0, style=ProgressStyle(description_…"
            ]
          },
          "metadata": {
            "tags": []
          }
        },
        {
          "output_type": "stream",
          "text": [
            "\n",
            "Epoch 4 -- Loss: 0.6379 Acc: 0.8120\n"
          ],
          "name": "stdout"
        },
        {
          "output_type": "display_data",
          "data": {
            "application/vnd.jupyter.widget-view+json": {
              "model_id": "ada1f25e49ed4ad996fa6f2446102fa1",
              "version_minor": 0,
              "version_major": 2
            },
            "text/plain": [
              "HBox(children=(FloatProgress(value=0.0, description='Epoch 5 train', max=5.0, style=ProgressStyle(description_…"
            ]
          },
          "metadata": {
            "tags": []
          }
        },
        {
          "output_type": "stream",
          "text": [
            "\n",
            "Epoch 5 -- Loss: 0.7067 Acc: 0.7960\n",
            "CPU times: user 3.49 s, sys: 102 ms, total: 3.59 s\n",
            "Wall time: 3.14 s\n"
          ],
          "name": "stdout"
        }
      ]
    },
    {
      "cell_type": "markdown",
      "metadata": {
        "id": "pJu50gOb8WxU"
      },
      "source": [
        "##Test"
      ]
    },
    {
      "cell_type": "code",
      "metadata": {
        "id": "qCgoOcCaERHH"
      },
      "source": [
        "def test(model, test_x, test_y, n_way, n_support, n_query, test_episode):\n",
        "  \"\"\"\n",
        "  Tests the protonet\n",
        "  Args:\n",
        "      model: trained model\n",
        "      test_x (np.array): images of testing set\n",
        "      test_y (np.array): labels of testing set\n",
        "      n_way (int): number of classes in a classification task\n",
        "      n_support (int): number of labeled examples per class in the support set\n",
        "      n_query (int): number of labeled examples per class in the query set\n",
        "      test_episode (int): number of episodes to test on\n",
        "  \"\"\"\n",
        "  running_loss = 0.0\n",
        "  running_acc = 0.0\n",
        "  for episode in tnrange(test_episode):\n",
        "    sample = extract_sample(n_way, n_support, n_query, test_x, test_y)\n",
        "    loss, output = model.set_forward_loss(sample)\n",
        "    running_loss += output['loss']\n",
        "    running_acc += output['acc']\n",
        "  avg_loss = running_loss / test_episode\n",
        "  avg_acc = running_acc / test_episode\n",
        "  print('Test results -- Loss: {:.4f} Acc: {:.4f}'.format(avg_loss, avg_acc))"
      ],
      "execution_count": 21,
      "outputs": []
    },
    {
      "cell_type": "code",
      "metadata": {
        "id": "yvyja6x3I6JB",
        "outputId": "17574d67-dd36-4011-acc5-4f6d6c7ff6b2",
        "colab": {
          "base_uri": "https://localhost:8080/",
          "height": 136,
          "referenced_widgets": [
            "ffa704aa6d4442db8d869d17a94b7b5b",
            "cce0ad157bb34dddafc1a5b68619c881",
            "4e19231666e2440bbbeb2f11d1eb7967",
            "ec94184fee4045ff8b8aa5048814d300",
            "5008197abfbc471dac12a4f90b169a7d",
            "66d03be9188f434f9fa042c7be976a51",
            "d17383f92e7b4e34861493be9e53ad42",
            "def3eec05f6141af85db301d6eebabcd"
          ]
        }
      },
      "source": [
        "n_way = 5\n",
        "n_support = 5\n",
        "n_query = 5\n",
        "\n",
        "test_x = testx\n",
        "test_y = testy\n",
        "\n",
        "test_episode = 1000\n",
        "\n",
        "test(model, test_x, test_y, n_way, n_support, n_query, test_episode)"
      ],
      "execution_count": 22,
      "outputs": [
        {
          "output_type": "stream",
          "text": [
            "/usr/local/lib/python3.6/dist-packages/ipykernel_launcher.py:15: TqdmDeprecationWarning: Please use `tqdm.notebook.trange` instead of `tqdm.tnrange`\n",
            "  from ipykernel import kernelapp as app\n"
          ],
          "name": "stderr"
        },
        {
          "output_type": "display_data",
          "data": {
            "application/vnd.jupyter.widget-view+json": {
              "model_id": "ffa704aa6d4442db8d869d17a94b7b5b",
              "version_minor": 0,
              "version_major": 2
            },
            "text/plain": [
              "HBox(children=(FloatProgress(value=0.0, max=1000.0), HTML(value='')))"
            ]
          },
          "metadata": {
            "tags": []
          }
        },
        {
          "output_type": "stream",
          "text": [
            "\n",
            "Test results -- Loss: 0.1165 Acc: 0.9564\n"
          ],
          "name": "stdout"
        }
      ]
    },
    {
      "cell_type": "markdown",
      "metadata": {
        "id": "nOH0sg_7EKUW"
      },
      "source": [
        "##Test on specific example"
      ]
    },
    {
      "cell_type": "markdown",
      "metadata": {
        "id": "enVTmBdQJwsB"
      },
      "source": [
        "Let's test the model on a specific example to visualize how well does it label the data"
      ]
    },
    {
      "cell_type": "code",
      "metadata": {
        "id": "eO8PcZ_F0ZWc",
        "outputId": "3e40d87e-610d-46b9-ec2c-df7065eb2a78",
        "colab": {
          "base_uri": "https://localhost:8080/",
          "height": 448
        }
      },
      "source": [
        "my_sample = extract_sample(n_way, n_support, n_query, test_x, test_y)\n",
        "display_sample(my_sample['images'])"
      ],
      "execution_count": 23,
      "outputs": [
        {
          "output_type": "stream",
          "text": [
            "Clipping input data to the valid range for imshow with RGB data ([0..1] for floats or [0..255] for integers).\n"
          ],
          "name": "stderr"
        },
        {
          "output_type": "display_data",
          "data": {
            "image/png": "[encoded data removed]",
            "text/plain": [
              "<Figure size 1152x504 with 1 Axes>"
            ]
          },
          "metadata": {
            "tags": [],
            "needs_background": "light"
          }
        }
      ]
    },
    {
      "cell_type": "code",
      "metadata": {
        "id": "6J6LIrsZ0xoU"
      },
      "source": [
        "my_loss, my_output = model.set_forward_loss(my_sample)"
      ],
      "execution_count": 24,
      "outputs": []
    },
    {
      "cell_type": "code",
      "metadata": {
        "id": "0SZ3N2n--LQX",
        "outputId": "0259f2da-3443-4d36-de99-b8ba2f0e1a1a",
        "colab": {
          "base_uri": "https://localhost:8080/"
        }
      },
      "source": [
        "my_output"
      ],
      "execution_count": 25,
      "outputs": [
        {
          "output_type": "execute_result",
          "data": {
            "text/plain": [
              "{'acc': 0.9199999570846558,\n",
              " 'loss': 0.2212420403957367,\n",
              " 'y_hat': tensor([[0, 0, 0, 0, 0],\n",
              "         [1, 0, 1, 1, 1],\n",
              "         [2, 2, 2, 2, 2],\n",
              "         [1, 3, 3, 3, 3],\n",
              "         [4, 4, 4, 4, 4]], device='cuda:0')}"
            ]
          },
          "metadata": {
            "tags": []
          },
          "execution_count": 25
        }
      ]
    },
    {
      "cell_type": "markdown",
      "metadata": {
        "id": "FjQiHSTDV324"
      },
      "source": [
        "# Matching Networks Using Tensorflow"
      ]
    },
    {
      "cell_type": "markdown",
      "metadata": {
        "id": "APxPemn2V9o7"
      },
      "source": [
        "## Import Libraries"
      ]
    },
    {
      "cell_type": "code",
      "metadata": {
        "id": "htIVIhrFWAA6",
        "outputId": "e400b8db-1bf0-4ba3-da1a-be8e1c601599",
        "colab": {
          "base_uri": "https://localhost:8080/"
        }
      },
      "source": [
        "!pip3 install torch torchvision\n",
        "!pip3 install comet_ml"
      ],
      "execution_count": 27,
      "outputs": [
        {
          "output_type": "stream",
          "text": [
            "Requirement already satisfied: torch in /usr/local/lib/python3.6/dist-packages (1.6.0+cu101)\n",
            "Requirement already satisfied: torchvision in /usr/local/lib/python3.6/dist-packages (0.7.0+cu101)\n",
            "Requirement already satisfied: numpy in /usr/local/lib/python3.6/dist-packages (from torch) (1.18.5)\n",
            "Requirement already satisfied: future in /usr/local/lib/python3.6/dist-packages (from torch) (0.16.0)\n",
            "Requirement already satisfied: pillow>=4.1.1 in /usr/local/lib/python3.6/dist-packages (from torchvision) (7.0.0)\n",
            "Collecting comet_ml\n",
            "\u001b[?25l  Downloading https://files.pythonhosted.org/packages/b8/69/00e1ba86bccb52fda00f8f806bf7cdbc41f8461277e0dca5ff9e649541c3/comet_ml-3.2.5-py2.py3-none-any.whl (227kB)\n",
            "\u001b[K     |████████████████████████████████| 235kB 8.6MB/s \n",
            "\u001b[?25hRequirement already satisfied: nvidia-ml-py3>=7.352.0 in /usr/local/lib/python3.6/dist-packages (from comet_ml) (7.352.0)\n",
            "Collecting wurlitzer>=1.0.2\n",
            "  Downloading https://files.pythonhosted.org/packages/0c/1e/52f4effa64a447c4ec0fb71222799e2ac32c55b4b6c1725fccdf6123146e/wurlitzer-2.0.1-py2.py3-none-any.whl\n",
            "Collecting netifaces>=0.10.7\n",
            "  Downloading https://files.pythonhosted.org/packages/0c/9b/c4c7eb09189548d45939a3d3a6b3d53979c67d124459b27a094c365c347f/netifaces-0.10.9-cp36-cp36m-manylinux1_x86_64.whl\n",
            "Requirement already satisfied: six in /usr/local/lib/python3.6/dist-packages (from comet_ml) (1.15.0)\n",
            "Requirement already satisfied: requests>=2.18.4 in /usr/local/lib/python3.6/dist-packages (from comet_ml) (2.23.0)\n",
            "Collecting dulwich>=0.20.6; python_version >= \"3.0\"\n",
            "\u001b[?25l  Downloading https://files.pythonhosted.org/packages/d5/4e/6dbbf632bac9e3c4562eaf03134920950d5d5ff22bc90e08cfa01958df5d/dulwich-0.20.8.tar.gz (389kB)\n",
            "\u001b[K     |████████████████████████████████| 399kB 15.9MB/s \n",
            "\u001b[?25hRequirement already satisfied: wrapt>=1.11.2 in /usr/local/lib/python3.6/dist-packages (from comet_ml) (1.12.1)\n",
            "Collecting websocket-client>=0.55.0\n",
            "\u001b[?25l  Downloading https://files.pythonhosted.org/packages/4c/5f/f61b420143ed1c8dc69f9eaec5ff1ac36109d52c80de49d66e0c36c3dfdf/websocket_client-0.57.0-py2.py3-none-any.whl (200kB)\n",
            "\u001b[K     |████████████████████████████████| 204kB 22.5MB/s \n",
            "\u001b[?25hRequirement already satisfied: jsonschema!=3.1.0,>=2.6.0 in /usr/local/lib/python3.6/dist-packages (from comet_ml) (2.6.0)\n",
            "Collecting everett[ini]>=1.0.1; python_version >= \"3.0\"\n",
            "  Downloading https://files.pythonhosted.org/packages/fe/dc/38593280ec30fe1cb2611ec65554b76b68d13582bf490113e3332cdd85ea/everett-1.0.3-py2.py3-none-any.whl\n",
            "Requirement already satisfied: chardet<4,>=3.0.2 in /usr/local/lib/python3.6/dist-packages (from requests>=2.18.4->comet_ml) (3.0.4)\n",
            "Requirement already satisfied: urllib3!=1.25.0,!=1.25.1,<1.26,>=1.21.1 in /usr/local/lib/python3.6/dist-packages (from requests>=2.18.4->comet_ml) (1.24.3)\n",
            "Requirement already satisfied: idna<3,>=2.5 in /usr/local/lib/python3.6/dist-packages (from requests>=2.18.4->comet_ml) (2.10)\n",
            "Requirement already satisfied: certifi>=2017.4.17 in /usr/local/lib/python3.6/dist-packages (from requests>=2.18.4->comet_ml) (2020.6.20)\n",
            "Collecting configobj; extra == \"ini\"\n",
            "  Downloading https://files.pythonhosted.org/packages/64/61/079eb60459c44929e684fa7d9e2fdca403f67d64dd9dbac27296be2e0fab/configobj-5.0.6.tar.gz\n",
            "Building wheels for collected packages: dulwich, configobj\n",
            "  Building wheel for dulwich (setup.py) ... \u001b[?25l\u001b[?25hdone\n",
            "  Created wheel for dulwich: filename=dulwich-0.20.8-cp36-cp36m-linux_x86_64.whl size=495678 sha256=7a65bc2011d89c099af3fedbbbb9584cdc11e97b90b7d57e860ffd3384c18993\n",
            "  Stored in directory: /root/.cache/pip/wheels/d0/9d/ac/ac5168250ea01d469e4b7a7444b3f336cc05fb08feafbd5d46\n",
            "  Building wheel for configobj (setup.py) ... \u001b[?25l\u001b[?25hdone\n",
            "  Created wheel for configobj: filename=configobj-5.0.6-cp36-none-any.whl size=34547 sha256=61c41d1f5b1ab386a83fa506d3eb58279ddaacac9264d8d8c2b46cf5e9844da5\n",
            "  Stored in directory: /root/.cache/pip/wheels/f1/e4/16/4981ca97c2d65106b49861e0b35e2660695be7219a2d351ee0\n",
            "Successfully built dulwich configobj\n",
            "Installing collected packages: wurlitzer, netifaces, dulwich, websocket-client, configobj, everett, comet-ml\n",
            "Successfully installed comet-ml-3.2.5 configobj-5.0.6 dulwich-0.20.8 everett-1.0.3 netifaces-0.10.9 websocket-client-0.57.0 wurlitzer-2.0.1\n"
          ],
          "name": "stdout"
        }
      ]
    },
    {
      "cell_type": "code",
      "metadata": {
        "id": "tE4AD2ABWQXa"
      },
      "source": [
        "from comet_ml import Experiment\n",
        "import torch\n",
        "import torch.nn as nn\n",
        "import torch.nn.functional as F\n",
        "\n",
        "torch.manual_seed(42)\n",
        "device = torch.device(\"cuda:0\" if torch.cuda.is_available() else \"cpu\")"
      ],
      "execution_count": 28,
      "outputs": []
    },
    {
      "cell_type": "markdown",
      "metadata": {
        "id": "KsSe0MwuWX9p"
      },
      "source": [
        "## Model Artictechture"
      ]
    },
    {
      "cell_type": "code",
      "metadata": {
        "id": "99NiR5S0WakJ"
      },
      "source": [
        "class ConvLayerWithBatchNorm(nn.Module):\n",
        "  \n",
        "  def __init__(self, in_channels, out_channels=64, kernel_size=3, padding=1, dropout_probality=0.2):\n",
        "    super().__init__()\n",
        "    self.conv = nn.Conv2d(in_channels, out_channels, kernel_size=kernel_size, padding=padding)\n",
        "    self.ReLU = nn.ReLU()\n",
        "    self.batch_norm_layer = nn.BatchNorm2d(out_channels)\n",
        "    self.maxpool = nn.MaxPool2d(2, 2)\n",
        "    self.dropout = nn.Dropout(dropout_probality) # Dropout to add regularization and improve model generalization\n",
        "    \n",
        "  def forward(self, X):\n",
        "    x = self.conv(X)\n",
        "    x = self.ReLU(x)\n",
        "    x = self.batch_norm_layer(x)\n",
        "    x = self.maxpool(x)\n",
        "    x = self.dropout(x)\n",
        "    return x"
      ],
      "execution_count": 29,
      "outputs": []
    },
    {
      "cell_type": "markdown",
      "metadata": {
        "id": "Q6zNuWeeWeMS"
      },
      "source": [
        "## Embedding Layer"
      ]
    },
    {
      "cell_type": "code",
      "metadata": {
        "id": "axSN2K2eWgZC"
      },
      "source": [
        "class ConvEmbedding(nn.Module):\n",
        "  \n",
        "  def __init__(self, in_channels=1, embedding_size=256, dropout_probality=0.2):\n",
        "    super().__init__()\n",
        "    self.conv1 = ConvLayerWithBatchNorm(in_channels, 64, dropout_probality=dropout_probality)\n",
        "    self.conv2 = ConvLayerWithBatchNorm(64, 64, dropout_probality=dropout_probality)\n",
        "    self.conv3 = ConvLayerWithBatchNorm(64, 64, dropout_probality=dropout_probality)\n",
        "    self.conv4 = ConvLayerWithBatchNorm(64, 64, dropout_probality=dropout_probality)\n",
        "    self.dense = nn.Linear(64, embedding_size)\n",
        "    self.dropout = nn.Dropout(dropout_probality) # Dropout to add regularization and improve model generalization\n",
        "    self.embedding_size = embedding_size\n",
        "  \n",
        "  def forward(self, X):\n",
        "    # Input shape is (batch_size, 1, 28, 28)\n",
        "    x = self.conv1(X) # x's Shape (batch_size, 64, 14, 14)\n",
        "    x = self.conv2(x) # x's Shape (batch_size, 64, 7, 7)\n",
        "    x = self.conv3(x) # x's Shape (batch_size, 64, 3, 3)\n",
        "    x = self.conv4(x) # x's Shape (batch_size, 64, 1, 1)\n",
        "    x = x.view(x.size()[0], -1) # x's Shape (batch_size, 64)\n",
        "    x = self.dense(x) # x's Shape (batch_size, embedding_size)\n",
        "    x = self.dropout(x) # x's Shape (batch_size, embedding_size) with a few activations flipped to 0\n",
        "    return x"
      ],
      "execution_count": 30,
      "outputs": []
    },
    {
      "cell_type": "markdown",
      "metadata": {
        "id": "FyYswej_Wkz5"
      },
      "source": [
        "## Fully Conditional Embedding-Target Image"
      ]
    },
    {
      "cell_type": "code",
      "metadata": {
        "id": "Fsur9NUkWokB"
      },
      "source": [
        "class FullyConditionalEmbeddingTargetImage(nn.Module):\n",
        "  \n",
        "  def __init__(self, embedding_size, processing_steps=10):\n",
        "    super().__init__()\n",
        "    self.lstm_cell = torch.nn.LSTMCell(embedding_size, embedding_size)\n",
        "    self.processing_steps = processing_steps\n",
        "    self.embedding_size = embedding_size\n",
        "    self.attn_softmax = nn.Softmax(dim=1)\n",
        "  def forward(self, target_image_encoded, support_images_encoded):\n",
        "    batch_size, num_images, _ = support_images_encoded.shape\n",
        "    \n",
        "#     hidden_state_prev = torch.zeros(batch_size, self.embedding_size).to(device)\n",
        "    cell_state_prev = torch.zeros(batch_size, self.embedding_size).to(device)\n",
        "    hidden_state_prev = torch.sum(support_images_encoded, dim=1) / num_images\n",
        "    for i in range(self.processing_steps):\n",
        "      hidden_out, cell_out = self.lstm_cell(target_image_encoded, (hidden_state_prev, cell_state_prev))\n",
        "      hidden_out = hidden_out + target_image_encoded\n",
        "      attn = self.attn_softmax(torch.bmm(support_images_encoded, hidden_out.unsqueeze(2)))\n",
        "      attended_values = torch.sum(attn * support_images_encoded, dim=1)\n",
        "      hidden_state_prev = hidden_out + attended_values\n",
        "      cell_state_prev = cell_out\n",
        "    \n",
        "    return hidden_out"
      ],
      "execution_count": 31,
      "outputs": []
    },
    {
      "cell_type": "markdown",
      "metadata": {
        "id": "lkgHtV5rWwya"
      },
      "source": [
        "## Fully Conditional Embedding-Support Image"
      ]
    },
    {
      "cell_type": "code",
      "metadata": {
        "id": "w1XNo8CDWusy"
      },
      "source": [
        "class FullyConditionalEmbeddingSupportImages(nn.Module):\n",
        "  \n",
        "  def __init__(self, embedding_size):\n",
        "    super().__init__()\n",
        "    self.embedding_size = embedding_size\n",
        "    self.bidirectionalLSTM = nn.LSTM(input_size=embedding_size, hidden_size=embedding_size, bidirectional=True, batch_first=True)\n",
        "  \n",
        "  def initialize_hidden(self, batch_size):\n",
        "    #Initialize the states needed for our bi-directional LSTM\n",
        "    hidden_state = torch.zeros(2, batch_size, self.embedding_size).to(device)\n",
        "    cell_state = torch.zeros(2, batch_size, self.embedding_size).to(device)\n",
        "    return (hidden_state, cell_state)\n",
        "  \n",
        "  def forward(self, support_embeddings):\n",
        "    batch_size, num_images, _ = support_embeddings.shape\n",
        "    # Initialize states\n",
        "    lstm_states = self.initialize_hidden(batch_size)\n",
        "    # Get the LSTM Outputs\n",
        "    support_embeddings_contextual, internal_states = self.bidirectionalLSTM(support_embeddings, lstm_states)\n",
        "    # Get the forward and backward outputs\n",
        "    support_embeddings_contextual = support_embeddings_contextual.view(batch_size, num_images, 2, self.embedding_size)\n",
        "    # Add the forward and backward outputs\n",
        "    support_embeddings_contextual = torch.sum(support_embeddings_contextual, dim=2)\n",
        "    # Add the skip connection to our output\n",
        "    support_embeddings_contextual = support_embeddings_contextual + support_embeddings\n",
        "    return support_embeddings_contextual"
      ],
      "execution_count": 33,
      "outputs": []
    },
    {
      "cell_type": "markdown",
      "metadata": {
        "id": "mhHPttBJW2-j"
      },
      "source": [
        "## Cosine Distance Module"
      ]
    },
    {
      "cell_type": "code",
      "metadata": {
        "id": "zddzaL1aW57Z"
      },
      "source": [
        "\n",
        "class CosineDistance(nn.Module):\n",
        "  \n",
        "  def __init__(self):\n",
        "    super().__init__()\n",
        "  \n",
        "  def forward(self, target_image, support_images):\n",
        "    support_images_normed = F.normalize(support_images, p=2, dim=2)\n",
        "    # the 'p=2' param represents squared norm\n",
        "    target_image_normed = F.normalize(target_image, p=2, dim=1)\n",
        "    target_image_normed = target_image_normed.unsqueeze(dim=1).permute(0, 2, 1)\n",
        "    # This will cause the dimensions to be [5, 64, 1]\n",
        "    similarities = torch.bmm(support_images_normed, target_image.unsqueeze(1).permute(0, 2, 1))\n",
        "    # torch.bmm = batch matrix multiply\n",
        "    # [5, 20, 64] @ [5, 64, 1]\n",
        "    # the output shape is [5, 20, 1]\n",
        "    similarities = similarities.squeeze(dim=2)\n",
        "    # remove last dimension\n",
        "    return similarities"
      ],
      "execution_count": 34,
      "outputs": []
    },
    {
      "cell_type": "markdown",
      "metadata": {
        "id": "OH77oPh9W-OD"
      },
      "source": [
        "## One Hot Converter Module"
      ]
    },
    {
      "cell_type": "code",
      "metadata": {
        "id": "U9KiK5fCXBCC"
      },
      "source": [
        "# Taken from @activatedgeeks's answer from https://stackoverflow.com/questions/44461772/creating-one-hot-vector-from-indices-given-as-a-tensor\n",
        "class ConvertOneHot(nn.Module):\n",
        "  def __init__(self):\n",
        "    super().__init__()\n",
        "  \n",
        "  def forward(self, labels, num_classes):\n",
        "    batch_size, num_images, _ = labels.size()\n",
        "    one_hot_labels = torch.Tensor(batch_size, num_images, num_classes).to(labels.device).float().zero_()\n",
        "    return one_hot_labels.scatter(2, labels, 1)"
      ],
      "execution_count": 35,
      "outputs": []
    },
    {
      "cell_type": "markdown",
      "metadata": {
        "id": "vT9B2DkzXFec"
      },
      "source": [
        "## Matching Network"
      ]
    },
    {
      "cell_type": "code",
      "metadata": {
        "id": "bVSu6xe8XHr7"
      },
      "source": [
        "class MatchingNet(nn.Module):\n",
        "  \n",
        "  def __init__(self, image_shape, embedding_size=256, dropout_probality=0.2, use_fce=True):\n",
        "    super().__init__()\n",
        "    self.attn = nn.Softmax(dim=1)\n",
        "    self.embedding = ConvEmbedding(embedding_size=embedding_size, dropout_probality=dropout_probality)\n",
        "    self.distance = CosineDistance()\n",
        "    self.use_fce = use_fce\n",
        "    self.onehotconverter = ConvertOneHot()\n",
        "    if self.use_fce:\n",
        "      self.full_conditional_embedding_support = FullyConditionalEmbeddingSupportImages(embedding_size=embedding_size)\n",
        "      self.full_conditional_embedding_target = FullyConditionalEmbeddingTargetImage(embedding_size=embedding_size)\n",
        "    self.image_shape = image_shape\n",
        "  \n",
        "  def forward(self, support_images, support_labels, target_image):\n",
        "\n",
        "    batch_size, num_images, _ = support_labels.size()\n",
        "\n",
        "    # Get the image encodings from convolutional embedding\n",
        "    target_image_encoded = self.embedding(target_image)\n",
        "    support_images_encoded = self.embedding(support_images.view(-1, *self.image_shape)).view(-1, num_images, self.embedding.embedding_size)\n",
        "    \n",
        "    if self.use_fce:\n",
        "      # Get the support images embedding with context\n",
        "      support_images_encoded = self.full_conditional_embedding_support(support_images_encoded)\n",
        "\n",
        "      # Get the target image embedding with context\n",
        "      target_image_encoded = self.full_conditional_embedding_target(target_image_encoded, support_images_encoded)\n",
        "    \n",
        "    # Get the cosine distances between target image and the support images\n",
        "    distances = self.distance(target_image_encoded, support_images_encoded)\n",
        "    \n",
        "    # Get the attention value based on the distances\n",
        "    attention = self.attn(distances)\n",
        "    \n",
        "    # Convert the labels into one hot vectors\n",
        "    support_set_one_hot_labels = self.onehotconverter(support_labels, num_images)\n",
        "    \n",
        "    # Get the prediction logits by attention * one-hot-labels (automatically summed due to the unsqueeze operation)\n",
        "    prediction_logits = torch.bmm(attention.unsqueeze(1), support_set_one_hot_labels).squeeze()\n",
        "    \n",
        "    # Get the final labels for predictions\n",
        "    _, prediction_labels = torch.max(prediction_logits, 1)\n",
        "    return prediction_logits, prediction_labels"
      ],
      "execution_count": 36,
      "outputs": []
    },
    {
      "cell_type": "markdown",
      "metadata": {
        "id": "nBnETBKhXLdi"
      },
      "source": [
        "## Testing Model"
      ]
    },
    {
      "cell_type": "code",
      "metadata": {
        "id": "VOUatkaKXN-7",
        "outputId": "dfde6fb8-9cb5-4001-e4c9-d0ad4b3dcde6",
        "colab": {
          "base_uri": "https://localhost:8080/"
        }
      },
      "source": [
        "img_shape = (1, 28, 28)\n",
        "matching_net_trial = MatchingNet(img_shape, dropout_probality=0.1, use_fce=False)\n",
        "print(\"Model Summary\")\n",
        "print(matching_net_trial)\n",
        "epochs = 10\n",
        "\n",
        "support_images = torch.rand(32, 20, *img_shape)\n",
        "target_image = torch.rand(32, *img_shape)\n",
        "support_labels = torch.LongTensor(32, 20, 1) % 20\n",
        "target_labels = torch.LongTensor(32) % 20\n",
        "\n",
        "matching_net_trial.to(device)\n",
        "support_images = support_images.to(device)\n",
        "support_labels = support_labels.to(device)\n",
        "target_image = target_image.to(device)\n",
        "target_labels = target_labels.to(device)\n",
        "optimizer = torch.optim.Adam(matching_net_trial.parameters(), lr=0.001)\n",
        "for epoch in range(epochs):\n",
        "  logits, predictions = matching_net_trial(support_images, support_labels,target_image)\n",
        "  loss = F.cross_entropy(logits, target_labels)\n",
        "  print(loss.item())\n",
        "  optimizer.zero_grad()\n",
        "  loss.backward()\n",
        "  optimizer.step()"
      ],
      "execution_count": 37,
      "outputs": [
        {
          "output_type": "stream",
          "text": [
            "Model Summary\n",
            "MatchingNet(\n",
            "  (attn): Softmax(dim=1)\n",
            "  (embedding): ConvEmbedding(\n",
            "    (conv1): ConvLayerWithBatchNorm(\n",
            "      (conv): Conv2d(1, 64, kernel_size=(3, 3), stride=(1, 1), padding=(1, 1))\n",
            "      (ReLU): ReLU()\n",
            "      (batch_norm_layer): BatchNorm2d(64, eps=1e-05, momentum=0.1, affine=True, track_running_stats=True)\n",
            "      (maxpool): MaxPool2d(kernel_size=2, stride=2, padding=0, dilation=1, ceil_mode=False)\n",
            "      (dropout): Dropout(p=0.1, inplace=False)\n",
            "    )\n",
            "    (conv2): ConvLayerWithBatchNorm(\n",
            "      (conv): Conv2d(64, 64, kernel_size=(3, 3), stride=(1, 1), padding=(1, 1))\n",
            "      (ReLU): ReLU()\n",
            "      (batch_norm_layer): BatchNorm2d(64, eps=1e-05, momentum=0.1, affine=True, track_running_stats=True)\n",
            "      (maxpool): MaxPool2d(kernel_size=2, stride=2, padding=0, dilation=1, ceil_mode=False)\n",
            "      (dropout): Dropout(p=0.1, inplace=False)\n",
            "    )\n",
            "    (conv3): ConvLayerWithBatchNorm(\n",
            "      (conv): Conv2d(64, 64, kernel_size=(3, 3), stride=(1, 1), padding=(1, 1))\n",
            "      (ReLU): ReLU()\n",
            "      (batch_norm_layer): BatchNorm2d(64, eps=1e-05, momentum=0.1, affine=True, track_running_stats=True)\n",
            "      (maxpool): MaxPool2d(kernel_size=2, stride=2, padding=0, dilation=1, ceil_mode=False)\n",
            "      (dropout): Dropout(p=0.1, inplace=False)\n",
            "    )\n",
            "    (conv4): ConvLayerWithBatchNorm(\n",
            "      (conv): Conv2d(64, 64, kernel_size=(3, 3), stride=(1, 1), padding=(1, 1))\n",
            "      (ReLU): ReLU()\n",
            "      (batch_norm_layer): BatchNorm2d(64, eps=1e-05, momentum=0.1, affine=True, track_running_stats=True)\n",
            "      (maxpool): MaxPool2d(kernel_size=2, stride=2, padding=0, dilation=1, ceil_mode=False)\n",
            "      (dropout): Dropout(p=0.1, inplace=False)\n",
            "    )\n",
            "    (dense): Linear(in_features=64, out_features=256, bias=True)\n",
            "    (dropout): Dropout(p=0.1, inplace=False)\n",
            "  )\n",
            "  (distance): CosineDistance()\n",
            "  (onehotconverter): ConvertOneHot()\n",
            ")\n",
            "2.975263833999634\n",
            "2.947136878967285\n",
            "2.9586596488952637\n",
            "2.9513866901397705\n",
            "2.9215922355651855\n",
            "2.8959009647369385\n",
            "2.880772352218628\n",
            "2.8595266342163086\n",
            "2.8697445392608643\n",
            "2.8090946674346924\n"
          ],
          "name": "stdout"
        }
      ]
    },
    {
      "cell_type": "markdown",
      "metadata": {
        "id": "B94not3gXVQb"
      },
      "source": [
        "## Loading Data"
      ]
    },
    {
      "cell_type": "code",
      "metadata": {
        "id": "zYp1EnSFXXBr",
        "outputId": "456d3c42-bb0f-4f1b-f197-84094818dc2a",
        "colab": {
          "base_uri": "https://localhost:8080/"
        }
      },
      "source": [
        "!git clone --depth 1 https://github.com/brendenlake/omniglot.git\n",
        "!unzip -qq omniglot/python/images_background.zip\n",
        "!unzip -qq omniglot/python/images_evaluation.zip"
      ],
      "execution_count": 74,
      "outputs": [
        {
          "output_type": "stream",
          "text": [
            "fatal: destination path 'omniglot' already exists and is not an empty directory.\n",
            "replace images_background/Alphabet_of_the_Magi/character01/0709_01.png? [y]es, [n]o, [A]ll, [N]one, [r]ename: A\n",
            "replace images_evaluation/Angelic/character01/0965_01.png? [y]es, [n]o, [A]ll, [N]one, [r]ename: A\n"
          ],
          "name": "stdout"
        }
      ]
    },
    {
      "cell_type": "code",
      "metadata": {
        "id": "TUQxC5nGXa-y"
      },
      "source": [
        "\n",
        "from skimage import io, transform\n",
        "import numpy as np\n",
        "\n",
        "def read_image(path, size, angle=0):\n",
        "  img = io.imread(path, as_grey=True)\n",
        "  img = transform.resize(img, size, mode='constant')\n",
        "#   img = 1 - np.expand_dims(img, 0)\n",
        "  img = np.expand_dims(img, 0)\n",
        "  return img\n",
        "\n",
        "def rotate(img, angle):\n",
        "  return np.expand_dims(transform.rotate(np.squeeze(img), angle), 0)"
      ],
      "execution_count": 75,
      "outputs": []
    },
    {
      "cell_type": "code",
      "metadata": {
        "id": "M3FIYkWFXd3D"
      },
      "source": [
        "PATH = 'images_background'\n",
        "EVALUATION_PATH = 'images_evaluation'"
      ],
      "execution_count": 76,
      "outputs": []
    },
    {
      "cell_type": "code",
      "metadata": {
        "id": "EousKNFgmR1p"
      },
      "source": [
        "\n",
        "import os\n",
        "\n",
        "def load_alphabet(path):\n",
        "  lang_dict = []\n",
        "  for alphabet in os.listdir(path):\n",
        "    alphabet_path = os.path.join(path, alphabet)\n",
        "    for letter in os.listdir(alphabet_path):\n",
        "      current_letter_dict = {\"alphabet\": alphabet, \"letter\":letter, \"images\":[], \"image_mat\": []}\n",
        "      letter_path = os.path.join(alphabet_path, letter)\n",
        "      for letter_image in os.listdir(letter_path):\n",
        "        letter_image_path = os.path.join(letter_path, letter_image)\n",
        "        current_letter_dict[\"images\"].append(letter_image_path)\n",
        "        img = read_image(letter_image_path, (28, 28))\n",
        "        current_letter_dict[\"image_mat\"].append(img)\n",
        "      lang_dict.append(current_letter_dict)\n",
        "  return lang_dict\n",
        "\n",
        "train_dict = load_alphabet(PATH)\n",
        "test_dict = load_alphabet(EVALUATION_PATH)\n",
        "print(f\"found letters in Training set - {len(train_dict)}\")\n",
        "print(f\"found letters in Testing set - {len(test_dict)}\")"
      ],
      "execution_count": null,
      "outputs": []
    },
    {
      "cell_type": "code",
      "metadata": {
        "id": "7FTtBuPYXkpK"
      },
      "source": [
        "def augment_dataset(dataset):\n",
        "  augmented_dataset = []\n",
        "  for letter in dataset:\n",
        "    for angle in range(4):\n",
        "      current_letter_dict = {\"alphabet\": letter[\"alphabet\"], \n",
        "                             \"letter\":letter[\"letter\"], \n",
        "                             \"images\":letter[\"images\"], \n",
        "                             \"image_mat\": []}\n",
        "      for image in letter[\"image_mat\"]:\n",
        "        rotated_image = rotate(image, angle*90)\n",
        "        current_letter_dict[\"image_mat\"].append(rotated_image)\n",
        "      augmented_dataset.append(current_letter_dict)\n",
        "  return augmented_dataset"
      ],
      "execution_count": 72,
      "outputs": []
    },
    {
      "cell_type": "markdown",
      "metadata": {
        "id": "3nyPYvsVXql3"
      },
      "source": [
        "## Spliting Data"
      ]
    },
    {
      "cell_type": "code",
      "metadata": {
        "id": "ipDB9F2UXshN"
      },
      "source": [
        "from sklearn.model_selection import train_test_split\n",
        "random_state = 50\n",
        "total_data = train_dict + test_dict\n",
        "training_dict, testing_dict = train_test_split(total_data, test_size=0.25, random_state=random_state)\n",
        "training_dict, dev_dict = train_test_split(training_dict, test_size=0.1, random_state=random_state)\n",
        "\n",
        "print(f\"Total Dataset size - {len(total_data)}\")\n",
        "print(f\"Training Dataset size - {len(training_dict)}\")\n",
        "print(f\"Dev Dataset size - {len(dev_dict)}\")\n",
        "print(f\"Testing Dataset size - {len(testing_dict)}\")"
      ],
      "execution_count": 77,
      "outputs": []
    },
    {
      "cell_type": "code",
      "metadata": {
        "id": "RhHJaE-sXu3K"
      },
      "source": [
        "# augmented_train_dict = augment_dataset(training_dict)\n",
        "# augmented_dev_dict = augment_dataset(dev_dict)\n",
        "augmented_train_dict = training_dict\n",
        "augmented_dev_dict = dev_dict"
      ],
      "execution_count": 77,
      "outputs": []
    },
    {
      "cell_type": "markdown",
      "metadata": {
        "id": "-QZ6Y4WHXy_1"
      },
      "source": [
        "## Creating Task for Model"
      ]
    },
    {
      "cell_type": "code",
      "metadata": {
        "id": "-RHcl8NwX1b-"
      },
      "source": [
        "img_size = (28, 28)\n",
        "\n",
        "def make_oneshot_task(dataset, nway=20):\n",
        "  \n",
        "  # Choose nway random letters from dataset\n",
        "  letter_choices = np.random.choice(len(dataset), nway, replace=False)\n",
        "  \n",
        "  # Placeholders for our support dataset\n",
        "  X = np.empty((nway, 1, *img_size))\n",
        "  y = np.empty((nway), dtype=int)\n",
        "  \n",
        "  # Choose random letter from support set to be the target letter\n",
        "  random_target = np.random.choice(nway, size=1)\n",
        "  batch_letters = [dataset[k] for k in letter_choices]\n",
        "  required_letter = None\n",
        "  required_class = -1\n",
        "  for i, letter in enumerate(batch_letters):\n",
        "      # Choose random image from each letter\n",
        "      letter_index = np.random.randint(len(letter[\"images\"]))\n",
        "      X[i,] = letter[\"image_mat\"][letter_index]\n",
        "      y[i] = i\n",
        "      if(i == random_target[0]):\n",
        "        # Fetching a different image for our target image from chosen letter\n",
        "        required_index = (letter_index + np.random.randint(1, len(letter[\"images\"]))) % len(letter[\"images\"])\n",
        "        required_letter = letter[\"image_mat\"][required_index]\n",
        "        required_class = i\n",
        "  return X, y, required_letter, required_class"
      ],
      "execution_count": 56,
      "outputs": []
    },
    {
      "cell_type": "markdown",
      "metadata": {
        "id": "NxWl552YX5Mt"
      },
      "source": [
        "## Visualize One shot Task"
      ]
    },
    {
      "cell_type": "code",
      "metadata": {
        "id": "IL7PcKbfX72g"
      },
      "source": [
        "import matplotlib.pyplot as plt\n",
        "\n",
        "def visualize_oneshot_task(X, y, required_letter, required_class):\n",
        "  fig=plt.figure(figsize=(8, 8))\n",
        "  columns = 5\n",
        "  rows = X.shape[0]//columns + 1\n",
        "  for i in range(1, X.shape[0] + 1):\n",
        "    img = X[i-1]\n",
        "    fig.add_subplot(rows, columns, i).set_title(y[i-1])\n",
        "    plt.axis('off')\n",
        "    plt.xticks([])\n",
        "    plt.yticks([])\n",
        "    plt.imshow(img.reshape(*img_size))\n",
        "  fig.add_subplot(rows, columns, X.shape[0] + 3).set_title(required_class)\n",
        "  plt.imshow(required_letter.reshape(*img_size))\n",
        "  plt.axis('off')\n",
        "  plt.xticks([])\n",
        "  plt.yticks([])\n",
        "  plt.show()"
      ],
      "execution_count": 57,
      "outputs": []
    },
    {
      "cell_type": "code",
      "metadata": {
        "id": "pbWJvkuPX_7t"
      },
      "source": [
        "# Visualize our training dataset\n",
        "visualize_oneshot_task(*make_oneshot_task(augmented_train_dict))"
      ],
      "execution_count": 77,
      "outputs": []
    },
    {
      "cell_type": "code",
      "metadata": {
        "id": "qAyX1FMrYEBj"
      },
      "source": [
        "# Visualize our validation/dev dataset\n",
        "visualize_oneshot_task(*make_oneshot_task(augmented_dev_dict))"
      ],
      "execution_count": null,
      "outputs": []
    },
    {
      "cell_type": "code",
      "metadata": {
        "id": "Bw49hS9MYTLU"
      },
      "source": [
        "# Visualize our test dataset\n",
        "visualize_oneshot_task(*make_oneshot_task(testing_dict))"
      ],
      "execution_count": null,
      "outputs": []
    },
    {
      "cell_type": "markdown",
      "metadata": {
        "id": "mKWol5EMYZhz"
      },
      "source": [
        "## Dataset Class"
      ]
    },
    {
      "cell_type": "code",
      "metadata": {
        "id": "Aoad_1IDYbbr"
      },
      "source": [
        "from torch.utils.data.dataset import Dataset\n",
        "from torchvision import transforms\n",
        "import torch\n",
        "\n",
        "class OneShotDataset(Dataset):\n",
        "  \n",
        "  def __init__(self, data_dict, iterations=1000):\n",
        "    self.data_dict = data_dict\n",
        "    self.length = iterations\n",
        "  \n",
        "  def __getitem__(self, index): \n",
        "    support_images, support_labels, target_image, target_label = make_oneshot_task(self.data_dict)\n",
        "    return (torch.from_numpy(support_images).float(),\n",
        "            torch.from_numpy(support_labels).long().unsqueeze(-1),\n",
        "            torch.from_numpy(target_image).float(),\n",
        "            target_label)  \n",
        "  def __len__(self):\n",
        "    return self.length"
      ],
      "execution_count": 59,
      "outputs": []
    },
    {
      "cell_type": "markdown",
      "metadata": {
        "id": "AlHgL26BYgeF"
      },
      "source": [
        "## Evaluate Model"
      ]
    },
    {
      "cell_type": "code",
      "metadata": {
        "id": "f2SdnTUHYiV3"
      },
      "source": [
        "def evaluate_model(model, dataset_dict, iterations=1000, batch_size=20):\n",
        "  model.eval() # Set the model in eval mode so as ensure Dropout and BatchNorm layers operate in Evaluation mode\n",
        "  \n",
        "  # Set up our dataloaders\n",
        "  dataset = OneShotDataset(dataset_dict, iterations=iterations)\n",
        "  dataset_loader = torch.utils.data.DataLoader(dataset=dataset,\n",
        "                                                  batch_size=batch_size,\n",
        "                                                  num_workers=4,                                                  \n",
        "                                                  shuffle=False)\n",
        "  \n",
        "  # Run in no_grad mode to speed up inference \n",
        "  with torch.no_grad():\n",
        "    # Placeholders to accumulate the metrics across batches\n",
        "    total_accuracy = 0\n",
        "    total_loss = 0\n",
        "    for iteration, (support_images, support_labels, images, labels) in enumerate(dataset_loader):\n",
        "      # Move Data to GPU\n",
        "      support_batch_torch = support_images.to(device)\n",
        "      support_labels_torch = support_labels.to(device)\n",
        "      target_images_torch = images.to(device)\n",
        "      target_labels_torch =labels.to(device)\n",
        "\n",
        "      # Perform inference via our model\n",
        "      logits, predictions = model(support_batch_torch, support_labels_torch, target_images_torch)\n",
        "      # Calculate loss and accuracy\n",
        "      loss = F.cross_entropy(logits, target_labels_torch)\n",
        "      accuracy = torch.mean((predictions == target_labels_torch).float())\n",
        "      \n",
        "      # Accumulate the metrics\n",
        "      total_loss = total_loss + loss.item()\n",
        "      total_accuracy = total_accuracy + accuracy.item()\n",
        "      \n",
        "    accuracy = total_accuracy/(iteration+1)\n",
        "    loss = total_loss/(iteration+1)\n",
        "    return accuracy, loss"
      ],
      "execution_count": 60,
      "outputs": []
    },
    {
      "cell_type": "markdown",
      "metadata": {
        "id": "XdATjw-xYluT"
      },
      "source": [
        "### Baseline KNN Accuracy"
      ]
    },
    {
      "cell_type": "code",
      "metadata": {
        "id": "EgWZo-SJYoOE"
      },
      "source": [
        "from sklearn.neighbors import KNeighborsClassifier\n",
        "\n",
        "def evaluate_one_shot_performance(dataset, nway=20, num_tests=300):\n",
        "  correct = 0\n",
        "  for i in range(num_tests):\n",
        "    support_set, support_labels, required_letter, required_label = make_oneshot_task(dataset, nway=nway)\n",
        "    images = np.insert(support_set, 0, required_letter, axis=0)\n",
        "    # Baseline model with just l2 Distance between images\n",
        "    embeddings = images.reshape(nway+1, -1)\n",
        "    neigh = KNeighborsClassifier(n_neighbors=1)\n",
        "    neigh.fit(embeddings[1:], support_labels)\n",
        "    prediction = neigh.predict(embeddings[:1])\n",
        "    if(prediction[0] == required_label):\n",
        "      correct = correct + 1\n",
        "  print(f\"Accuracy - {correct * 100 / num_tests}%\")"
      ],
      "execution_count": 61,
      "outputs": []
    },
    {
      "cell_type": "code",
      "metadata": {
        "id": "IrTMMYGtaV6o"
      },
      "source": [
        "evaluate_one_shot_performance(testing_dict, nway=20, num_tests=500)"
      ],
      "execution_count": 77,
      "outputs": []
    },
    {
      "cell_type": "markdown",
      "metadata": {
        "id": "O0VL2jTjYwIw"
      },
      "source": [
        "## Training Model"
      ]
    },
    {
      "cell_type": "code",
      "metadata": {
        "id": "pU-OnM5-Yy-s"
      },
      "source": [
        "epochs = 43 #@param {type: \"slider\", min: 1, max: 100}\n",
        "batch_size = 20 #@param {type: \"slider\", min: 20, max: 200}\n",
        "iterations = 10000 #@param {type: \"slider\", min: 500, max: 10000}\n",
        "lr = 0.0001 #@param [\"0.1\", \"0.01\", \"0.001\", \"0.0001\"] {type:\"raw\", allow-input: true}\n",
        "embedding_size = 64 #@param {type: \"slider\", min: 64, max: 512}\n",
        "dropout_probality=0.1 #@param {type: \"slider\", min: 0, max: 1, step: 0.1}\n",
        "use_fce = True #@param [\"True\", \"False\"] {type:\"raw\"}"
      ],
      "execution_count": 63,
      "outputs": []
    },
    {
      "cell_type": "code",
      "metadata": {
        "id": "XVoIjR9aY8yz"
      },
      "source": [
        "pytorch_experiment = Experiment(api_key=\"SCmpLSERj7defIsfWhQcs7D4E\",\n",
        "                        project_name=\"PyTorch Matching Net\", workspace=\"ramesharvind\")"
      ],
      "execution_count": 77,
      "outputs": []
    },
    {
      "cell_type": "code",
      "metadata": {
        "id": "74lo1YlcZDH-"
      },
      "source": [
        "pytorch_experiment.log_multiple_params({\"Epochs\":epochs, \"Batch Size\": batch_size, \"Iterations Per Epoch\": iterations, \"Learning Rate\": lr, \"Embedding Size\": embedding_size, \"Dropout\": dropout_probality, \"Using FCE\": use_fce})"
      ],
      "execution_count": null,
      "outputs": []
    },
    {
      "cell_type": "markdown",
      "metadata": {
        "id": "dOQsSfz2ZGit"
      },
      "source": [
        "## Training Loop"
      ]
    },
    {
      "cell_type": "code",
      "metadata": {
        "id": "uVFs4HNWZIpb",
        "outputId": "51a6a76e-d8bb-48f6-ae81-298387acda27",
        "colab": {
          "base_uri": "https://localhost:8080/"
        }
      },
      "source": [
        "# Define the model\n",
        "matching_net = MatchingNet(img_shape, embedding_size=embedding_size, dropout_probality=dropout_probality, use_fce=use_fce)\n",
        "print(\"Model Summary\")\n",
        "print(matching_net)"
      ],
      "execution_count": 65,
      "outputs": [
        {
          "output_type": "stream",
          "text": [
            "Model Summary\n",
            "MatchingNet(\n",
            "  (attn): Softmax(dim=1)\n",
            "  (embedding): ConvEmbedding(\n",
            "    (conv1): ConvLayerWithBatchNorm(\n",
            "      (conv): Conv2d(1, 64, kernel_size=(3, 3), stride=(1, 1), padding=(1, 1))\n",
            "      (ReLU): ReLU()\n",
            "      (batch_norm_layer): BatchNorm2d(64, eps=1e-05, momentum=0.1, affine=True, track_running_stats=True)\n",
            "      (maxpool): MaxPool2d(kernel_size=2, stride=2, padding=0, dilation=1, ceil_mode=False)\n",
            "      (dropout): Dropout(p=0.1, inplace=False)\n",
            "    )\n",
            "    (conv2): ConvLayerWithBatchNorm(\n",
            "      (conv): Conv2d(64, 64, kernel_size=(3, 3), stride=(1, 1), padding=(1, 1))\n",
            "      (ReLU): ReLU()\n",
            "      (batch_norm_layer): BatchNorm2d(64, eps=1e-05, momentum=0.1, affine=True, track_running_stats=True)\n",
            "      (maxpool): MaxPool2d(kernel_size=2, stride=2, padding=0, dilation=1, ceil_mode=False)\n",
            "      (dropout): Dropout(p=0.1, inplace=False)\n",
            "    )\n",
            "    (conv3): ConvLayerWithBatchNorm(\n",
            "      (conv): Conv2d(64, 64, kernel_size=(3, 3), stride=(1, 1), padding=(1, 1))\n",
            "      (ReLU): ReLU()\n",
            "      (batch_norm_layer): BatchNorm2d(64, eps=1e-05, momentum=0.1, affine=True, track_running_stats=True)\n",
            "      (maxpool): MaxPool2d(kernel_size=2, stride=2, padding=0, dilation=1, ceil_mode=False)\n",
            "      (dropout): Dropout(p=0.1, inplace=False)\n",
            "    )\n",
            "    (conv4): ConvLayerWithBatchNorm(\n",
            "      (conv): Conv2d(64, 64, kernel_size=(3, 3), stride=(1, 1), padding=(1, 1))\n",
            "      (ReLU): ReLU()\n",
            "      (batch_norm_layer): BatchNorm2d(64, eps=1e-05, momentum=0.1, affine=True, track_running_stats=True)\n",
            "      (maxpool): MaxPool2d(kernel_size=2, stride=2, padding=0, dilation=1, ceil_mode=False)\n",
            "      (dropout): Dropout(p=0.1, inplace=False)\n",
            "    )\n",
            "    (dense): Linear(in_features=64, out_features=64, bias=True)\n",
            "    (dropout): Dropout(p=0.1, inplace=False)\n",
            "  )\n",
            "  (distance): CosineDistance()\n",
            "  (onehotconverter): ConvertOneHot()\n",
            "  (full_conditional_embedding_support): FullyConditionalEmbeddingSupportImages(\n",
            "    (bidirectionalLSTM): LSTM(64, 64, batch_first=True, bidirectional=True)\n",
            "  )\n",
            "  (full_conditional_embedding_target): FullyConditionalEmbeddingTargetImage(\n",
            "    (lstm_cell): LSTMCell(64, 64)\n",
            "    (attn_softmax): Softmax(dim=1)\n",
            "  )\n",
            ")\n"
          ],
          "name": "stdout"
        }
      ]
    },
    {
      "cell_type": "code",
      "metadata": {
        "id": "05hYd3h6ZLvn"
      },
      "source": [
        "# Move the model to GPU\n",
        "matching_net.to(device)\n",
        "# Create the optimizer\n",
        "optimizer = torch.optim.Adam(matching_net.parameters(), lr=lr)\n",
        "# placeholders to store our best performing metrics on Dev Set\n",
        "best_dev_loss = 0\n",
        "best_dev_accuracy = 0\n",
        "\n",
        "print(\"Beginning Training..\")\n",
        "\n",
        "for epoch in range(epochs):\n",
        "  matching_net.train() # Set our model in train mode\n",
        "\n",
        "  # Placeholder variables to help track epoch loss and accuracy\n",
        "  total_loss = 0\n",
        "  total_accuracy = 0\n",
        "  \n",
        "  # Define our dataset and dataloader \n",
        "  train_dataset = OneShotDataset(augmented_train_dict, iterations)\n",
        "  train_dataset_loader = torch.utils.data.DataLoader(dataset=train_dataset,\n",
        "                                                  batch_size=batch_size,\n",
        "                                                  num_workers=4,\n",
        "                                                  shuffle=False)\n",
        "  # Main training loop\n",
        "  for iteration, (support_images, support_labels, images, labels) in enumerate(train_dataset_loader):\n",
        "    # Move our data to GPU\n",
        "    support_batch_torch = support_images.to(device)\n",
        "    support_labels_torch = support_labels.to(device)\n",
        "    target_images_torch = images.to(device)\n",
        "    target_labels_torch =labels.to(device)\n",
        "    # Get the predictions and logits from our model\n",
        "    logits, predictions = matching_net(support_batch_torch, support_labels_torch, target_images_torch)\n",
        "    \n",
        "    # Calculate loss and accuracy in current iteration\n",
        "    loss = F.cross_entropy(logits, target_labels_torch)\n",
        "    accuracy = torch.mean((predictions == target_labels_torch).float())\n",
        "    \n",
        "    # Accumulate the values\n",
        "    total_loss = total_loss + loss.item()\n",
        "    total_accuracy = total_accuracy + accuracy.item()\n",
        "\n",
        "    # Perform Backpropagation\n",
        "    optimizer.zero_grad()\n",
        "    loss.backward()\n",
        "    optimizer.step()\n",
        "\n",
        "  total_accuracy = total_accuracy/(iteration+1)\n",
        "  total_loss = total_loss/(iteration+1)\n",
        "  \n",
        "  # Log the training metrics to comet.ml\n",
        "  with pytorch_experiment.train():\n",
        "    pytorch_experiment.log_current_epoch(epoch)\n",
        "    pytorch_experiment.log_metric(\"loss\",total_loss)\n",
        "    pytorch_experiment.log_metric(\"accuracy\",total_accuracy)\n",
        "  print(f\"In epoch - {epoch} Train Set - Accuracy {total_accuracy} Loss - {total_loss} - for {(iteration+1)} iterations\")\n",
        "  \n",
        "  \n",
        "  # Run the model on Dev Set to evaluate performance on unseen data (every 3 epochs)\n",
        "  if epoch%3 == 0:\n",
        "    with pytorch_experiment.validate():\n",
        "      pytorch_experiment.log_current_epoch(epoch)\n",
        "      dev_accuracy, dev_loss = evaluate_model(matching_net, augmented_dev_dict)\n",
        "      print(f\"--In epoch - {epoch} Dev Set Accuracy - {dev_accuracy} Loss - {dev_loss}\")\n",
        "      \n",
        "      # Save the best performing model across all the epochs\n",
        "      if not best_dev_loss or dev_loss < best_dev_loss:\n",
        "        print(f\"---Found Better Model to save with Accuracy - {dev_accuracy} and loss - {dev_loss}\")\n",
        "        best_dev_loss = dev_loss\n",
        "        best_dev_accuracy = dev_accuracy\n",
        "        torch.save(matching_net.state_dict(), \"matching_net-%0.2f-accuracy.pt\"%(best_dev_accuracy))\n",
        "      \n",
        "      # Log the Dev metrics to comet.ml\n",
        "      pytorch_experiment.log_metric(\"accuracy\",dev_accuracy)\n",
        "      pytorch_experiment.log_metric(\"dev_loss\",dev_loss)"
      ],
      "execution_count": 77,
      "outputs": []
    },
    {
      "cell_type": "markdown",
      "metadata": {
        "id": "G9BmcrYIZVjZ"
      },
      "source": [
        "## Evaluating on Testing Data"
      ]
    },
    {
      "cell_type": "code",
      "metadata": {
        "id": "BC4GBBtdZYln"
      },
      "source": [
        "with pytorch_experiment.test():\n",
        "  matching_net_test = MatchingNet(img_shape, embedding_size=embedding_size, dropout_probality=dropout_probality, use_fce=use_fce)\n",
        "  matching_net_test.load_state_dict(torch.load(\"matching_net-%0.2f-accuracy.pt\"%(best_dev_accuracy)))\n",
        "  matching_net_test.to(device)\n",
        "  test_accuracy, test_loss = evaluate_model(matching_net_test, testing_dict, iterations=5000)\n",
        "  pytorch_experiment.log_metric(\"accuracy\",test_accuracy)\n",
        "  pytorch_experiment.log_metric(\"test_loss\",test_loss)\n",
        "  print(f\"Test Set Accuracy - {test_accuracy} Loss - {test_loss}\")\n",
        "pytorch_experiment.end()"
      ],
      "execution_count": 77,
      "outputs": []
    },
    {
      "cell_type": "markdown",
      "metadata": {
        "id": "kezexoP9Z_h9"
      },
      "source": [
        "## Pre-trained Models"
      ]
    },
    {
      "cell_type": "code",
      "metadata": {
        "id": "DNE2-SmcaCUk",
        "outputId": "a1218c9f-27f3-4294-fb38-3e459c8bac7e",
        "colab": {
          "base_uri": "https://localhost:8080/"
        }
      },
      "source": [
        "\n",
        "!git clone https://github.com/RameshArvind/Pytorch-Matching-Networks.git"
      ],
      "execution_count": 68,
      "outputs": [
        {
          "output_type": "stream",
          "text": [
            "fatal: destination path 'Pytorch-Matching-Networks' already exists and is not an empty directory.\n"
          ],
          "name": "stdout"
        }
      ]
    },
    {
      "cell_type": "code",
      "metadata": {
        "id": "TcpV_FZBaFmZ"
      },
      "source": [
        "model_weights_with_fce = \"Pytorch-Matching-Networks/matching_net-FCE-0.73-accuracy.pt\"\n",
        "model_weights_without_fce = \"Pytorch-Matching-Networks/matching_net-WITHOUT-FCE-0.74-accuracy.pt\""
      ],
      "execution_count": 69,
      "outputs": []
    },
    {
      "cell_type": "markdown",
      "metadata": {
        "id": "buzVVYi3aI_S"
      },
      "source": [
        "## Model without FCE"
      ]
    },
    {
      "cell_type": "code",
      "metadata": {
        "id": "23b78stKaLC5"
      },
      "source": [
        "embedding_size = 64\n",
        "dropout_probality=0.1\n",
        "use_fce = False\n",
        "\n",
        "matching_net_test = MatchingNet(img_shape, embedding_size=embedding_size, dropout_probality=dropout_probality, use_fce=use_fce)\n",
        "matching_net_test.load_state_dict(torch.load(model_weights_without_fce))\n",
        "matching_net_test.to(device)\n",
        "test_accuracy, test_loss = evaluate_model(matching_net_test, testing_dict, iterations=5000)\n",
        "pytorch_experiment.log_metric(\"accuracy\",test_accuracy)\n",
        "pytorch_experiment.log_metric(\"test_loss\",test_loss)\n",
        "print(f\"Without FCE - Test Set Accuracy - {test_accuracy} Loss - {test_loss}\")"
      ],
      "execution_count": 77,
      "outputs": []
    }
  ]
}