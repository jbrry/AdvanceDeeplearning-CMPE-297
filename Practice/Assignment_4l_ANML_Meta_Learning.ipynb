{
  "nbformat": 4,
  "nbformat_minor": 0,
  "metadata": {
    "colab": {
      "name": "Assignment_4l_ANML_Meta_Learning.ipynb",
      "provenance": [],
      "authorship_tag": "ABX9TyNiTgCQc/0edw6cflhzfWlz",
      "include_colab_link": true
    },
    "kernelspec": {
      "name": "python3",
      "display_name": "Python 3"
    }
  },
  "cells": [
    {
      "cell_type": "markdown",
      "metadata": {
        "id": "view-in-github",
        "colab_type": "text"
      },
      "source": [
        "<a href=\"https://colab.research.google.com/github/s-c-soma/AdvanceDeeplearning-CMPE-297/blob/master/Practice/Assignment_4l_ANML_Meta_Learning.ipynb\" target=\"_parent\"><img src=\"https://colab.research.google.com/assets/colab-badge.svg\" alt=\"Open In Colab\"/></a>"
      ]
    },
    {
      "cell_type": "markdown",
      "metadata": {
        "id": "UO9h3y3X8Zju"
      },
      "source": [
        "#  A Neuromodulated Meta-Learning Algorithm (ANML)\n",
        "\n",
        "https://github.com/uvm-neurobotics-lab/ANML"
      ]
    },
    {
      "cell_type": "code",
      "metadata": {
        "id": "0U-6ZcR-zTlm"
      },
      "source": [
        ""
      ],
      "execution_count": null,
      "outputs": []
    }
  ]
}