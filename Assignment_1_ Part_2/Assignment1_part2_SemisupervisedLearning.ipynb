{
  "nbformat": 4,
  "nbformat_minor": 0,
  "metadata": {
    "colab": {
      "name": "Assignment1_part2_SemisupervisedLearning.ipynb",
      "provenance": [],
      "collapsed_sections": [],
      "toc_visible": true,
      "include_colab_link": true
    },
    "kernelspec": {
      "name": "python3",
      "display_name": "Python 3"
    }
  },
  "cells": [
    {
      "cell_type": "markdown",
      "metadata": {
        "id": "view-in-github",
        "colab_type": "text"
      },
      "source": [
        "<a href=\"https://colab.research.google.com/github/s-c-soma/AdvanceDeeplearning-CMPE-297/blob/master/Assignment_1_%20Part_2/Assignment1_part2_SemisupervisedLearning.ipynb\" target=\"_parent\"><img src=\"https://colab.research.google.com/assets/colab-badge.svg\" alt=\"Open In Colab\"/></a>"
      ]
    },
    {
      "cell_type": "markdown",
      "metadata": {
        "id": "pgVIJQ3ZncLj",
        "colab_type": "text"
      },
      "source": [
        "# Semi Supervised Learning"
      ]
    },
    {
      "cell_type": "markdown",
      "metadata": {
        "id": "1Tw5V7Avp0qo",
        "colab_type": "text"
      },
      "source": [
        "# Implementation Details and Discussion"
      ]
    },
    {
      "cell_type": "markdown",
      "metadata": {
        "id": "7jb4U8Oep_Xu",
        "colab_type": "text"
      },
      "source": [
        "**Semi-supervised** is an machine learning approach that deals with both label and unlabeled data. The amount of labeled data is very less compared to unlabeled data. So Semi-supervised learning belongs to both unsupervised and supervised learning"
      ]
    },
    {
      "cell_type": "markdown",
      "metadata": {
        "id": "GEUa4e3SqZAx",
        "colab_type": "text"
      },
      "source": [
        "**Implementation**\n",
        "\n",
        "Semi supervised learning methods actually use the unlabeled data to modify or to change the priority of the data obtained from labeled data. Some methods are probabilistics also. We get a joint distribution for that.  Original discriminative methods can not be used here for semi supervised problems.\n",
        "\n",
        "\n",
        "As mentioned above, semi supervised learning is a combination of supervised and unsupervised. So at first I loaded the Mnist. It is a labeled data. I have taken 20% of the labeled data. For the rest of the 80% data, I have removed the label and made it ready for unsupervised. Assigned label -1 for that. Finally I have defined the network, trained the model. This model performs with 92% accuracy. The last section visualizes the prediction of the model. \n",
        " "
      ]
    },
    {
      "cell_type": "markdown",
      "metadata": {
        "id": "f4NeUOswqdzq",
        "colab_type": "text"
      },
      "source": [
        "# Using Mnist Data"
      ]
    },
    {
      "cell_type": "code",
      "metadata": {
        "id": "rFF9dBg6JRgb",
        "colab_type": "code",
        "colab": {}
      },
      "source": [
        "from __future__ import print_function\n",
        "import pickle \n",
        "import numpy as np\n",
        "import argparse\n",
        "import torch\n",
        "import torch.nn as nn\n",
        "import torch.nn.functional as F\n",
        "import torch.optim as optim\n",
        "from torchvision import datasets, transforms\n",
        "from torch.autograd import Variable\n",
        "from scipy import ndimage\n",
        "from scipy import misc\n",
        "\n",
        "import tensorflow as tf\n",
        "from torch.utils.data import DataLoader\n",
        "from torch.utils.data.dataset import random_split\n",
        "import torchvision\n"
      ],
      "execution_count": 58,
      "outputs": []
    },
    {
      "cell_type": "markdown",
      "metadata": {
        "id": "MK_B6gVuSwx1",
        "colab_type": "text"
      },
      "source": [
        "## Parameters Definition "
      ]
    },
    {
      "cell_type": "code",
      "metadata": {
        "id": "n8NENnsqgfKk",
        "colab_type": "code",
        "colab": {
          "base_uri": "https://localhost:8080/",
          "height": 34
        },
        "outputId": "176c65b7-77e9-4b54-e5cd-6074f0fa5aaa"
      },
      "source": [
        "n_epochs = 3\n",
        "batch_size_train = 64\n",
        "batch_size_test = 1000\n",
        "learning_rate = 0.01\n",
        "momentum = 0.5\n",
        "log_interval = 10\n",
        "\n",
        "random_seed = 1\n",
        "torch.backends.cudnn.enabled = False\n",
        "torch.manual_seed(random_seed)"
      ],
      "execution_count": 50,
      "outputs": [
        {
          "output_type": "execute_result",
          "data": {
            "text/plain": [
              "<torch._C.Generator at 0x7f9fd3e9a0c0>"
            ]
          },
          "metadata": {
            "tags": []
          },
          "execution_count": 50
        }
      ]
    },
    {
      "cell_type": "markdown",
      "metadata": {
        "id": "gl0qs02yqL3y",
        "colab_type": "text"
      },
      "source": [
        "## Load Mnist"
      ]
    },
    {
      "cell_type": "code",
      "metadata": {
        "id": "j6hnj8d9q-IF",
        "colab_type": "code",
        "colab": {}
      },
      "source": [
        "init_dataset =  torchvision.datasets.MNIST('/files/', train=True, download=True,\n",
        "                             transform=torchvision.transforms.Compose([\n",
        "                               torchvision.transforms.ToTensor(),\n",
        "                               torchvision.transforms.Normalize(\n",
        "                                 (0.1307,), (0.3081,))\n",
        "                             ]))\n",
        "\n",
        "\n",
        "val_dataset = torchvision.datasets.MNIST('/files/', train=False, download=True,\n",
        "                             transform=torchvision.transforms.Compose([\n",
        "                               torchvision.transforms.ToTensor(),\n",
        "                               torchvision.transforms.Normalize(\n",
        "                                 (0.1307,), (0.3081,))\n",
        "                             ]))"
      ],
      "execution_count": 59,
      "outputs": []
    },
    {
      "cell_type": "code",
      "metadata": {
        "id": "Ia9ZOu55ql4Q",
        "colab_type": "code",
        "colab": {
          "base_uri": "https://localhost:8080/",
          "height": 34
        },
        "outputId": "7b1b11a8-25ea-4c42-ce63-95e2bebd83d7"
      },
      "source": [
        "len(init_dataset)\n"
      ],
      "execution_count": 52,
      "outputs": [
        {
          "output_type": "execute_result",
          "data": {
            "text/plain": [
              "60000"
            ]
          },
          "metadata": {
            "tags": []
          },
          "execution_count": 52
        }
      ]
    },
    {
      "cell_type": "markdown",
      "metadata": {
        "id": "02dUx8G5pFJb",
        "colab_type": "text"
      },
      "source": [
        "## Spliting data for semi-supervised [20% labeled + 80% unlabeled]"
      ]
    },
    {
      "cell_type": "code",
      "metadata": {
        "id": "Y8VAjfxLqQD1",
        "colab_type": "code",
        "colab": {
          "base_uri": "https://localhost:8080/",
          "height": 34
        },
        "outputId": "6817cffd-c6cb-45c1-d63b-5338658b0799"
      },
      "source": [
        "lengths = [int(len(init_dataset)*0.2), int(len(init_dataset)*0.8)]\n",
        "labeled_subsetA, unlabeled_subsetB = random_split(init_dataset, lengths)\n",
        "\n",
        "\n",
        "\n",
        "train_unlabeled_data = [(unlabeled_subsetB[i][0],-1) for i in range(len(unlabeled_subsetB))]\n",
        "len(train_unlabeled_data)"
      ],
      "execution_count": 53,
      "outputs": [
        {
          "output_type": "execute_result",
          "data": {
            "text/plain": [
              "48000"
            ]
          },
          "metadata": {
            "tags": []
          },
          "execution_count": 53
        }
      ]
    },
    {
      "cell_type": "code",
      "metadata": {
        "id": "sd8ZFm9Gt1F0",
        "colab_type": "code",
        "colab": {}
      },
      "source": [
        "def get_data_loaders(train_labeled_data, train_unlabeled_data, test_data, train_batch_size, val_batch_size):\n",
        "    train_loader = DataLoader(train_labeled_data, batch_size=train_batch_size, shuffle=True)\n",
        "    train_unlabeled_loader = DataLoader(train_unlabeled_data, batch_size=train_batch_size, shuffle=True)\n",
        "    val_loader = DataLoader(test_data, batch_size=val_batch_size, shuffle=False,)\n",
        "\n",
        "\n",
        "\n",
        "    return train_loader,train_unlabeled_loader, val_loader"
      ],
      "execution_count": 60,
      "outputs": []
    },
    {
      "cell_type": "code",
      "metadata": {
        "id": "IEhLAk4zu5fg",
        "colab_type": "code",
        "colab": {}
      },
      "source": [
        "batch_size_train = 64\n",
        "batch_size_test = 1000\n",
        "\n",
        "train_labeled_loader2,train_unlabeled_loader2,val_loader2 =  get_data_loaders(labeled_subsetA, train_unlabeled_data,val_dataset, batch_size_train, batch_size_test)"
      ],
      "execution_count": 61,
      "outputs": []
    },
    {
      "cell_type": "code",
      "metadata": {
        "id": "xdq44oxRi-nD",
        "colab_type": "code",
        "colab": {
          "base_uri": "https://localhost:8080/",
          "height": 67
        },
        "outputId": "ebd51424-ff11-43c7-c655-0bd13f2056a1"
      },
      "source": [
        "batch1 = next(iter(train_loader))\n",
        "print(batch1[0].shape)\n",
        "print(batch1[1].shape)\n",
        "len(batch1)"
      ],
      "execution_count": 62,
      "outputs": [
        {
          "output_type": "stream",
          "text": [
            "torch.Size([64, 1, 28, 28])\n",
            "torch.Size([64])\n"
          ],
          "name": "stdout"
        },
        {
          "output_type": "execute_result",
          "data": {
            "text/plain": [
              "2"
            ]
          },
          "metadata": {
            "tags": []
          },
          "execution_count": 62
        }
      ]
    },
    {
      "cell_type": "code",
      "metadata": {
        "id": "SZt2gPhOgpqd",
        "colab_type": "code",
        "colab": {}
      },
      "source": [
        "examples = enumerate(test_loader)\n",
        "batch_idx, (example_data, example_targets) = next(examples)"
      ],
      "execution_count": 63,
      "outputs": []
    },
    {
      "cell_type": "markdown",
      "metadata": {
        "id": "mWflUktWouc5",
        "colab_type": "text"
      },
      "source": [
        "## Defing Network"
      ]
    },
    {
      "cell_type": "code",
      "metadata": {
        "id": "vwGo4gT_guI1",
        "colab_type": "code",
        "colab": {}
      },
      "source": [
        "class Net(nn.Module):\n",
        "    def __init__(self):\n",
        "        super(Net, self).__init__()\n",
        "        self.conv1 = nn.Conv2d(1, 10, kernel_size=5)\n",
        "        self.conv2 = nn.Conv2d(10, 20, kernel_size=5)\n",
        "        self.conv2_drop = nn.Dropout2d()\n",
        "        self.fc1 = nn.Linear(320, 50)\n",
        "        self.fc2 = nn.Linear(50, 10)\n",
        "\n",
        "    def forward(self, x):\n",
        "        x = F.relu(F.max_pool2d(self.conv1(x), 2))\n",
        "        x = F.relu(F.max_pool2d(self.conv2_drop(self.conv2(x)), 2))\n",
        "        x = x.view(-1, 320)\n",
        "        x = F.relu(self.fc1(x))\n",
        "        x = F.dropout(x, training=self.training)\n",
        "        x = self.fc2(x)\n",
        "        return F.log_softmax(x)"
      ],
      "execution_count": 64,
      "outputs": []
    },
    {
      "cell_type": "code",
      "metadata": {
        "id": "A8lcj0xsgxTJ",
        "colab_type": "code",
        "colab": {}
      },
      "source": [
        "network = Net()\n",
        "optimizer = optim.SGD(network.parameters(), lr=learning_rate,\n",
        "                      momentum=momentum)"
      ],
      "execution_count": 65,
      "outputs": []
    },
    {
      "cell_type": "code",
      "metadata": {
        "id": "jXtiBjHPg0Wz",
        "colab_type": "code",
        "colab": {}
      },
      "source": [
        "train_losses = []\n",
        "train_counter = []\n",
        "test_losses = []\n",
        "test_counter = [i*len(val_loader2.dataset) for i in range(n_epochs + 1)]"
      ],
      "execution_count": 66,
      "outputs": []
    },
    {
      "cell_type": "markdown",
      "metadata": {
        "id": "dLAEq0jAxvXN",
        "colab_type": "text"
      },
      "source": [
        "## Training"
      ]
    },
    {
      "cell_type": "code",
      "metadata": {
        "id": "Sxe0HG4FwbnF",
        "colab_type": "code",
        "colab": {}
      },
      "source": [
        "num_cycles = 20\n",
        "# training\n",
        "def train2(epoch=10):\n",
        "    network.train()\n",
        "    \n",
        "    #pre-training without unlabeled data \n",
        "    if epoch > num_cycles:\n",
        "        for batch_idx, (data, target) in enumerate(train_unlabeled_loader2):\n",
        "            network.eval()\n",
        "            output = network(data)\n",
        "            fake_target = (output.data.max(1)[1].view(-1)) # using pseudo label method and get pseudo labels\n",
        "            network.train()\n",
        "            #data.volatile = False\n",
        "            optimizer.zero_grad()\n",
        "            output = network(data)\n",
        "            loss = F.nll_loss(output, fake_target)\n",
        "            loss.backward()\n",
        "            optimizer.step()\n",
        "            if batch_idx % 10 == 0:\n",
        "                print('Train Epoch: {} [{}/{} ({:.0f}%)]\\tLoss: {:.6f}'.format(\n",
        "                    epoch, batch_idx * len(data), len(train_unlabeled_loader2.dataset),\n",
        "                    100. * batch_idx / len(train_unlabeled_loader2), loss.item()))\n",
        "\n",
        "    avg_train_loss = 0\n",
        "    for batch_idx, (data, target) in enumerate(train_labeled_loader2):\n",
        "        \n",
        "        \n",
        "        optimizer.zero_grad()\n",
        "        output = network(data)\n",
        "        loss = F.nll_loss(output, target)\n",
        "        loss.backward()\n",
        "        optimizer.step()\n",
        "        if batch_idx % log_interval == 0:\n",
        "            print('Train Epoch: {} [{}/{} ({:.0f}%)]\\tLoss: {:.6f}'.format(\n",
        "                epoch, batch_idx * len(data), len(train_labeled_loader2.dataset),\n",
        "                100. * batch_idx / len(train_labeled_loader2), loss.item()))\n",
        "            avg_train_loss += loss.item()\n",
        "            train_losses.append(loss.item())\n",
        "            train_counter.append(\n",
        "              (batch_idx*64) + ((epoch-1)*len(train_labeled_loader2.dataset)))\n",
        "     \n",
        "    avg_train_loss = avg_train_loss / (len(train_labeled_loader2) / 500)\n",
        "    #loss_compare.write(str(avg_train_loss) + ',') # no need for now\n",
        "\n"
      ],
      "execution_count": 68,
      "outputs": []
    },
    {
      "cell_type": "code",
      "metadata": {
        "id": "GVZPptpcg6dz",
        "colab_type": "code",
        "colab": {}
      },
      "source": [
        "def test():\n",
        "  network.eval()\n",
        "  test_loss = 0\n",
        "  correct = 0\n",
        "  with torch.no_grad():\n",
        "    for data, target in val_loader2: #modifing it : test_loader\n",
        "      output = network(data)\n",
        "      test_loss += F.nll_loss(output, target, size_average=False).item()\n",
        "      pred = output.data.max(1, keepdim=True)[1]\n",
        "      correct += pred.eq(target.data.view_as(pred)).sum()\n",
        "  test_loss /= len(val_loader2.dataset)\n",
        "  test_losses.append(test_loss)\n",
        "  print('\\nTest set: Avg. loss: {:.4f}, Accuracy: {}/{} ({:.0f}%)\\n'.format(\n",
        "    test_loss, correct, len(val_loader2.dataset),\n",
        "    100. * correct / len(val_loader2.dataset)))"
      ],
      "execution_count": 69,
      "outputs": []
    },
    {
      "cell_type": "markdown",
      "metadata": {
        "id": "bm49E6-m0RUZ",
        "colab_type": "text"
      },
      "source": [
        "## Network Training"
      ]
    },
    {
      "cell_type": "code",
      "metadata": {
        "id": "cZLzdJBNg9RN",
        "colab_type": "code",
        "colab": {
          "base_uri": "https://localhost:8080/",
          "height": 1000
        },
        "outputId": "3583e073-a259-4d90-8507-c687cb245fc3"
      },
      "source": [
        "#test()-- don't use this\n",
        "for epoch in range(1, n_epochs + 1):\n",
        "  train2(epoch)\n",
        "  test()"
      ],
      "execution_count": 70,
      "outputs": [
        {
          "output_type": "stream",
          "text": [
            "/usr/local/lib/python3.6/dist-packages/ipykernel_launcher.py:17: UserWarning: Implicit dimension choice for log_softmax has been deprecated. Change the call to include dim=X as an argument.\n"
          ],
          "name": "stderr"
        },
        {
          "output_type": "stream",
          "text": [
            "Train Epoch: 1 [0/12000 (0%)]\tLoss: 2.356843\n",
            "Train Epoch: 1 [640/12000 (5%)]\tLoss: 2.283128\n",
            "Train Epoch: 1 [1280/12000 (11%)]\tLoss: 2.303393\n",
            "Train Epoch: 1 [1920/12000 (16%)]\tLoss: 2.308585\n",
            "Train Epoch: 1 [2560/12000 (21%)]\tLoss: 2.289832\n",
            "Train Epoch: 1 [3200/12000 (27%)]\tLoss: 2.247993\n",
            "Train Epoch: 1 [3840/12000 (32%)]\tLoss: 2.217648\n",
            "Train Epoch: 1 [4480/12000 (37%)]\tLoss: 2.209392\n",
            "Train Epoch: 1 [5120/12000 (43%)]\tLoss: 2.127865\n",
            "Train Epoch: 1 [5760/12000 (48%)]\tLoss: 2.147814\n",
            "Train Epoch: 1 [6400/12000 (53%)]\tLoss: 1.990887\n",
            "Train Epoch: 1 [7040/12000 (59%)]\tLoss: 1.939869\n",
            "Train Epoch: 1 [7680/12000 (64%)]\tLoss: 1.816510\n",
            "Train Epoch: 1 [8320/12000 (69%)]\tLoss: 1.631183\n",
            "Train Epoch: 1 [8960/12000 (74%)]\tLoss: 1.695031\n",
            "Train Epoch: 1 [9600/12000 (80%)]\tLoss: 1.607823\n",
            "Train Epoch: 1 [10240/12000 (85%)]\tLoss: 1.252385\n",
            "Train Epoch: 1 [10880/12000 (90%)]\tLoss: 1.546888\n",
            "Train Epoch: 1 [11520/12000 (96%)]\tLoss: 1.331514\n"
          ],
          "name": "stdout"
        },
        {
          "output_type": "stream",
          "text": [
            "/usr/local/lib/python3.6/dist-packages/torch/nn/_reduction.py:44: UserWarning: size_average and reduce args will be deprecated, please use reduction='sum' instead.\n",
            "  warnings.warn(warning.format(ret))\n"
          ],
          "name": "stderr"
        },
        {
          "output_type": "stream",
          "text": [
            "\n",
            "Test set: Avg. loss: 0.8873, Accuracy: 7999/10000 (80%)\n",
            "\n",
            "Train Epoch: 2 [0/12000 (0%)]\tLoss: 1.278169\n",
            "Train Epoch: 2 [640/12000 (5%)]\tLoss: 1.220971\n",
            "Train Epoch: 2 [1280/12000 (11%)]\tLoss: 1.021689\n",
            "Train Epoch: 2 [1920/12000 (16%)]\tLoss: 1.331441\n",
            "Train Epoch: 2 [2560/12000 (21%)]\tLoss: 1.103626\n",
            "Train Epoch: 2 [3200/12000 (27%)]\tLoss: 0.911389\n",
            "Train Epoch: 2 [3840/12000 (32%)]\tLoss: 1.097379\n",
            "Train Epoch: 2 [4480/12000 (37%)]\tLoss: 0.932774\n",
            "Train Epoch: 2 [5120/12000 (43%)]\tLoss: 1.023763\n",
            "Train Epoch: 2 [5760/12000 (48%)]\tLoss: 1.056321\n",
            "Train Epoch: 2 [6400/12000 (53%)]\tLoss: 0.913733\n",
            "Train Epoch: 2 [7040/12000 (59%)]\tLoss: 0.877066\n",
            "Train Epoch: 2 [7680/12000 (64%)]\tLoss: 0.827073\n",
            "Train Epoch: 2 [8320/12000 (69%)]\tLoss: 1.150973\n",
            "Train Epoch: 2 [8960/12000 (74%)]\tLoss: 0.919090\n",
            "Train Epoch: 2 [9600/12000 (80%)]\tLoss: 0.814670\n",
            "Train Epoch: 2 [10240/12000 (85%)]\tLoss: 0.679225\n",
            "Train Epoch: 2 [10880/12000 (90%)]\tLoss: 0.755622\n",
            "Train Epoch: 2 [11520/12000 (96%)]\tLoss: 0.881196\n",
            "\n",
            "Test set: Avg. loss: 0.3823, Accuracy: 8986/10000 (90%)\n",
            "\n",
            "Train Epoch: 3 [0/12000 (0%)]\tLoss: 0.585977\n",
            "Train Epoch: 3 [640/12000 (5%)]\tLoss: 0.822825\n",
            "Train Epoch: 3 [1280/12000 (11%)]\tLoss: 0.691812\n",
            "Train Epoch: 3 [1920/12000 (16%)]\tLoss: 0.864580\n",
            "Train Epoch: 3 [2560/12000 (21%)]\tLoss: 0.548540\n",
            "Train Epoch: 3 [3200/12000 (27%)]\tLoss: 0.678630\n",
            "Train Epoch: 3 [3840/12000 (32%)]\tLoss: 0.850086\n",
            "Train Epoch: 3 [4480/12000 (37%)]\tLoss: 0.607793\n",
            "Train Epoch: 3 [5120/12000 (43%)]\tLoss: 0.577783\n",
            "Train Epoch: 3 [5760/12000 (48%)]\tLoss: 0.732560\n",
            "Train Epoch: 3 [6400/12000 (53%)]\tLoss: 0.690045\n",
            "Train Epoch: 3 [7040/12000 (59%)]\tLoss: 0.600627\n",
            "Train Epoch: 3 [7680/12000 (64%)]\tLoss: 0.825488\n",
            "Train Epoch: 3 [8320/12000 (69%)]\tLoss: 0.704291\n",
            "Train Epoch: 3 [8960/12000 (74%)]\tLoss: 0.734166\n",
            "Train Epoch: 3 [9600/12000 (80%)]\tLoss: 0.570855\n",
            "Train Epoch: 3 [10240/12000 (85%)]\tLoss: 0.533397\n",
            "Train Epoch: 3 [10880/12000 (90%)]\tLoss: 0.863624\n",
            "Train Epoch: 3 [11520/12000 (96%)]\tLoss: 0.643277\n",
            "\n",
            "Test set: Avg. loss: 0.2731, Accuracy: 9240/10000 (92%)\n",
            "\n"
          ],
          "name": "stdout"
        }
      ]
    },
    {
      "cell_type": "code",
      "metadata": {
        "id": "dFC0z8-Cv0Eq",
        "colab_type": "code",
        "colab": {
          "base_uri": "https://localhost:8080/",
          "height": 50
        },
        "outputId": "0b22196f-e8c9-4016-9498-91c3cb54bae5"
      },
      "source": [
        "# fixing the shape issue\n",
        "print(n_epochs)\n",
        "len(test_losses)\n",
        "\n",
        "len(test_counter)"
      ],
      "execution_count": 23,
      "outputs": [
        {
          "output_type": "stream",
          "text": [
            "3\n"
          ],
          "name": "stdout"
        },
        {
          "output_type": "execute_result",
          "data": {
            "text/plain": [
              "4"
            ]
          },
          "metadata": {
            "tags": []
          },
          "execution_count": 23
        }
      ]
    },
    {
      "cell_type": "code",
      "metadata": {
        "id": "s0b8qoSFhDFf",
        "colab_type": "code",
        "colab": {
          "base_uri": "https://localhost:8080/",
          "height": 54
        },
        "outputId": "1be19fb8-fe1e-41d4-c97d-de1afe2ff7df"
      },
      "source": [
        "with torch.no_grad():\n",
        "  output = network(example_data)"
      ],
      "execution_count": 25,
      "outputs": [
        {
          "output_type": "stream",
          "text": [
            "/usr/local/lib/python3.6/dist-packages/ipykernel_launcher.py:17: UserWarning: Implicit dimension choice for log_softmax has been deprecated. Change the call to include dim=X as an argument.\n"
          ],
          "name": "stderr"
        }
      ]
    },
    {
      "cell_type": "markdown",
      "metadata": {
        "id": "Stlv-UGhohtj",
        "colab_type": "text"
      },
      "source": [
        "## Visualizing Accuracy and Prediction"
      ]
    },
    {
      "cell_type": "code",
      "metadata": {
        "id": "NarPid42hIzJ",
        "colab_type": "code",
        "colab": {
          "base_uri": "https://localhost:8080/",
          "height": 551
        },
        "outputId": "218f2203-5b68-41cc-978f-13e74544b769"
      },
      "source": [
        "fig = plt.figure()\n",
        "for i in range(6):\n",
        "  plt.subplot(2,3,i+1)\n",
        "  plt.tight_layout()\n",
        "  plt.imshow(example_data[i][0], cmap='gray', interpolation='none')\n",
        "  plt.title(\"Prediction: {}\".format(\n",
        "    output.data.max(1, keepdim=True)[1][i].item()))\n",
        "  plt.xticks([])\n",
        "  plt.yticks([])\n",
        "fig"
      ],
      "execution_count": 26,
      "outputs": [
        {
          "output_type": "execute_result",
          "data": {
            "image/png": "[encoded data removed]",
            "text/plain": [
              "<Figure size 432x288 with 6 Axes>"
            ]
          },
          "metadata": {
            "tags": []
          },
          "execution_count": 26
        },
        {
          "output_type": "display_data",
          "data": {
            "image/png": "[encoded data removed]",
            "text/plain": [
              "<Figure size 432x288 with 6 Axes>"
            ]
          },
          "metadata": {
            "tags": []
          }
        }
      ]
    }
  ]
}