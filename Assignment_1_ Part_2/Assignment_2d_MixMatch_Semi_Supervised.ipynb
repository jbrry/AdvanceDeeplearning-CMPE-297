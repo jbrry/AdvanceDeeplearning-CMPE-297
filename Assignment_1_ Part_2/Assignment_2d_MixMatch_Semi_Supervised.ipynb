{
  "nbformat": 4,
  "nbformat_minor": 0,
  "metadata": {
    "colab": {
      "name": "Assignment_2d_MixMatch_Semi_Supervised.ipynb",
      "provenance": [],
      "toc_visible": true,
      "machine_shape": "hm",
      "include_colab_link": true
    },
    "kernelspec": {
      "name": "python3",
      "display_name": "Python 3"
    },
    "accelerator": "GPU"
  },
  "cells": [
    {
      "cell_type": "markdown",
      "metadata": {
        "id": "view-in-github",
        "colab_type": "text"
      },
      "source": [
        "<a href=\"https://colab.research.google.com/github/s-c-soma/AdvanceDeeplearning-CMPE-297/blob/master/Assignment_1_%20Part_2/Assignment_2d_MixMatch_Semi_Supervised.ipynb\" target=\"_parent\"><img src=\"https://colab.research.google.com/assets/colab-badge.svg\" alt=\"Open In Colab\"/></a>"
      ]
    },
    {
      "cell_type": "markdown",
      "metadata": {
        "id": "rGvfSeu9cZ-C",
        "colab_type": "text"
      },
      "source": [
        "# 2D - MixMatch semi supervised classification "
      ]
    },
    {
      "cell_type": "markdown",
      "metadata": {
        "id": "sM-NH2H6i2RT",
        "colab_type": "text"
      },
      "source": [
        "# Implementation Details and Discussion"
      ]
    },
    {
      "cell_type": "markdown",
      "metadata": {
        "id": "L1QB5Gn8d9WC",
        "colab_type": "text"
      },
      "source": [
        "**Semi-supervised** is an machine learning approach that deals with both label and unlabeled data. The amount of labeled data is very less compared to unlabeled data. So Semi-supervised learning belongs to both unsupervised and supervised learning"
      ]
    },
    {
      "cell_type": "markdown",
      "metadata": {
        "id": "mK1JJO85fa8h",
        "colab_type": "text"
      },
      "source": [
        "**Mixmatch** technique uses is a part of Semi-supervised learning and includes the 3 paradigms of SSL. Previously these approaches were being used seperately. The approache is used by augmenting both the labeled and unlabeled traning set. Consistency regularization, entropy minimization and traditional regularization are being blended for this approach"
      ]
    },
    {
      "cell_type": "markdown",
      "metadata": {
        "id": "CSalV4O5gvP2",
        "colab_type": "text"
      },
      "source": [
        "**Implementation**\n",
        "\n",
        "In my following implementation I have used two datasets. Part 1 contains the CIFAR dataset and part-2 contains Mnist dataset. For the submission I have minimized the number of epochs, so that the colab can be run again if needed. Following section contains the steps of the algorithm that is being followed in every step of implementation. The accuracy with the Cifar dataset is higher compared to Mnist dataset."
      ]
    },
    {
      "cell_type": "markdown",
      "metadata": {
        "id": "VkNlW4j8krlp",
        "colab_type": "text"
      },
      "source": [
        "**The Mixmatch Algorithm**\n",
        "> This Mixmatch algorithim combines the following steps for implementation. \n",
        "\n",
        "* 1. Training data is supplied with labeled and unlabeled data\n",
        "* 2. Then labeled batch is augmented to produce a new training batch\n",
        "* 3. I have augmented each image in the unlabeled batch for $K$ times to produce new unlabeled batch of total $BatchSize * K$\n",
        "* 4. Then for each normal image in the unlabeled batch, $K$ augmented images are passed to the model for training. Then the average of the model's prediction is computed to generate a pseudo-label for augmented images\n",
        "* 5. The I have sharpened the the psedu-label images\n",
        "* 6. Combining the augmented labeled images and it's labels, a new dataset is formed called $S$. $U$ is the set of augmented unlabeled images and its predicted labels. \n",
        "* 7. Now I have concatenated both the sets $S$ and $U$ and formed a new set called $W$ after shuffling.\n",
        "* 8. After that I have a formed a set $S'$ by applying mixup augmentation process to sets $S$ and $|S|$ from $W$. This process is implmented seperately for two datasets.\n",
        "* 9. Set $U'$ is formed by applying mixup augmentation to sets $U$ and rest of the elements of $W$ \n",
        "\n",
        "Finally $S'$ (labeled mixup) and $U'$ (unlabeled mixup) are passed to the netwprk model for prediction. The computed loss using mixed-up labels is shown below for each dataset\n"
      ]
    },
    {
      "cell_type": "code",
      "metadata": {
        "id": "DiBacPcogtly",
        "colab_type": "code",
        "colab": {
          "base_uri": "https://localhost:8080/",
          "height": 70
        },
        "outputId": "30dabfa6-266b-4ca8-a310-cae83cf658d2"
      },
      "source": [
        "#Importing fastai will also import numpy, pytorch, etc. \n",
        "from fastai.vision import *\n",
        "from numbers import Integral\n",
        "import seaborn as sns\n",
        "\n",
        "\n",
        "from sklearn.datasets import make_moons, make_blobs, make_circles, make_classification\n",
        "import pdb\n",
        "import contextlib\n",
        "from sklearn.decomposition import PCA\n",
        "from sklearn.manifold import TSNE"
      ],
      "execution_count": null,
      "outputs": [
        {
          "output_type": "stream",
          "text": [
            "/usr/local/lib/python3.6/dist-packages/statsmodels/tools/_testing.py:19: FutureWarning: pandas.util.testing is deprecated. Use the functions in the public API at pandas.testing instead.\n",
            "  import pandas.util.testing as tm\n"
          ],
          "name": "stderr"
        }
      ]
    },
    {
      "cell_type": "markdown",
      "metadata": {
        "id": "cSE9etiJe11y",
        "colab_type": "text"
      },
      "source": [
        "# Part 1 - Using Cifar Dataset"
      ]
    },
    {
      "cell_type": "markdown",
      "metadata": {
        "id": "BOPihvUkg6nS",
        "colab_type": "text"
      },
      "source": [
        "## Data Augmentation"
      ]
    },
    {
      "cell_type": "code",
      "metadata": {
        "id": "DGppgHMSg-RZ",
        "colab_type": "code",
        "colab": {}
      },
      "source": [
        "#Modified from \n",
        "K=2\n",
        "class MultiTransformLabelList(LabelList):\n",
        "    def __getitem__(self,idxs:Union[int,np.ndarray])->'LabelList':\n",
        "        \"return a single (x, y) if `idxs` is an integer or a new `LabelList` object if `idxs` is a range.\"\n",
        "        idxs = try_int(idxs)\n",
        "        if isinstance(idxs, Integral):\n",
        "            if self.item is None: x,y = self.x[idxs],self.y[idxs]\n",
        "            else:                 x,y = self.item   ,0\n",
        "            if self.tfms or self.tfmargs:\n",
        "                #I've changed this line to return a list of augmented images\n",
        "                x = [x.apply_tfms(self.tfms, **self.tfmargs) for _ in range(K)]\n",
        "            if hasattr(self, 'tfms_y') and self.tfm_y and self.item is None:\n",
        "                y = y.apply_tfms(self.tfms_y, **{**self.tfmargs_y, 'do_resolve':False})\n",
        "            if y is None: y=0\n",
        "            return x,y\n",
        "        else: return self.new(self.x[idxs], self.y[idxs])\n",
        "        \n",
        "#I'll also need to change the default collate function to accomodate multiple augments\n",
        "def MixmatchCollate(batch):\n",
        "    batch = to_data(batch)\n",
        "    if isinstance(batch[0][0],list):\n",
        "        batch = [[torch.stack(s[0]),s[1]] for s in batch]\n",
        "    return torch.utils.data.dataloader.default_collate(batch)"
      ],
      "execution_count": null,
      "outputs": []
    },
    {
      "cell_type": "code",
      "metadata": {
        "id": "ninRldiJhidp",
        "colab_type": "code",
        "colab": {
          "base_uri": "https://localhost:8080/",
          "height": 34
        },
        "outputId": "2a51e16c-268a-407e-8b3b-259dff4a5b7e"
      },
      "source": [
        "#Grab file path to cifar dataset. Will download data if not present\n",
        "path = untar_data(URLs.CIFAR)\n",
        "\n",
        "#Custom ImageList with filter function\n",
        "class MixMatchImageList(ImageList):\n",
        "    def filter_train(self,num_items,seed=2343):\n",
        "        train_idxs = np.array([i for i,o in enumerate(self.items) if Path(o).parts[-3] != \"test\"])\n",
        "        valid_idxs = np.array([i for i,o in enumerate(self.items) if Path(o).parts[-3] == \"test\"])\n",
        "        np.random.seed(seed)\n",
        "        keep_idxs = np.random.choice(train_idxs,num_items,replace=False)\n",
        "        self.items = np.array([o for i,o in enumerate(self.items) if i in np.concatenate([keep_idxs,valid_idxs])])\n",
        "        return self\n",
        "    \n",
        "#Create two databunch objects for the labeled and unlabled images using fastai\n",
        "data_labeled = (MixMatchImageList.from_folder(path)\n",
        "                .filter_train(500) #Use 500 labeled images for traning\n",
        "                .split_by_folder(valid=\"test\") #test on all 10000 images in test set\n",
        "                .label_from_folder()\n",
        "                .transform(get_transforms(),size=32)\n",
        "                # num_workers=0 for a potential performance improvement\n",
        "                .databunch(bs=64,num_workers=0)\n",
        "                .normalize(cifar_stats))\n",
        "\n",
        "train_set = set(data_labeled.train_ds.x.items)\n",
        "src = (ImageList.from_folder(path)\n",
        "        .filter_by_func(lambda x: x not in train_set)\n",
        "        .split_by_folder(valid=\"test\"))\n",
        "src.train._label_list = MultiTransformLabelList\n",
        "data_unlabeled = (src.label_from_folder()\n",
        "         .transform(get_transforms(),size=32)\n",
        "         .databunch(bs=128,collate_fn=MixmatchCollate,num_workers=0)\n",
        "         .normalize(cifar_stats))\n",
        "\n",
        "#Databunch with all 50k images labeled, for baseline\n",
        "data_full = (ImageList.from_folder(path)\n",
        "        .split_by_folder(valid=\"test\")\n",
        "        .label_from_folder()\n",
        "        .transform(get_transforms(),size=32)\n",
        "        .databunch(bs=128,num_workers=0)\n",
        "        .normalize(cifar_stats))"
      ],
      "execution_count": null,
      "outputs": [
        {
          "output_type": "stream",
          "text": [
            "Downloading http://files.fast.ai/data/examples/cifar10.tgz\n"
          ],
          "name": "stdout"
        },
        {
          "output_type": "display_data",
          "data": {
            "text/html": [
              ""
            ],
            "text/plain": [
              "<IPython.core.display.HTML object>"
            ]
          },
          "metadata": {
            "tags": []
          }
        }
      ]
    },
    {
      "cell_type": "markdown",
      "metadata": {
        "id": "vzEA0CkTiElY",
        "colab_type": "text"
      },
      "source": [
        "## Mixup"
      ]
    },
    {
      "cell_type": "code",
      "metadata": {
        "id": "0FvzgKy6h53Y",
        "colab_type": "code",
        "colab": {
          "base_uri": "https://localhost:8080/",
          "height": 202
        },
        "outputId": "7757e1ad-adb6-449d-b640-1167a8b2652c"
      },
      "source": [
        "from scipy.stats import beta\n",
        "x = np.linspace(0.01,0.99, 100)\n",
        "fig, axes = plt.subplots(1,5,figsize=(36,5))\n",
        "fig.suptitle(r\"$\\beta(\\alpha,\\alpha)$ Distribution\",fontsize=16)\n",
        "alphas = [0.2,0.75,1,10,100]\n",
        "for a, ax in zip(alphas,axes.flatten()):\n",
        "    ax.set_title(r\"$\\alpha={}$\".format(a))\n",
        "    ax.plot(x, beta.pdf(x, a, a))"
      ],
      "execution_count": null,
      "outputs": [
        {
          "output_type": "display_data",
          "data": {
            "image/png": "[encoded data removed]",
            "text/plain": [
              "<Figure size 2592x360 with 5 Axes>"
            ]
          },
          "metadata": {
            "tags": [],
            "needs_background": "light"
          }
        }
      ]
    },
    {
      "cell_type": "code",
      "metadata": {
        "id": "Qz59wASKiqin",
        "colab_type": "code",
        "colab": {}
      },
      "source": [
        "def mixup(a_x,a_y,b_x,b_y,alpha=0.75):\n",
        "    l = np.random.beta(alpha,alpha)\n",
        "    l = max(l,1-l)\n",
        "    x = l * a_x + (1-l) * b_x\n",
        "    y = l* a_y + (1-l) * b_y\n",
        "    return x,y"
      ],
      "execution_count": null,
      "outputs": []
    },
    {
      "cell_type": "markdown",
      "metadata": {
        "id": "EOlFS4YdkY86",
        "colab_type": "text"
      },
      "source": [
        "## Sharpening"
      ]
    },
    {
      "cell_type": "code",
      "metadata": {
        "id": "bxQ6UcF7kbc8",
        "colab_type": "code",
        "colab": {}
      },
      "source": [
        "def sharpen(p,T=0.5):\n",
        "    u = p ** (1/T)\n",
        "    return u / u.sum(dim=1,keepdim=True)"
      ],
      "execution_count": null,
      "outputs": []
    },
    {
      "cell_type": "code",
      "metadata": {
        "id": "wyApK8g3kgm5",
        "colab_type": "code",
        "colab": {
          "base_uri": "https://localhost:8080/",
          "height": 291
        },
        "outputId": "6bfd26a6-905c-4f75-b2a0-2ca9008df562"
      },
      "source": [
        "a = torch.softmax(torch.randn(10),0)\n",
        "fig, axes = plt.subplots(1,3,figsize=(24,5))\n",
        "fig.suptitle(\"The effect of sharpening on randomly generated distribution\")\n",
        "sns.barplot(x=np.arange(10),y=a,color=\"blue\",ax=axes[0])\n",
        "axes[0].set_title(\"$T = 1.0$\")\n",
        "sns.barplot(x=np.arange(10),y=sharpen(a[None,:],0.5)[0],color=\"orange\",ax=axes[1])\n",
        "axes[1].set_title(\"$T = 0.5$\")\n",
        "sns.barplot(x=np.arange(10),y=sharpen(a[None,:],0.1)[0],color=\"red\",ax=axes[2])\n",
        "axes[2].set_title(\"$T = 0.1$\");"
      ],
      "execution_count": null,
      "outputs": [
        {
          "output_type": "display_data",
          "data": {
            "image/png": "[encoded data removed]",
            "text/plain": [
              "<Figure size 1728x360 with 3 Axes>"
            ]
          },
          "metadata": {
            "tags": [],
            "needs_background": "light"
          }
        }
      ]
    },
    {
      "cell_type": "markdown",
      "metadata": {
        "id": "yWlwhwchnKxZ",
        "colab_type": "text"
      },
      "source": [
        "## Building Model"
      ]
    },
    {
      "cell_type": "code",
      "metadata": {
        "id": "AnJCK_ovnPDZ",
        "colab_type": "code",
        "colab": {}
      },
      "source": [
        "model = models.WideResNet(num_groups=3,N=4,num_classes=10,k=2,start_nf=32)"
      ],
      "execution_count": null,
      "outputs": []
    },
    {
      "cell_type": "markdown",
      "metadata": {
        "id": "y6s6sbZonV55",
        "colab_type": "text"
      },
      "source": [
        "## Loss"
      ]
    },
    {
      "cell_type": "code",
      "metadata": {
        "id": "DIpaqlI9nZ4_",
        "colab_type": "code",
        "colab": {}
      },
      "source": [
        "class MixupLoss(nn.Module):\n",
        "    def forward(self, preds, target, unsort=None, ramp=None, bs=None):\n",
        "        if unsort is None:\n",
        "            return F.cross_entropy(preds,target)\n",
        "        preds = preds[unsort]\n",
        "        preds_l = preds[:bs]\n",
        "        preds_ul = preds[bs:]\n",
        "        preds_l = torch.log_softmax(preds_l,dim=1)\n",
        "        preds_ul = torch.softmax(preds_ul,dim=1)\n",
        "        loss_x = -(preds_l * target[:bs]).sum(dim=1).mean()\n",
        "        loss_u = F.mse_loss(preds_ul,target[bs:])\n",
        "        self.loss_x = loss_x.item()\n",
        "        self.loss_u = loss_u.item()\n",
        "        return loss_x + 100 * ramp * loss_u"
      ],
      "execution_count": null,
      "outputs": []
    },
    {
      "cell_type": "markdown",
      "metadata": {
        "id": "D2R3n--enhaj",
        "colab_type": "text"
      },
      "source": [
        "## Training\n",
        "\n",
        "Training the models using mixmatch labels"
      ]
    },
    {
      "cell_type": "code",
      "metadata": {
        "id": "1dIn__sjnlDv",
        "colab_type": "code",
        "colab": {}
      },
      "source": [
        "class MixMatchTrainer(LearnerCallback):\n",
        "    _order=-20\n",
        "    def on_train_begin(self, **kwargs):\n",
        "        self.l_dl = iter(data_labeled.train_dl)\n",
        "        self.smoothL, self.smoothUL = SmoothenValue(0.98), SmoothenValue(0.98)\n",
        "        self.recorder.add_metric_names([\"l_loss\",\"ul_loss\"])\n",
        "        self.it = 0\n",
        "        \n",
        "    def on_batch_begin(self, train, last_input, last_target, **kwargs):\n",
        "        if not train: return\n",
        "        try:\n",
        "            x_l,y_l = next(self.l_dl)\n",
        "        except:\n",
        "            self.l_dl = iter(data_labeled.train_dl)\n",
        "            x_l,y_l = next(self.l_dl)\n",
        "            \n",
        "        x_ul = last_input\n",
        "        \n",
        "        with torch.no_grad():\n",
        "            ul_labels = sharpen(torch.softmax(torch.stack([self.learn.model(x_ul[:,i]) for i in range(x_ul.shape[1])],dim=1),dim=2).mean(dim=1))\n",
        "            \n",
        "        x_ul = torch.cat([x for x in x_ul])\n",
        "        ul_labels = torch.cat([y.unsqueeze(0).expand(K,-1) for y in ul_labels])\n",
        "        \n",
        "        l_labels = torch.eye(data_labeled.c).cuda()[y_l]\n",
        "        \n",
        "        w_x = torch.cat([x_l,x_ul])\n",
        "        w_y = torch.cat([l_labels,ul_labels])\n",
        "        idxs = torch.randperm(w_x.shape[0])\n",
        "        \n",
        "        mixed_input, mixed_target = mixup(w_x,w_y,w_x[idxs],w_y[idxs])\n",
        "        bn_idxs = torch.randperm(mixed_input.shape[0])\n",
        "        unsort = [0] * len(bn_idxs)\n",
        "        for i,j in enumerate(bn_idxs): unsort[j] = i\n",
        "        mixed_input = mixed_input[bn_idxs]\n",
        "    \n",
        "\n",
        "        ramp = self.it / 3000.0 if self.it < 3000 else 1.0\n",
        "        return {\"last_input\": mixed_input, \"last_target\": (mixed_target,unsort,ramp,x_l.shape[0])}\n",
        "    \n",
        "    def on_batch_end(self, train, **kwargs):\n",
        "        if not train: return\n",
        "        self.smoothL.add_value(self.learn.loss_func.loss_x)\n",
        "        self.smoothUL.add_value(self.learn.loss_func.loss_u)\n",
        "        self.it += 1\n",
        "\n",
        "    def on_epoch_end(self, last_metrics, **kwargs):\n",
        "        return add_metrics(last_metrics,[self.smoothL.smooth,self.smoothUL.smooth])"
      ],
      "execution_count": null,
      "outputs": []
    },
    {
      "cell_type": "code",
      "metadata": {
        "id": "KsK_JTvHnqny",
        "colab_type": "code",
        "colab": {}
      },
      "source": [
        "learn = Learner(data_unlabeled,model,loss_func=MixupLoss(),callback_fns=[MixMatchTrainer],metrics=accuracy)"
      ],
      "execution_count": null,
      "outputs": []
    },
    {
      "cell_type": "markdown",
      "metadata": {
        "id": "1_-MO1VxoB9x",
        "colab_type": "text"
      },
      "source": [
        "## Results"
      ]
    },
    {
      "cell_type": "code",
      "metadata": {
        "id": "V7jwAgf1oFMw",
        "colab_type": "code",
        "colab": {
          "base_uri": "https://localhost:8080/",
          "height": 343
        },
        "outputId": "cecdade1-42ef-4251-be75-780151f1d4f9"
      },
      "source": [
        "learnFS = Learner(data_full,models.WideResNet(num_groups=3,N=4,num_classes=10,k=2,start_nf=32),metrics=accuracy)\n",
        "# learnFS.fit_one_cycle(100,2e-2,wd=1e-4)\n",
        "learnFS.fit_one_cycle(10,2e-2,wd=1e-4)"
      ],
      "execution_count": null,
      "outputs": [
        {
          "output_type": "display_data",
          "data": {
            "text/html": [
              "<table border=\"1\" class=\"dataframe\">\n",
              "  <thead>\n",
              "    <tr style=\"text-align: left;\">\n",
              "      <th>epoch</th>\n",
              "      <th>train_loss</th>\n",
              "      <th>valid_loss</th>\n",
              "      <th>accuracy</th>\n",
              "      <th>time</th>\n",
              "    </tr>\n",
              "  </thead>\n",
              "  <tbody>\n",
              "    <tr>\n",
              "      <td>0</td>\n",
              "      <td>1.211738</td>\n",
              "      <td>1.799919</td>\n",
              "      <td>0.450500</td>\n",
              "      <td>01:52</td>\n",
              "    </tr>\n",
              "    <tr>\n",
              "      <td>1</td>\n",
              "      <td>0.938703</td>\n",
              "      <td>0.995341</td>\n",
              "      <td>0.657200</td>\n",
              "      <td>01:51</td>\n",
              "    </tr>\n",
              "    <tr>\n",
              "      <td>2</td>\n",
              "      <td>0.761930</td>\n",
              "      <td>0.797271</td>\n",
              "      <td>0.733100</td>\n",
              "      <td>01:51</td>\n",
              "    </tr>\n",
              "    <tr>\n",
              "      <td>3</td>\n",
              "      <td>0.618178</td>\n",
              "      <td>0.700240</td>\n",
              "      <td>0.771900</td>\n",
              "      <td>01:51</td>\n",
              "    </tr>\n",
              "    <tr>\n",
              "      <td>4</td>\n",
              "      <td>0.519543</td>\n",
              "      <td>0.545449</td>\n",
              "      <td>0.816100</td>\n",
              "      <td>01:51</td>\n",
              "    </tr>\n",
              "    <tr>\n",
              "      <td>5</td>\n",
              "      <td>0.421758</td>\n",
              "      <td>0.498815</td>\n",
              "      <td>0.836200</td>\n",
              "      <td>01:51</td>\n",
              "    </tr>\n",
              "    <tr>\n",
              "      <td>6</td>\n",
              "      <td>0.342447</td>\n",
              "      <td>0.398741</td>\n",
              "      <td>0.868900</td>\n",
              "      <td>01:51</td>\n",
              "    </tr>\n",
              "    <tr>\n",
              "      <td>7</td>\n",
              "      <td>0.275596</td>\n",
              "      <td>0.347749</td>\n",
              "      <td>0.887200</td>\n",
              "      <td>01:51</td>\n",
              "    </tr>\n",
              "    <tr>\n",
              "      <td>8</td>\n",
              "      <td>0.238292</td>\n",
              "      <td>0.288381</td>\n",
              "      <td>0.904800</td>\n",
              "      <td>01:51</td>\n",
              "    </tr>\n",
              "    <tr>\n",
              "      <td>9</td>\n",
              "      <td>0.211121</td>\n",
              "      <td>0.291114</td>\n",
              "      <td>0.903900</td>\n",
              "      <td>01:50</td>\n",
              "    </tr>\n",
              "  </tbody>\n",
              "</table>"
            ],
            "text/plain": [
              "<IPython.core.display.HTML object>"
            ]
          },
          "metadata": {
            "tags": []
          }
        }
      ]
    },
    {
      "cell_type": "markdown",
      "metadata": {
        "id": "2JAF1FCiob15",
        "colab_type": "text"
      },
      "source": [
        "training on just the 500 labeled images, with no unsupervised component"
      ]
    },
    {
      "cell_type": "code",
      "metadata": {
        "id": "u6ciNfc8oX4o",
        "colab_type": "code",
        "colab": {
          "base_uri": "https://localhost:8080/",
          "height": 195
        },
        "outputId": "d04d5837-14c9-4885-d6d1-1eb92e192ec0"
      },
      "source": [
        "learnBase = Learner(data_labeled,models.WideResNet(num_groups=3,N=4,num_classes=10,k=2,start_nf=32),metrics=accuracy)\n",
        "# learnBase.fit_one_cycle(50,2e-2,wd=1e-4)\n",
        "learnBase.fit_one_cycle(5,2e-2,wd=1e-4)"
      ],
      "execution_count": null,
      "outputs": [
        {
          "output_type": "display_data",
          "data": {
            "text/html": [
              "<table border=\"1\" class=\"dataframe\">\n",
              "  <thead>\n",
              "    <tr style=\"text-align: left;\">\n",
              "      <th>epoch</th>\n",
              "      <th>train_loss</th>\n",
              "      <th>valid_loss</th>\n",
              "      <th>accuracy</th>\n",
              "      <th>time</th>\n",
              "    </tr>\n",
              "  </thead>\n",
              "  <tbody>\n",
              "    <tr>\n",
              "      <td>0</td>\n",
              "      <td>2.221369</td>\n",
              "      <td>67.991249</td>\n",
              "      <td>0.103000</td>\n",
              "      <td>00:06</td>\n",
              "    </tr>\n",
              "    <tr>\n",
              "      <td>1</td>\n",
              "      <td>2.228044</td>\n",
              "      <td>337.835846</td>\n",
              "      <td>0.157500</td>\n",
              "      <td>00:06</td>\n",
              "    </tr>\n",
              "    <tr>\n",
              "      <td>2</td>\n",
              "      <td>2.176858</td>\n",
              "      <td>107.192009</td>\n",
              "      <td>0.103800</td>\n",
              "      <td>00:06</td>\n",
              "    </tr>\n",
              "    <tr>\n",
              "      <td>3</td>\n",
              "      <td>2.131333</td>\n",
              "      <td>2.325347</td>\n",
              "      <td>0.200400</td>\n",
              "      <td>00:06</td>\n",
              "    </tr>\n",
              "    <tr>\n",
              "      <td>4</td>\n",
              "      <td>2.077936</td>\n",
              "      <td>2.072614</td>\n",
              "      <td>0.222500</td>\n",
              "      <td>00:06</td>\n",
              "    </tr>\n",
              "  </tbody>\n",
              "</table>"
            ],
            "text/plain": [
              "<IPython.core.display.HTML object>"
            ]
          },
          "metadata": {
            "tags": []
          }
        }
      ]
    },
    {
      "cell_type": "markdown",
      "metadata": {
        "id": "jZ7ZMujnomnO",
        "colab_type": "text"
      },
      "source": [
        "Finally I will train with MixMatch, using the learner defined in the previous section. Note that I now use learn.fit instead of learn.fit_one_cycle since MixMatch uses EMA instead of a learning rate schedule."
      ]
    },
    {
      "cell_type": "code",
      "metadata": {
        "id": "GEdrlGYboiUK",
        "colab_type": "code",
        "colab": {
          "base_uri": "https://localhost:8080/",
          "height": 106
        },
        "outputId": "73a82839-20e6-450f-e3ad-37d2fd088e63"
      },
      "source": [
        "#learn.fit_one_cycle(200,2e-3,wd=0.02)\n",
        "learn.fit_one_cycle(2,2e-3,wd=0.02)"
      ],
      "execution_count": null,
      "outputs": [
        {
          "output_type": "display_data",
          "data": {
            "text/html": [
              "<table border=\"1\" class=\"dataframe\">\n",
              "  <thead>\n",
              "    <tr style=\"text-align: left;\">\n",
              "      <th>epoch</th>\n",
              "      <th>train_loss</th>\n",
              "      <th>valid_loss</th>\n",
              "      <th>accuracy</th>\n",
              "      <th>l_loss</th>\n",
              "      <th>ul_loss</th>\n",
              "      <th>time</th>\n",
              "    </tr>\n",
              "  </thead>\n",
              "  <tbody>\n",
              "    <tr>\n",
              "      <td>0</td>\n",
              "      <td>1.433029</td>\n",
              "      <td>1.441749</td>\n",
              "      <td>0.515000</td>\n",
              "      <td>1.305534</td>\n",
              "      <td>0.011310</td>\n",
              "      <td>04:12</td>\n",
              "    </tr>\n",
              "    <tr>\n",
              "      <td>1</td>\n",
              "      <td>1.199887</td>\n",
              "      <td>1.391736</td>\n",
              "      <td>0.559100</td>\n",
              "      <td>0.937609</td>\n",
              "      <td>0.010901</td>\n",
              "      <td>04:13</td>\n",
              "    </tr>\n",
              "  </tbody>\n",
              "</table>"
            ],
            "text/plain": [
              "<IPython.core.display.HTML object>"
            ]
          },
          "metadata": {
            "tags": []
          }
        }
      ]
    },
    {
      "cell_type": "markdown",
      "metadata": {
        "id": "CxKxxj54BojI",
        "colab_type": "text"
      },
      "source": [
        "# Part 2 - Using Mnist Dataset"
      ]
    },
    {
      "cell_type": "markdown",
      "metadata": {
        "id": "f_1Ra7SvBr6X",
        "colab_type": "text"
      },
      "source": [
        "## Load MNIST DATA"
      ]
    },
    {
      "cell_type": "code",
      "metadata": {
        "id": "5VomTrofB2Z_",
        "colab_type": "code",
        "colab": {}
      },
      "source": [
        "path = untar_data(URLs.MNIST)"
      ],
      "execution_count": null,
      "outputs": []
    },
    {
      "cell_type": "markdown",
      "metadata": {
        "id": "rei9Wg49EcuE",
        "colab_type": "text"
      },
      "source": [
        "## MixMatch Function:\n",
        "\n",
        "This code is to make custom "
      ]
    },
    {
      "cell_type": "code",
      "metadata": {
        "id": "cS7Z5St6EhCg",
        "colab_type": "code",
        "colab": {}
      },
      "source": [
        "class MixMatchImageList(ImageList):\n",
        "    def filter_train(self,num_items,seed=2343):\n",
        "        train_idxs = np.array([i for i,o in enumerate(self.items) if Path(o).parts[-3] != \"testing\"])\n",
        "        valid_idxs = np.array([i for i,o in enumerate(self.items) if Path(o).parts[-3] == \"testing\"])\n",
        "        np.random.seed(seed)\n",
        "        keep_idxs = np.random.choice(train_idxs,num_items,replace=False)\n",
        "        self.items = np.array([o for i,o in enumerate(self.items) if i in np.concatenate([keep_idxs,valid_idxs])])\n",
        "        return self"
      ],
      "execution_count": null,
      "outputs": []
    },
    {
      "cell_type": "code",
      "metadata": {
        "id": "bl6br_ucE6-2",
        "colab_type": "code",
        "colab": {}
      },
      "source": [
        "data = (MixMatchImageList.from_folder(path)\n",
        "        .filter_train(500)\n",
        "        .split_by_folder(train=\"training\",valid=\"testing\")\n",
        "        .label_from_folder()\n",
        "        .databunch(bs=64))\n",
        "\n",
        "dataFull = (ImageList.from_folder(path)\n",
        "            .split_by_folder(train=\"training\",valid=\"testing\")\n",
        "            .label_from_folder()\n",
        "            .databunch(bs=128))"
      ],
      "execution_count": null,
      "outputs": []
    },
    {
      "cell_type": "markdown",
      "metadata": {
        "id": "fksxs0IGFHSW",
        "colab_type": "text"
      },
      "source": [
        "## Basic Network "
      ]
    },
    {
      "cell_type": "code",
      "metadata": {
        "id": "l_ZRmgwRF4fQ",
        "colab_type": "code",
        "colab": {}
      },
      "source": [
        "class BasicNN(nn.Module):\n",
        "    def __init__(self,num_classes=10):\n",
        "        super().__init__()\n",
        "        self.conv = nn.Sequential(\n",
        "            nn.Conv2d(3,64,3,2,1),\n",
        "            nn.ReLU(inplace=True),\n",
        "            nn.Conv2d(64,128,3,2,1),\n",
        "            nn.ReLU(inplace=True),\n",
        "            nn.BatchNorm2d(128))\n",
        "        self.out = nn.Linear(128,num_classes)\n",
        "        \n",
        "    def forward(self, x, noise=True):\n",
        "        x = self.conv(x)\n",
        "        x = F.adaptive_avg_pool2d(x,1).view(-1,128)\n",
        "        return self.out(x)"
      ],
      "execution_count": null,
      "outputs": []
    },
    {
      "cell_type": "markdown",
      "metadata": {
        "id": "wCRww5vpF8AH",
        "colab_type": "text"
      },
      "source": [
        "## Sharpening Image"
      ]
    },
    {
      "cell_type": "code",
      "metadata": {
        "id": "HJ-nNFIbGRSF",
        "colab_type": "code",
        "colab": {}
      },
      "source": [
        "def sharpen(p,T=0.5):\n",
        "    u = p ** (1/T)\n",
        "    return u / u.sum(dim=1,keepdim=True)"
      ],
      "execution_count": null,
      "outputs": []
    },
    {
      "cell_type": "markdown",
      "metadata": {
        "id": "HTXTdwoEGtNo",
        "colab_type": "text"
      },
      "source": [
        "## Model and Loss"
      ]
    },
    {
      "cell_type": "code",
      "metadata": {
        "id": "hMtGzjC_Gv6-",
        "colab_type": "code",
        "colab": {}
      },
      "source": [
        "class EntropyMinTrainer(LearnerCallback):\n",
        "    def __init__(self, learn, T=0.5):\n",
        "        super().__init__(learn)\n",
        "        self.T = T\n",
        "        \n",
        "    def on_train_begin(self, **kwargs):\n",
        "        self.l_dl = iter(data.train_dl)\n",
        "        self.it = 0\n",
        "        \n",
        "    def on_batch_begin(self, train, last_input, **kwargs):\n",
        "        if not train: return \n",
        "        with torch.no_grad():\n",
        "            ul_labels = sharpen(torch.softmax(self.learn.model(last_input),dim=1),T=self.T)\n",
        "            #ul_labels = torch.softmax(self.learn.model(*last_input),dim=1)\n",
        "        \n",
        "        self.it += 1\n",
        "        ramp = self.it / 800.0 if self.it < 800 else 1.0\n",
        "        return {\"last_target\": (ul_labels,ramp)}\n",
        "    \n",
        "    def on_backward_begin(self, last_loss, last_output, **kwargs):\n",
        "        try:\n",
        "            l_x,l_y = next(self.l_dl)\n",
        "        except:\n",
        "            self.l_dl = iter(data.train_dl)\n",
        "            l_x,l_y = next(self.l_dl)\n",
        "            \n",
        "        real_preds = self.learn.model(l_x)\n",
        "        real_loss = F.cross_entropy(real_preds,l_y)\n",
        "        return {\"last_loss\": last_loss + real_loss}\n",
        "    \n",
        "def entropy_min_loss(preds,target,ramp=None):\n",
        "    if ramp is None:\n",
        "        return F.cross_entropy(preds,target)\n",
        "    preds = torch.softmax(preds,dim=1)\n",
        "    return 10.0 * ramp * F.mse_loss(preds,target)\n",
        "    #p = torch.softmax(preds,dim=1)\n",
        "    #return -(p * torch.log(p)).sum(dim=1).mean()\n",
        "    #d = torch.distributions.Categorical(torch.softmax(preds,dim=1))\n",
        "    #return d.entropy().mean()"
      ],
      "execution_count": null,
      "outputs": []
    },
    {
      "cell_type": "markdown",
      "metadata": {
        "id": "d5sbA9u9G_Vt",
        "colab_type": "text"
      },
      "source": [
        "## Training"
      ]
    },
    {
      "cell_type": "code",
      "metadata": {
        "id": "wwd5GAIZHDyK",
        "colab_type": "code",
        "colab": {}
      },
      "source": [
        "learn = Learner(dataFull,BasicNN(),loss_func=entropy_min_loss,callback_fns=[EntropyMinTrainer],metrics=accuracy)"
      ],
      "execution_count": null,
      "outputs": []
    },
    {
      "cell_type": "code",
      "metadata": {
        "id": "XCIVB-vkHWcI",
        "colab_type": "code",
        "colab": {
          "base_uri": "https://localhost:8080/",
          "height": 343
        },
        "outputId": "0ca70e63-a5bf-43d4-d097-4ec3c991c31f"
      },
      "source": [
        "learn.fit_one_cycle(10,3e-3,wd=1e-4)"
      ],
      "execution_count": null,
      "outputs": [
        {
          "output_type": "display_data",
          "data": {
            "text/html": [
              "<table border=\"1\" class=\"dataframe\">\n",
              "  <thead>\n",
              "    <tr style=\"text-align: left;\">\n",
              "      <th>epoch</th>\n",
              "      <th>train_loss</th>\n",
              "      <th>valid_loss</th>\n",
              "      <th>accuracy</th>\n",
              "      <th>time</th>\n",
              "    </tr>\n",
              "  </thead>\n",
              "  <tbody>\n",
              "    <tr>\n",
              "      <td>0</td>\n",
              "      <td>0.034829</td>\n",
              "      <td>0.950018</td>\n",
              "      <td>0.731000</td>\n",
              "      <td>00:21</td>\n",
              "    </tr>\n",
              "    <tr>\n",
              "      <td>1</td>\n",
              "      <td>0.018226</td>\n",
              "      <td>0.531585</td>\n",
              "      <td>0.846000</td>\n",
              "      <td>00:21</td>\n",
              "    </tr>\n",
              "    <tr>\n",
              "      <td>2</td>\n",
              "      <td>0.007797</td>\n",
              "      <td>0.687884</td>\n",
              "      <td>0.842900</td>\n",
              "      <td>00:21</td>\n",
              "    </tr>\n",
              "    <tr>\n",
              "      <td>3</td>\n",
              "      <td>0.005133</td>\n",
              "      <td>0.539591</td>\n",
              "      <td>0.892300</td>\n",
              "      <td>00:21</td>\n",
              "    </tr>\n",
              "    <tr>\n",
              "      <td>4</td>\n",
              "      <td>0.003807</td>\n",
              "      <td>0.552718</td>\n",
              "      <td>0.895700</td>\n",
              "      <td>00:22</td>\n",
              "    </tr>\n",
              "    <tr>\n",
              "      <td>5</td>\n",
              "      <td>0.003210</td>\n",
              "      <td>0.664921</td>\n",
              "      <td>0.893000</td>\n",
              "      <td>00:21</td>\n",
              "    </tr>\n",
              "    <tr>\n",
              "      <td>6</td>\n",
              "      <td>0.002382</td>\n",
              "      <td>0.580173</td>\n",
              "      <td>0.910700</td>\n",
              "      <td>00:21</td>\n",
              "    </tr>\n",
              "    <tr>\n",
              "      <td>7</td>\n",
              "      <td>0.002319</td>\n",
              "      <td>0.577765</td>\n",
              "      <td>0.911900</td>\n",
              "      <td>00:21</td>\n",
              "    </tr>\n",
              "    <tr>\n",
              "      <td>8</td>\n",
              "      <td>0.002098</td>\n",
              "      <td>0.564102</td>\n",
              "      <td>0.917200</td>\n",
              "      <td>00:21</td>\n",
              "    </tr>\n",
              "    <tr>\n",
              "      <td>9</td>\n",
              "      <td>0.001773</td>\n",
              "      <td>0.572752</td>\n",
              "      <td>0.916200</td>\n",
              "      <td>00:21</td>\n",
              "    </tr>\n",
              "  </tbody>\n",
              "</table>"
            ],
            "text/plain": [
              "<IPython.core.display.HTML object>"
            ]
          },
          "metadata": {
            "tags": []
          }
        }
      ]
    },
    {
      "cell_type": "code",
      "metadata": {
        "id": "v2eKPNS2I1dB",
        "colab_type": "code",
        "colab": {}
      },
      "source": [
        "learn2 = Learner(dataFull,BasicNN(),loss_func=entropy_min_loss,callback_fns=[partial(EntropyMinTrainer,T=1.0)],metrics=accuracy)"
      ],
      "execution_count": null,
      "outputs": []
    },
    {
      "cell_type": "code",
      "metadata": {
        "id": "FC33fEUcI59P",
        "colab_type": "code",
        "colab": {
          "base_uri": "https://localhost:8080/",
          "height": 343
        },
        "outputId": "a8885f1b-5fb4-4169-a99e-26b295ef5e0c"
      },
      "source": [
        "learn2.fit_one_cycle(10,3e-3,wd=1e-4)"
      ],
      "execution_count": null,
      "outputs": [
        {
          "output_type": "display_data",
          "data": {
            "text/html": [
              "<table border=\"1\" class=\"dataframe\">\n",
              "  <thead>\n",
              "    <tr style=\"text-align: left;\">\n",
              "      <th>epoch</th>\n",
              "      <th>train_loss</th>\n",
              "      <th>valid_loss</th>\n",
              "      <th>accuracy</th>\n",
              "      <th>time</th>\n",
              "    </tr>\n",
              "  </thead>\n",
              "  <tbody>\n",
              "    <tr>\n",
              "      <td>0</td>\n",
              "      <td>0.000000</td>\n",
              "      <td>1.037645</td>\n",
              "      <td>0.702800</td>\n",
              "      <td>00:21</td>\n",
              "    </tr>\n",
              "    <tr>\n",
              "      <td>1</td>\n",
              "      <td>0.000000</td>\n",
              "      <td>0.665148</td>\n",
              "      <td>0.780800</td>\n",
              "      <td>00:21</td>\n",
              "    </tr>\n",
              "    <tr>\n",
              "      <td>2</td>\n",
              "      <td>0.000000</td>\n",
              "      <td>0.725410</td>\n",
              "      <td>0.782100</td>\n",
              "      <td>00:21</td>\n",
              "    </tr>\n",
              "    <tr>\n",
              "      <td>3</td>\n",
              "      <td>0.000000</td>\n",
              "      <td>0.596453</td>\n",
              "      <td>0.821200</td>\n",
              "      <td>00:21</td>\n",
              "    </tr>\n",
              "    <tr>\n",
              "      <td>4</td>\n",
              "      <td>0.000000</td>\n",
              "      <td>0.653629</td>\n",
              "      <td>0.815000</td>\n",
              "      <td>00:21</td>\n",
              "    </tr>\n",
              "    <tr>\n",
              "      <td>5</td>\n",
              "      <td>0.000000</td>\n",
              "      <td>0.697675</td>\n",
              "      <td>0.821300</td>\n",
              "      <td>00:22</td>\n",
              "    </tr>\n",
              "    <tr>\n",
              "      <td>6</td>\n",
              "      <td>0.000000</td>\n",
              "      <td>0.753799</td>\n",
              "      <td>0.818000</td>\n",
              "      <td>00:21</td>\n",
              "    </tr>\n",
              "    <tr>\n",
              "      <td>7</td>\n",
              "      <td>0.000000</td>\n",
              "      <td>0.793894</td>\n",
              "      <td>0.822100</td>\n",
              "      <td>00:22</td>\n",
              "    </tr>\n",
              "    <tr>\n",
              "      <td>8</td>\n",
              "      <td>0.000000</td>\n",
              "      <td>0.838714</td>\n",
              "      <td>0.814900</td>\n",
              "      <td>00:22</td>\n",
              "    </tr>\n",
              "    <tr>\n",
              "      <td>9</td>\n",
              "      <td>0.000000</td>\n",
              "      <td>0.834294</td>\n",
              "      <td>0.815400</td>\n",
              "      <td>00:22</td>\n",
              "    </tr>\n",
              "  </tbody>\n",
              "</table>"
            ],
            "text/plain": [
              "<IPython.core.display.HTML object>"
            ]
          },
          "metadata": {
            "tags": []
          }
        }
      ]
    },
    {
      "cell_type": "markdown",
      "metadata": {
        "id": "On4jzlYeWQWo",
        "colab_type": "text"
      },
      "source": [
        "## Results"
      ]
    },
    {
      "cell_type": "code",
      "metadata": {
        "id": "8Q9y7fRwJUHE",
        "colab_type": "code",
        "colab": {
          "base_uri": "https://localhost:8080/",
          "height": 124
        },
        "outputId": "76255cfa-2614-49bd-eb64-d445254d60b2"
      },
      "source": [
        "digits, preds, pred_labels, labels = [], [], [], []\n",
        "preds2, pred_labels2, = [], []\n",
        "l = torch.eye(10).byte().cuda()\n",
        "learn.model.eval()\n",
        "learn2.model.eval()\n",
        "with torch.no_grad():\n",
        "    for x,y in progress_bar(iter(dataFull.valid_dl),total=len(dataFull.valid_dl)):\n",
        "        p = learn.model(x).detach()\n",
        "        p = torch.softmax(p,dim=1)\n",
        "        p_a = torch.argmax(p,dim=1)\n",
        "        preds.append(p.masked_select(l[p_a]))\n",
        "        pred_labels.append(p_a)\n",
        "        labels.append(y)\n",
        "        digits.append(x[:,0].view(-1,28*28))\n",
        "        \n",
        "        p = learn2.model(x).detach()\n",
        "        p = torch.softmax(p,dim=1)\n",
        "        p_a = torch.argmax(p,dim=1)\n",
        "        preds2.append(p.masked_select(l[p_a]))\n",
        "        pred_labels2.append(p_a)\n",
        "\n",
        "labels = torch.cat(labels)\n",
        "digits = torch.cat(digits)\n",
        "preds = torch.cat(preds)\n",
        "pred_labels = torch.cat(pred_labels)\n",
        "preds2 = torch.cat(preds2)\n",
        "pred_labels2 = torch.cat(pred_labels2)\n",
        "(pred_labels == labels).float().mean(), (pred_labels2 == labels).float().mean()"
      ],
      "execution_count": null,
      "outputs": [
        {
          "output_type": "display_data",
          "data": {
            "text/html": [
              "\n",
              "    <div>\n",
              "        <style>\n",
              "            /* Turns off some styling */\n",
              "            progress {\n",
              "                /* gets rid of default border in Firefox and Opera. */\n",
              "                border: none;\n",
              "                /* Needs to be in here for Safari polyfill so background images work as expected. */\n",
              "                background-size: auto;\n",
              "            }\n",
              "            .progress-bar-interrupted, .progress-bar-interrupted::-webkit-progress-bar {\n",
              "                background: #F44336;\n",
              "            }\n",
              "        </style>\n",
              "      <progress value='79' class='' max='79' style='width:300px; height:20px; vertical-align: middle;'></progress>\n",
              "      100.00% [79/79 00:01<00:00]\n",
              "    </div>\n",
              "    "
            ],
            "text/plain": [
              "<IPython.core.display.HTML object>"
            ]
          },
          "metadata": {
            "tags": []
          }
        },
        {
          "output_type": "stream",
          "text": [
            "/usr/local/lib/python3.6/dist-packages/ipykernel_launcher.py:11: UserWarning: indexing with dtype torch.uint8 is now deprecated, please use a dtype torch.bool instead. (Triggered internally at  /pytorch/aten/src/ATen/native/IndexingUtils.h:20.)\n",
            "  # This is added back by InteractiveShellApp.init_path()\n",
            "/usr/local/lib/python3.6/dist-packages/ipykernel_launcher.py:19: UserWarning: indexing with dtype torch.uint8 is now deprecated, please use a dtype torch.bool instead. (Triggered internally at  /pytorch/aten/src/ATen/native/IndexingUtils.h:20.)\n"
          ],
          "name": "stderr"
        },
        {
          "output_type": "execute_result",
          "data": {
            "text/plain": [
              "(tensor(0.9162, device='cuda:0'), tensor(0.8154, device='cuda:0'))"
            ]
          },
          "metadata": {
            "tags": []
          },
          "execution_count": 30
        }
      ]
    }
  ]
}