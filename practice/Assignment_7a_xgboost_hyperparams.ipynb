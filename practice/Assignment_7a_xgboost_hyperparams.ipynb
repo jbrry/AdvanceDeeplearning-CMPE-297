{
  "nbformat": 4,
  "nbformat_minor": 0,
  "metadata": {
    "colab": {
      "name": "Assignment_7a_xgboost.ipynb",
      "provenance": [],
      "authorship_tag": "ABX9TyNlzSpVq1C88xjYBsa++SZ3",
      "include_colab_link": true
    },
    "kernelspec": {
      "name": "python3",
      "display_name": "Python 3"
    }
  },
  "cells": [
    {
      "cell_type": "markdown",
      "metadata": {
        "id": "view-in-github",
        "colab_type": "text"
      },
      "source": [
        "<a href=\"https://colab.research.google.com/github/s-c-soma/AdvanceDeeplearning-CMPE-297/blob/master/practice/Assignment_7a_xgboost_hyperparams.ipynb\" target=\"_parent\"><img src=\"https://colab.research.google.com/assets/colab-badge.svg\" alt=\"Open In Colab\"/></a>"
      ]
    },
    {
      "cell_type": "markdown",
      "metadata": {
        "id": "1PwGfUzRiG0K"
      },
      "source": [
        "# Import Package"
      ]
    },
    {
      "cell_type": "code",
      "metadata": {
        "id": "k8a671wjd_c3"
      },
      "source": [
        "import numpy as np \n",
        "import pandas as pd\n",
        "\n",
        "import matplotlib.pyplot as plt\n",
        "import seaborn as sns\n",
        "\n",
        "import os\n",
        "\n",
        "import warnings\n",
        "warnings.filterwarnings(\"ignore\")"
      ],
      "execution_count": 1,
      "outputs": []
    },
    {
      "cell_type": "markdown",
      "metadata": {
        "id": "VI30J7aZiT6Y"
      },
      "source": [
        "# Load Kaggle House Price Data"
      ]
    },
    {
      "cell_type": "code",
      "metadata": {
        "id": "dLcW2NlViXm6"
      },
      "source": [
        "#Load dataset\n",
        "train = pd.read_csv(\"https://raw.githubusercontent.com/s-c-soma/AdvanceDeeplearning-CMPE-297/master/Assignment_7/house_price_train.csv\")\n",
        "test  = pd.read_csv(\"https://raw.githubusercontent.com/s-c-soma/AdvanceDeeplearning-CMPE-297/master/Assignment_7/house_price_test.csv\")"
      ],
      "execution_count": 2,
      "outputs": []
    },
    {
      "cell_type": "code",
      "metadata": {
        "colab": {
          "base_uri": "https://localhost:8080/"
        },
        "id": "ujHudDdxikPJ",
        "outputId": "ad85ebad-2e29-4cde-c178-1471df9b6c2e"
      },
      "source": [
        "#Dataset shape\n",
        "print('Train %s\\nTest %s' % (train.shape, test.shape))"
      ],
      "execution_count": 3,
      "outputs": [
        {
          "output_type": "stream",
          "text": [
            "Train (1460, 81)\n",
            "Test (1459, 80)\n"
          ],
          "name": "stdout"
        }
      ]
    },
    {
      "cell_type": "markdown",
      "metadata": {
        "id": "yI27EOcWkfjB"
      },
      "source": [
        "# Predict Feature"
      ]
    },
    {
      "cell_type": "code",
      "metadata": {
        "colab": {
          "base_uri": "https://localhost:8080/"
        },
        "id": "oT41WcnEkiOC",
        "outputId": "2104a56a-ca4a-4c02-b91e-56b1ce8f5b15"
      },
      "source": [
        "#Feature to predict\n",
        "ft_pred = list(set(train.columns) - set(test.columns))\n",
        "ft_pred"
      ],
      "execution_count": 4,
      "outputs": [
        {
          "output_type": "execute_result",
          "data": {
            "text/plain": [
              "['SalePrice']"
            ]
          },
          "metadata": {
            "tags": []
          },
          "execution_count": 4
        }
      ]
    },
    {
      "cell_type": "code",
      "metadata": {
        "colab": {
          "base_uri": "https://localhost:8080/",
          "height": 284
        },
        "id": "J013l6aSkqAL",
        "outputId": "0d88d32b-550c-4d27-843f-a7c59ba0ad73"
      },
      "source": [
        "train[ft_pred].describe()"
      ],
      "execution_count": 5,
      "outputs": [
        {
          "output_type": "execute_result",
          "data": {
            "text/html": [
              "<div>\n",
              "<style scoped>\n",
              "    .dataframe tbody tr th:only-of-type {\n",
              "        vertical-align: middle;\n",
              "    }\n",
              "\n",
              "    .dataframe tbody tr th {\n",
              "        vertical-align: top;\n",
              "    }\n",
              "\n",
              "    .dataframe thead th {\n",
              "        text-align: right;\n",
              "    }\n",
              "</style>\n",
              "<table border=\"1\" class=\"dataframe\">\n",
              "  <thead>\n",
              "    <tr style=\"text-align: right;\">\n",
              "      <th></th>\n",
              "      <th>SalePrice</th>\n",
              "    </tr>\n",
              "  </thead>\n",
              "  <tbody>\n",
              "    <tr>\n",
              "      <th>count</th>\n",
              "      <td>1460.000000</td>\n",
              "    </tr>\n",
              "    <tr>\n",
              "      <th>mean</th>\n",
              "      <td>180921.195890</td>\n",
              "    </tr>\n",
              "    <tr>\n",
              "      <th>std</th>\n",
              "      <td>79442.502883</td>\n",
              "    </tr>\n",
              "    <tr>\n",
              "      <th>min</th>\n",
              "      <td>34900.000000</td>\n",
              "    </tr>\n",
              "    <tr>\n",
              "      <th>25%</th>\n",
              "      <td>129975.000000</td>\n",
              "    </tr>\n",
              "    <tr>\n",
              "      <th>50%</th>\n",
              "      <td>163000.000000</td>\n",
              "    </tr>\n",
              "    <tr>\n",
              "      <th>75%</th>\n",
              "      <td>214000.000000</td>\n",
              "    </tr>\n",
              "    <tr>\n",
              "      <th>max</th>\n",
              "      <td>755000.000000</td>\n",
              "    </tr>\n",
              "  </tbody>\n",
              "</table>\n",
              "</div>"
            ],
            "text/plain": [
              "           SalePrice\n",
              "count    1460.000000\n",
              "mean   180921.195890\n",
              "std     79442.502883\n",
              "min     34900.000000\n",
              "25%    129975.000000\n",
              "50%    163000.000000\n",
              "75%    214000.000000\n",
              "max    755000.000000"
            ]
          },
          "metadata": {
            "tags": []
          },
          "execution_count": 5
        }
      ]
    },
    {
      "cell_type": "markdown",
      "metadata": {
        "id": "FlHDdX9Kkueh"
      },
      "source": [
        "# Plot Data"
      ]
    },
    {
      "cell_type": "code",
      "metadata": {
        "colab": {
          "base_uri": "https://localhost:8080/",
          "height": 312
        },
        "id": "zXxk_VySkwNw",
        "outputId": "39c3f179-f44f-41b5-80e9-3d18cbcfa804"
      },
      "source": [
        "#Plot GrLivArea vs SalePrice\n",
        "plt.scatter(train['GrLivArea'], train['SalePrice'], color='blue', alpha=0.5)\n",
        "plt.title(\"LotArea vs SalePrice\")\n",
        "plt.legend(loc='best')\n",
        "plt.xlabel(\"GrLivArea\")\n",
        "plt.ylabel(\"SalePrice\")\n",
        "plt.show()"
      ],
      "execution_count": 6,
      "outputs": [
        {
          "output_type": "stream",
          "text": [
            "No handles with labels found to put in legend.\n"
          ],
          "name": "stderr"
        },
        {
          "output_type": "display_data",
          "data": {
            "image/png": "[encoded data removed]",
            "text/plain": [
              "<Figure size 432x288 with 1 Axes>"
            ]
          },
          "metadata": {
            "tags": [],
            "needs_background": "light"
          }
        }
      ]
    },
    {
      "cell_type": "markdown",
      "metadata": {
        "id": "_NKXEoNVk2hw"
      },
      "source": [
        "# Preprocessing"
      ]
    },
    {
      "cell_type": "markdown",
      "metadata": {
        "id": "2kMGw2zPk41B"
      },
      "source": [
        "## NAN Value"
      ]
    },
    {
      "cell_type": "code",
      "metadata": {
        "id": "th8fq_q8k67_"
      },
      "source": [
        "#save and drop id\n",
        "train_id = train[\"Id\"]\n",
        "train.drop(columns='Id',inplace=True)\n",
        "\n",
        "test_id = test[\"Id\"]\n",
        "test.drop(columns='Id',inplace=True)\n",
        "\n",
        "#select object columns\n",
        "obj_col = train.columns[train.dtypes == 'object'].values\n",
        "\n",
        "#select non object columns\n",
        "num_col = train.columns[train.dtypes != 'object'].values\n",
        "num_col_test = test.columns[test.dtypes != 'object'].values\n",
        "\n",
        "#replace null value in obj columns with None\n",
        "train[obj_col] = train[obj_col].fillna('None')\n",
        "test[obj_col] = test[obj_col].fillna('None')\n",
        "\n",
        "#replace null value in numeric columns with 0\n",
        "train[num_col] = train[num_col].fillna(0)\n",
        "test[num_col_test] = test[num_col_test].fillna(0)\n",
        "\n",
        "train_001 = train\n",
        "test_001 = test"
      ],
      "execution_count": 7,
      "outputs": []
    },
    {
      "cell_type": "markdown",
      "metadata": {
        "id": "_E_BJv-pk_gQ"
      },
      "source": [
        "## Feature Encoding"
      ]
    },
    {
      "cell_type": "code",
      "metadata": {
        "colab": {
          "base_uri": "https://localhost:8080/"
        },
        "id": "BXaY4wSOlFLn",
        "outputId": "70355925-cb9e-4385-a004-8fb2bde4ce32"
      },
      "source": [
        "!pip install category_encoders"
      ],
      "execution_count": 9,
      "outputs": [
        {
          "output_type": "stream",
          "text": [
            "Collecting category_encoders\n",
            "\u001b[?25l  Downloading https://files.pythonhosted.org/packages/44/57/fcef41c248701ee62e8325026b90c432adea35555cbc870aff9cfba23727/category_encoders-2.2.2-py2.py3-none-any.whl (80kB)\n",
            "\r\u001b[K     |████                            | 10kB 17.2MB/s eta 0:00:01\r\u001b[K     |████████▏                       | 20kB 21.2MB/s eta 0:00:01\r\u001b[K     |████████████▏                   | 30kB 8.2MB/s eta 0:00:01\r\u001b[K     |████████████████▎               | 40kB 3.1MB/s eta 0:00:01\r\u001b[K     |████████████████████▎           | 51kB 3.8MB/s eta 0:00:01\r\u001b[K     |████████████████████████▍       | 61kB 4.2MB/s eta 0:00:01\r\u001b[K     |████████████████████████████▍   | 71kB 4.4MB/s eta 0:00:01\r\u001b[K     |████████████████████████████████| 81kB 3.4MB/s \n",
            "\u001b[?25hRequirement already satisfied: scipy>=1.0.0 in /usr/local/lib/python3.6/dist-packages (from category_encoders) (1.4.1)\n",
            "Requirement already satisfied: pandas>=0.21.1 in /usr/local/lib/python3.6/dist-packages (from category_encoders) (1.1.4)\n",
            "Requirement already satisfied: numpy>=1.14.0 in /usr/local/lib/python3.6/dist-packages (from category_encoders) (1.18.5)\n",
            "Requirement already satisfied: statsmodels>=0.9.0 in /usr/local/lib/python3.6/dist-packages (from category_encoders) (0.10.2)\n",
            "Requirement already satisfied: patsy>=0.5.1 in /usr/local/lib/python3.6/dist-packages (from category_encoders) (0.5.1)\n",
            "Requirement already satisfied: scikit-learn>=0.20.0 in /usr/local/lib/python3.6/dist-packages (from category_encoders) (0.22.2.post1)\n",
            "Requirement already satisfied: python-dateutil>=2.7.3 in /usr/local/lib/python3.6/dist-packages (from pandas>=0.21.1->category_encoders) (2.8.1)\n",
            "Requirement already satisfied: pytz>=2017.2 in /usr/local/lib/python3.6/dist-packages (from pandas>=0.21.1->category_encoders) (2018.9)\n",
            "Requirement already satisfied: six in /usr/local/lib/python3.6/dist-packages (from patsy>=0.5.1->category_encoders) (1.15.0)\n",
            "Requirement already satisfied: joblib>=0.11 in /usr/local/lib/python3.6/dist-packages (from scikit-learn>=0.20.0->category_encoders) (0.17.0)\n",
            "Installing collected packages: category-encoders\n",
            "Successfully installed category-encoders-2.2.2\n"
          ],
          "name": "stdout"
        }
      ]
    },
    {
      "cell_type": "code",
      "metadata": {
        "id": "YssH-9OslBa5"
      },
      "source": [
        "import category_encoders as ce\n",
        "\n",
        "#Ordinal features\n",
        "ordinal_features = [\"ExterQual\",\"ExterCond\",\"BsmtQual\",\"BsmtCond\",\"BsmtExposure\", \"BsmtFinType1\",\"BsmtFinType2\",\n",
        "                    \"HeatingQC\",\"Electrical\",\"KitchenQual\", \"FireplaceQu\",\"GarageQual\",\"GarageCond\",\"PoolQC\"]\n",
        "\n",
        "#Split X,y\n",
        "train_002_X = train_001.drop(ft_pred, axis=1)\n",
        "train_002_y = train_001[ft_pred]\n",
        "\n",
        "ce_one_hot = ce.OrdinalEncoder(cols = ordinal_features)\n",
        "\n",
        "train_003 = pd.concat([ce_one_hot.fit_transform(train_002_X), train_002_y], axis=1, sort=False)\n",
        "test_003  = ce_one_hot.transform(test_001)"
      ],
      "execution_count": 10,
      "outputs": []
    },
    {
      "cell_type": "markdown",
      "metadata": {
        "id": "OtoCvWYHlNRQ"
      },
      "source": [
        "## Nominal Feature Encoding"
      ]
    },
    {
      "cell_type": "code",
      "metadata": {
        "id": "XiwTEbT3lQSw"
      },
      "source": [
        "#Nominal features\n",
        "nominal_features = [x for x in obj_col if x not in ordinal_features]\n",
        "\n",
        "#Transfer object to int\n",
        "from sklearn.preprocessing import LabelEncoder\n",
        "labelencoder = LabelEncoder()\n",
        "\n",
        "#for loop nominal feature column\n",
        "for i in train_003[nominal_features].columns:\n",
        "    #fit and transform each column and assign to itself\n",
        "    train_003[i] = labelencoder.fit_transform(train_003[i])\n",
        "    \n",
        "#for loop nominal feature column\n",
        "for i in test_003[nominal_features].columns:\n",
        "    #fit and transform each column and assign to itself\n",
        "    test_003[i] = labelencoder.fit_transform(test_003[i])\n",
        "    \n",
        "#Get dummy variable for nominal features\n",
        "train_005 = pd.get_dummies(train_003,columns=nominal_features,drop_first=True)\n",
        "test_005 = pd.get_dummies(test_003,columns=nominal_features,drop_first=True)"
      ],
      "execution_count": 11,
      "outputs": []
    },
    {
      "cell_type": "code",
      "metadata": {
        "colab": {
          "base_uri": "https://localhost:8080/"
        },
        "id": "h5liQU56mdDV",
        "outputId": "093ef1e2-26dd-4edd-fcca-280d92422c28"
      },
      "source": [
        "#Only for test set\n",
        "#Check if any null values\n",
        "print(train_005.isnull().any().sum())\n",
        "print(test_005.isnull().any().sum())\n",
        "\n",
        "#Get missing columns in the training test\n",
        "missing_cols = set(train_005.drop(columns=\"SalePrice\").columns) - set(test_005.columns)\n",
        "\n",
        "#Add a missing column in test set with default value equal to 0\n",
        "for cols in missing_cols:\n",
        "    test_005[cols] = 0\n",
        "    \n",
        "#Ensure the order of column in the test set is in the same order than in train set\n",
        "test_005 = test_005[train_005.drop(columns=\"SalePrice\").columns]"
      ],
      "execution_count": 12,
      "outputs": [
        {
          "output_type": "stream",
          "text": [
            "0\n",
            "0\n"
          ],
          "name": "stdout"
        }
      ]
    },
    {
      "cell_type": "markdown",
      "metadata": {
        "id": "jZX-vJjsmibR"
      },
      "source": [
        "# Feature Engineering"
      ]
    },
    {
      "cell_type": "code",
      "metadata": {
        "id": "k_0GVs0TmrH3"
      },
      "source": [
        "#TotalBath\n",
        "train_005['TotalBath'] = (train_005['FullBath'] + train_005['HalfBath'] + train_005['BsmtFullBath'] + train_005['BsmtHalfBath'])\n",
        "test_005['TotalBath']  = (test_005['FullBath']  + test_005['HalfBath']  + test_005['BsmtFullBath']  + test_005['BsmtHalfBath'])\n",
        "\n",
        "#TotalPorch\n",
        "train_005['TotalPorch'] = (train_005['OpenPorchSF'] + train_005['3SsnPorch'] + train_005['EnclosedPorch'] + train_005['ScreenPorch'] + train_005['WoodDeckSF'])\n",
        "test_005['TotalPorch']  = (test_005['OpenPorchSF']  + test_005['3SsnPorch']  + test_005['EnclosedPorch']  + test_005['ScreenPorch']    + test_005['WoodDeckSF'])\n",
        "\n",
        "#Modeling happen during the sale year\n",
        "train_005[\"RecentRemodel\"] = (train_005[\"YearRemodAdd\"] == train_005[\"YrSold\"]) * 1\n",
        "test_005[\"RecentRemodel\"]  = (test_005[\"YearRemodAdd\"]  == test_005[\"YrSold\"]) * 1\n",
        "\n",
        "#House sold in the year it was built\n",
        "train_005[\"NewHouse\"] = (train_005[\"YearBuilt\"] == train_005[\"YrSold\"]) * 1\n",
        "test_005[\"NewHouse\"]  = (test_005[\"YearBuilt\"]  == test_005[\"YrSold\"]) * 1\n",
        "\n",
        "#HasPool\n",
        "train_005['HasPool'] = train_005['PoolArea'].apply(lambda x: 1 if x > 0 else 0)\n",
        "test_005['HasPool']  = test_005['PoolArea'].apply(lambda x: 1 if x > 0 else 0)\n",
        "\n",
        "#HasFireplaces\n",
        "train_005['HasFirePlace'] = train_005['Fireplaces'].apply(lambda x: 1 if x > 0 else 0)\n",
        "test_005['HasFirePlace']  = test_005['Fireplaces'].apply(lambda x: 1 if x > 0 else 0)\n",
        "\n",
        "#Has2ndFloor\n",
        "train_005['Has2ndFloor'] = train_005['2ndFlrSF'].apply(lambda x: 1 if x > 0 else 0)\n",
        "test_005['Has2ndFloor']  = test_005['2ndFlrSF'].apply(lambda x: 1 if x > 0 else 0)\n",
        "\n",
        "#HasGarage\n",
        "train_005['HasGarage'] = train_005['GarageArea'].apply(lambda x: 1 if x > 0 else 0)\n",
        "test_005['HasGarage']  = test_005['GarageArea'].apply(lambda x: 1 if x > 0 else 0)\n",
        "\n",
        "#HasBsmnt\n",
        "train_005['HasBsmnt'] = train_005['TotalBsmtSF'].apply(lambda x: 1 if x > 0 else 0)\n",
        "test_005['HasBsmnt']  = test_005['TotalBsmtSF'].apply(lambda x: 1 if x > 0 else 0)"
      ],
      "execution_count": 13,
      "outputs": []
    },
    {
      "cell_type": "markdown",
      "metadata": {
        "id": "pppRY70zmyzh"
      },
      "source": [
        "# Fit Model"
      ]
    },
    {
      "cell_type": "code",
      "metadata": {
        "id": "mCAiPV_Gm1L0"
      },
      "source": [
        "#Importing packages\n",
        "from sklearn.model_selection import train_test_split\n",
        "\n",
        "X = train_005.drop(columns=\"SalePrice\")\n",
        "y = train_005[\"SalePrice\"]\n",
        "\n",
        "#Particiona o data set originalmente Train em Train(Treino) e Val(validação)\n",
        "X_train,X_val,y_train,y_val = train_test_split(X,y,test_size=0.25,random_state=0)"
      ],
      "execution_count": 14,
      "outputs": []
    },
    {
      "cell_type": "code",
      "metadata": {
        "colab": {
          "base_uri": "https://localhost:8080/"
        },
        "id": "aqqEWZz3m6AA",
        "outputId": "6d137d25-abf4-447e-fc65-f20db52c219a"
      },
      "source": [
        "X_train.shape, X_val.shape"
      ],
      "execution_count": 15,
      "outputs": [
        {
          "output_type": "execute_result",
          "data": {
            "text/plain": [
              "((1095, 222), (365, 222))"
            ]
          },
          "metadata": {
            "tags": []
          },
          "execution_count": 15
        }
      ]
    },
    {
      "cell_type": "markdown",
      "metadata": {
        "id": "TM6E7BN6nAoR"
      },
      "source": [
        "# XGBoost"
      ]
    },
    {
      "cell_type": "markdown",
      "metadata": {
        "id": "lo9Ti8zEoBF6"
      },
      "source": [
        "## Import Packages"
      ]
    },
    {
      "cell_type": "code",
      "metadata": {
        "colab": {
          "base_uri": "https://localhost:8080/"
        },
        "id": "n7U6n27pnGew",
        "outputId": "391364ac-5473-4a1e-acb3-d56756f09ed0"
      },
      "source": [
        "from sklearn.impute import SimpleImputer\n",
        "#imputer = SimpleImputer(missing_values=np.nan, strategy='mean')"
      ],
      "execution_count": 17,
      "outputs": [
        {
          "output_type": "stream",
          "text": [
            "\u001b[31mERROR: Could not find a version that satisfies the requirement Imputer (from versions: none)\u001b[0m\n",
            "\u001b[31mERROR: No matching distribution found for Imputer\u001b[0m\n"
          ],
          "name": "stdout"
        }
      ]
    },
    {
      "cell_type": "code",
      "metadata": {
        "id": "Cav8fu95nDuJ"
      },
      "source": [
        "#Importing Packages\n",
        "import matplotlib.pyplot as plt\n",
        "\n",
        "from xgboost import XGBRegressor\n",
        "from xgboost import XGBRFRegressor\n",
        "from sklearn.model_selection import GridSearchCV\n",
        "\n",
        "from sklearn.metrics import mean_squared_error\n",
        "from sklearn.metrics import mean_absolute_error\n",
        "\n",
        "from sklearn.impute import SimpleImputer"
      ],
      "execution_count": 18,
      "outputs": []
    },
    {
      "cell_type": "markdown",
      "metadata": {
        "id": "ilEP8E23njQq"
      },
      "source": [
        "## Hyper-parameter Tuning"
      ]
    },
    {
      "cell_type": "code",
      "metadata": {
        "id": "bFQHSp8inmVh"
      },
      "source": [
        "#XGBoost hyper-parameter tuning\n",
        "def hyperParameterTuning(X_train, y_train):\n",
        "    param_tuning = {\n",
        "        'learning_rate': [0.01, 0.1],\n",
        "        'max_depth': [3, 5, 7, 10],\n",
        "        'min_child_weight': [1, 3, 5],\n",
        "        'subsample': [0.5, 0.7],\n",
        "        'colsample_bytree': [0.5, 0.7],\n",
        "        'n_estimators' : [100, 200, 500],\n",
        "        'objective': ['reg:squarederror']\n",
        "    }\n",
        "\n",
        "    xgb_model = XGBRegressor()\n",
        "\n",
        "    gsearch = GridSearchCV(estimator = xgb_model,\n",
        "                           param_grid = param_tuning,                        \n",
        "                           #scoring = 'neg_mean_absolute_error', #MAE\n",
        "                           #scoring = 'neg_mean_squared_error',  #MSE\n",
        "                           cv = 5,\n",
        "                           n_jobs = -1,\n",
        "                           verbose = 1)\n",
        "\n",
        "    gsearch.fit(X_train,y_train)\n",
        "\n",
        "    return gsearch.best_params_"
      ],
      "execution_count": 19,
      "outputs": []
    },
    {
      "cell_type": "code",
      "metadata": {
        "colab": {
          "base_uri": "https://localhost:8080/"
        },
        "id": "nhSKky6NnxjZ",
        "outputId": "34958b42-39a6-48cd-8a8c-c13601db1354"
      },
      "source": [
        "#Run only in the first run of the kernel.\n",
        "hyperParameterTuning(X_train, y_train)"
      ],
      "execution_count": null,
      "outputs": [
        {
          "output_type": "stream",
          "text": [
            "Fitting 5 folds for each of 288 candidates, totalling 1440 fits\n"
          ],
          "name": "stdout"
        },
        {
          "output_type": "stream",
          "text": [
            "[Parallel(n_jobs=-1)]: Using backend LokyBackend with 2 concurrent workers.\n",
            "[Parallel(n_jobs=-1)]: Done  46 tasks      | elapsed:   28.7s\n",
            "[Parallel(n_jobs=-1)]: Done 196 tasks      | elapsed:  2.9min\n",
            "[Parallel(n_jobs=-1)]: Done 446 tasks      | elapsed:  8.3min\n"
          ],
          "name": "stderr"
        }
      ]
    },
    {
      "cell_type": "markdown",
      "metadata": {
        "id": "5z9G02bLn9Ua"
      },
      "source": [
        "## Best Fit Model"
      ]
    },
    {
      "cell_type": "code",
      "metadata": {
        "id": "Czm9pVocn_cN"
      },
      "source": [
        "xgb_model = XGBRegressor(\n",
        "        objective = 'reg:squarederror',\n",
        "        colsample_bytree = 0.5,\n",
        "        learning_rate = 0.05,\n",
        "        max_depth = 6,\n",
        "        min_child_weight = 1,\n",
        "        n_estimators = 1000,\n",
        "        subsample = 0.7)\n",
        "\n",
        "%time xgb_model.fit(X_train, y_train, early_stopping_rounds=5, eval_set=[(X_val, y_val)], verbose=False)\n",
        "\n",
        "y_pred_xgb = xgb_model.predict(X_val)\n",
        "\n",
        "mae_xgb = mean_absolute_error(y_val, y_pred_xgb)\n",
        "\n",
        "print(\"MAE: \", mae_xgb)"
      ],
      "execution_count": null,
      "outputs": []
    },
    {
      "cell_type": "markdown",
      "metadata": {
        "id": "tWpjqbbxo_Gl"
      },
      "source": [
        "# Plot Result"
      ]
    },
    {
      "cell_type": "code",
      "metadata": {
        "id": "iN0xtcLdpC8L"
      },
      "source": [
        "#Plot Real vs Predict\n",
        "plt.scatter(X_val['GrLivArea'] * 0.092903, y_val,          color='blue', label='Real',    alpha=0.5)\n",
        "plt.scatter(X_val['GrLivArea'] * 0.092903, y_pred_xgb,  color='red' , label='Predict', alpha=0.5)\n",
        "plt.title(\"Real vs Predict\")\n",
        "plt.legend(loc='best')\n",
        "plt.show()"
      ],
      "execution_count": null,
      "outputs": []
    },
    {
      "cell_type": "markdown",
      "metadata": {
        "id": "RO4LfGrnpPaK"
      },
      "source": [
        "# Predict Test"
      ]
    },
    {
      "cell_type": "code",
      "metadata": {
        "id": "vthKUeHbpSFa"
      },
      "source": [
        "X_test = test_005\n",
        "\n",
        "# Use the model to make predictions\n",
        "y_pred_test = xgb_model.predict(X_test)\n",
        "\n",
        "submission = pd.DataFrame({'Id':test_id,'SalePrice':y_pred_test})"
      ],
      "execution_count": null,
      "outputs": []
    },
    {
      "cell_type": "markdown",
      "metadata": {
        "id": "--HaBdZ5pYYq"
      },
      "source": [
        "https://www.kaggle.com/felipefiorini/xgboost-hyper-parameter-tuning#2.-Data-preprocessing"
      ]
    }
  ]
}