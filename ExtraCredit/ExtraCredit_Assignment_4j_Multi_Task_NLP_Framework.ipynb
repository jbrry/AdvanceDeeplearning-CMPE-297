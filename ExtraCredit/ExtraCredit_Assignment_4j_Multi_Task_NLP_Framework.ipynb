{
  "nbformat": 4,
  "nbformat_minor": 0,
  "metadata": {
    "colab": {
      "name": "Assignment_4j_Multi-Task-NLP_Framework.ipynb",
      "provenance": [],
      "toc_visible": true,
      "authorship_tag": "ABX9TyO5LaOKLKeBKWYt0PPX551Y",
      "include_colab_link": true
    },
    "kernelspec": {
      "name": "python3",
      "display_name": "Python 3"
    }
  },
  "cells": [
    {
      "cell_type": "markdown",
      "metadata": {
        "id": "view-in-github",
        "colab_type": "text"
      },
      "source": [
        "<a href=\"https://colab.research.google.com/github/s-c-soma/AdvanceDeeplearning-CMPE-297/blob/master/ExtraCredit/ExtraCredit_Assignment_4j_Multi_Task_NLP_Framework.ipynb\" target=\"_parent\"><img src=\"https://colab.research.google.com/assets/colab-badge.svg\" alt=\"Open In Colab\"/></a>"
      ]
    },
    {
      "cell_type": "markdown",
      "metadata": {
        "id": "mXhn8SxautER"
      },
      "source": [
        "# Multi-Task-NLP Framework \n",
        "\n",
        "General Language Understanding Evaluation (GLUE) \n",
        "\n",
        "Asignment 4j\n",
        "\n"
      ]
    },
    {
      "cell_type": "markdown",
      "metadata": {
        "id": "8unkr2dXvqDK"
      },
      "source": [
        "## Import Libraries"
      ]
    },
    {
      "cell_type": "code",
      "metadata": {
        "id": "KbbXtIs_u8VZ"
      },
      "source": [
        "%load_ext autoreload\n",
        "%autoreload 2"
      ],
      "execution_count": null,
      "outputs": []
    },
    {
      "cell_type": "code",
      "metadata": {
        "id": "GOWDd__2xaUS"
      },
      "source": [
        "import logging\n",
        "\n",
        "import torch.nn.functional as F\n",
        "from torch import nn\n",
        "from torch.nn import MSELoss\n",
        "\n",
        "import emmental\n",
        "from emmental import Meta\n",
        "from emmental.data import EmmentalDataLoader, EmmentalDataset\n",
        "from emmental.learner import EmmentalLearner\n",
        "from emmental.model import EmmentalModel\n",
        "from emmental.scorer import Scorer\n",
        "from emmental.task import EmmentalTask\n",
        "from modules.bert_module import BertModule\n",
        "from modules.classification_module import ClassificationModule\n",
        "from modules.regression_module import RegressionModule\n",
        "from preprocessor import preprocessor\n",
        "from task_config import LABEL_MAPPING, GLUE_TASK_NAMES\n",
        "from glue_tasks import get_gule_task"
      ],
      "execution_count": null,
      "outputs": []
    },
    {
      "cell_type": "code",
      "metadata": {
        "id": "cUY792RNxM6r"
      },
      "source": [
        "logger = logging.getLogger(__name__)"
      ],
      "execution_count": null,
      "outputs": []
    },
    {
      "cell_type": "code",
      "metadata": {
        "id": "MW8jJPQyxM6t"
      },
      "source": [
        "# TASK_NAMES = [\"RTE\", \"STS-B\"]\n",
        "DATA_DIR = \"data\"\n",
        "BERT_MODEL_NAME = \"bert-base-uncased\"\n",
        "BATCH_SIZE = 16"
      ],
      "execution_count": null,
      "outputs": []
    },
    {
      "cell_type": "markdown",
      "metadata": {
        "id": "k3qCyL_uxM6w"
      },
      "source": [
        "## Initalize Emmental"
      ]
    },
    {
      "cell_type": "code",
      "metadata": {
        "id": "bPgGoSUixM6w",
        "outputId": "919ddb5d-13e2-4e93-a0a2-102708bcd155"
      },
      "source": [
        "emmental.init(\"logs\")"
      ],
      "execution_count": null,
      "outputs": [
        {
          "output_type": "stream",
          "text": [
            "[2019-05-07 15:33:22,635][INFO] emmental.meta:95 - Setting logging directory to: logs/2019_05_07/15_33_22\n",
            "[2019-05-07 15:33:22,650][INFO] emmental.meta:56 - Loading Emmental default config from /dfs/scratch1/senwu/mmtl/emmental/src/emmental/emmental-default-config.yaml.\n"
          ],
          "name": "stderr"
        }
      ]
    },
    {
      "cell_type": "markdown",
      "metadata": {
        "id": "YaGTjI4KxM6y"
      },
      "source": [
        "## Load train/dev/test dataset"
      ]
    },
    {
      "cell_type": "code",
      "metadata": {
        "scrolled": true,
        "id": "XHSTCgYOxM6z",
        "colab": {
          "referenced_widgets": [
            "e4b5fefcd4454991b21c8f6f609bef79",
            "1c6479e3609e4f8d82d8a2779e9f13a5",
            "fef94059b2c24e828e02a59e75b2bd97",
            "b58778eaee0b4ab6bbdda7d3dca294a0",
            "cf184854368d4a2bb8b965402282ebe0",
            "97db2ee24b5240f0acd6b613de766047",
            "2b7ff22f9d12437691efec6e788a2c06",
            "23b8d08bc6764d5b897f22cdce60f389",
            "d55f1eadf5974cae9e84b7cb52093fc0",
            "d0b0cb8897a64c0ebb458a25c51b6d12",
            "dd12330f19ad409c8344bdc7ba7c6d7f",
            "e48d03d5ec9943a8925e331f9f5b6509",
            "d55d1769426740c1bcc3e68f41effdb8",
            "05f02da02aa84765972d2bcb0c51b4cf",
            "216bdb13337449258d146bfdea5244a6",
            "ac1d6cfa6ff6475ba037ddbf816e95bc",
            "f90913ae3c72468183efd70c9ed3b1ec",
            "850b24260c5049098191b5f06ed9469d",
            "425b5cf2d8494326b4c4d688d7c73280",
            "19a8312bfc1a484f97e7465b46885106",
            "5f161ebf7a4c473ea32013bcc395e74b",
            "701c99d6b4f146a2bed4bb36a4fe8fe2",
            "99d4ebe897fb42b49603e17c8efb9b7c",
            "1bd6543f73c54439962b2feeb83ef912",
            "10c7f25053e446abba0024894b7bbd80",
            "41ed5ae390e242b792c65c47e2b41ca6",
            "8ad3d420717848a2805da25ef258339e",
            "123c6d4d04eb45f3ae716796c012f45f",
            "204e3312f0e04df4881bd77a9bc6bc9c",
            "632e836f7d5a47d58d7bf7116e85c7af"
          ]
        },
        "outputId": "67ab533f-a517-4026-d640-270597df74bc"
      },
      "source": [
        "datasets = {}\n",
        "\n",
        "for task_name in GLUE_TASK_NAMES:\n",
        "    for split in [\"train\", \"dev\", \"test\"]:\n",
        "        bert_token_ids, bert_token_segments, bert_token_masks, labels = preprocessor(\n",
        "            data_dir=DATA_DIR,\n",
        "            task_name=task_name,\n",
        "            split=split,\n",
        "            bert_model_name=BERT_MODEL_NAME,\n",
        "            max_data_samples=1000,\n",
        "            max_sequence_length=128,\n",
        "        )\n",
        "        X_dict = {\n",
        "            \"token_ids\": bert_token_ids,\n",
        "            \"token_segments\": bert_token_segments,\n",
        "            \"token_masks\": bert_token_masks,\n",
        "        }\n",
        "        Y_dict = {\"labels\": labels}\n",
        "\n",
        "        if task_name not in datasets: datasets[task_name] = {}\n",
        "        \n",
        "        datasets[task_name][split] = EmmentalDataset(name=\"GLUE\", X_dict=X_dict, Y_dict=Y_dict)\n",
        "\n",
        "        logger.info(f\"Loaded {split} for {task_name}.\")"
      ],
      "execution_count": null,
      "outputs": [
        {
          "output_type": "display_data",
          "data": {
            "application/vnd.jupyter.widget-view+json": {
              "model_id": "e4b5fefcd4454991b21c8f6f609bef79",
              "version_major": 2,
              "version_minor": 0
            },
            "text/plain": [
              "HBox(children=(IntProgress(value=0, max=1000), HTML(value='')))"
            ]
          },
          "metadata": {
            "tags": []
          }
        },
        {
          "output_type": "stream",
          "text": [
            "\n"
          ],
          "name": "stdout"
        },
        {
          "output_type": "stream",
          "text": [
            "[2019-05-07 15:33:25,095][INFO] pytorch_pretrained_bert.tokenization:146 - loading vocabulary file https://s3.amazonaws.com/models.huggingface.co/bert/bert-base-uncased-vocab.txt from cache at /lfs/local/0/senwu/.pytorch_pretrained_bert/26bc1ad6c0ac742e9b52263248f6d0f00068293b33709fae12320c0e35ccfbbb.542ce4285a40d23a559526243235df47c5f75c197f04f37d1a0c124c32c9a084\n",
            "[2019-05-07 15:33:25,512][INFO] __main__:24 - Loaded train for CoLA.\n"
          ],
          "name": "stderr"
        },
        {
          "output_type": "display_data",
          "data": {
            "application/vnd.jupyter.widget-view+json": {
              "model_id": "1c6479e3609e4f8d82d8a2779e9f13a5",
              "version_major": 2,
              "version_minor": 0
            },
            "text/plain": [
              "HBox(children=(IntProgress(value=0, max=1000), HTML(value='')))"
            ]
          },
          "metadata": {
            "tags": []
          }
        },
        {
          "output_type": "stream",
          "text": [
            "\n"
          ],
          "name": "stdout"
        },
        {
          "output_type": "stream",
          "text": [
            "[2019-05-07 15:33:25,826][INFO] pytorch_pretrained_bert.tokenization:146 - loading vocabulary file https://s3.amazonaws.com/models.huggingface.co/bert/bert-base-uncased-vocab.txt from cache at /lfs/local/0/senwu/.pytorch_pretrained_bert/26bc1ad6c0ac742e9b52263248f6d0f00068293b33709fae12320c0e35ccfbbb.542ce4285a40d23a559526243235df47c5f75c197f04f37d1a0c124c32c9a084\n",
            "[2019-05-07 15:33:26,233][INFO] __main__:24 - Loaded dev for CoLA.\n"
          ],
          "name": "stderr"
        },
        {
          "output_type": "display_data",
          "data": {
            "application/vnd.jupyter.widget-view+json": {
              "model_id": "fef94059b2c24e828e02a59e75b2bd97",
              "version_major": 2,
              "version_minor": 0
            },
            "text/plain": [
              "HBox(children=(IntProgress(value=0, max=1000), HTML(value='')))"
            ]
          },
          "metadata": {
            "tags": []
          }
        },
        {
          "output_type": "stream",
          "text": [
            "\n"
          ],
          "name": "stdout"
        },
        {
          "output_type": "stream",
          "text": [
            "[2019-05-07 15:33:26,549][INFO] pytorch_pretrained_bert.tokenization:146 - loading vocabulary file https://s3.amazonaws.com/models.huggingface.co/bert/bert-base-uncased-vocab.txt from cache at /lfs/local/0/senwu/.pytorch_pretrained_bert/26bc1ad6c0ac742e9b52263248f6d0f00068293b33709fae12320c0e35ccfbbb.542ce4285a40d23a559526243235df47c5f75c197f04f37d1a0c124c32c9a084\n",
            "[2019-05-07 15:33:26,945][INFO] __main__:24 - Loaded test for CoLA.\n"
          ],
          "name": "stderr"
        },
        {
          "output_type": "display_data",
          "data": {
            "application/vnd.jupyter.widget-view+json": {
              "model_id": "b58778eaee0b4ab6bbdda7d3dca294a0",
              "version_major": 2,
              "version_minor": 0
            },
            "text/plain": [
              "HBox(children=(IntProgress(value=0, max=1000), HTML(value='')))"
            ]
          },
          "metadata": {
            "tags": []
          }
        },
        {
          "output_type": "stream",
          "text": [
            "\n"
          ],
          "name": "stdout"
        },
        {
          "output_type": "stream",
          "text": [
            "[2019-05-07 15:33:42,655][INFO] pytorch_pretrained_bert.tokenization:146 - loading vocabulary file https://s3.amazonaws.com/models.huggingface.co/bert/bert-base-uncased-vocab.txt from cache at /lfs/local/0/senwu/.pytorch_pretrained_bert/26bc1ad6c0ac742e9b52263248f6d0f00068293b33709fae12320c0e35ccfbbb.542ce4285a40d23a559526243235df47c5f75c197f04f37d1a0c124c32c9a084\n",
            "[2019-05-07 15:33:44,048][INFO] __main__:24 - Loaded train for MNLI.\n"
          ],
          "name": "stderr"
        },
        {
          "output_type": "display_data",
          "data": {
            "application/vnd.jupyter.widget-view+json": {
              "model_id": "cf184854368d4a2bb8b965402282ebe0",
              "version_major": 2,
              "version_minor": 0
            },
            "text/plain": [
              "HBox(children=(IntProgress(value=0, max=1000), HTML(value='')))"
            ]
          },
          "metadata": {
            "tags": []
          }
        },
        {
          "output_type": "stream",
          "text": [
            "\n"
          ],
          "name": "stdout"
        },
        {
          "output_type": "stream",
          "text": [
            "[2019-05-07 15:33:44,725][INFO] pytorch_pretrained_bert.tokenization:146 - loading vocabulary file https://s3.amazonaws.com/models.huggingface.co/bert/bert-base-uncased-vocab.txt from cache at /lfs/local/0/senwu/.pytorch_pretrained_bert/26bc1ad6c0ac742e9b52263248f6d0f00068293b33709fae12320c0e35ccfbbb.542ce4285a40d23a559526243235df47c5f75c197f04f37d1a0c124c32c9a084\n",
            "[2019-05-07 15:33:45,950][INFO] __main__:24 - Loaded dev for MNLI.\n"
          ],
          "name": "stderr"
        },
        {
          "output_type": "display_data",
          "data": {
            "application/vnd.jupyter.widget-view+json": {
              "model_id": "97db2ee24b5240f0acd6b613de766047",
              "version_major": 2,
              "version_minor": 0
            },
            "text/plain": [
              "HBox(children=(IntProgress(value=0, max=1000), HTML(value='')))"
            ]
          },
          "metadata": {
            "tags": []
          }
        },
        {
          "output_type": "stream",
          "text": [
            "\n"
          ],
          "name": "stdout"
        },
        {
          "output_type": "stream",
          "text": [
            "[2019-05-07 15:33:46,640][INFO] pytorch_pretrained_bert.tokenization:146 - loading vocabulary file https://s3.amazonaws.com/models.huggingface.co/bert/bert-base-uncased-vocab.txt from cache at /lfs/local/0/senwu/.pytorch_pretrained_bert/26bc1ad6c0ac742e9b52263248f6d0f00068293b33709fae12320c0e35ccfbbb.542ce4285a40d23a559526243235df47c5f75c197f04f37d1a0c124c32c9a084\n",
            "[2019-05-07 15:33:47,883][INFO] __main__:24 - Loaded test for MNLI.\n"
          ],
          "name": "stderr"
        },
        {
          "output_type": "display_data",
          "data": {
            "application/vnd.jupyter.widget-view+json": {
              "model_id": "2b7ff22f9d12437691efec6e788a2c06",
              "version_major": 2,
              "version_minor": 0
            },
            "text/plain": [
              "HBox(children=(IntProgress(value=0, max=1000), HTML(value='')))"
            ]
          },
          "metadata": {
            "tags": []
          }
        },
        {
          "output_type": "stream",
          "text": [
            "\n"
          ],
          "name": "stdout"
        },
        {
          "output_type": "stream",
          "text": [
            "[2019-05-07 15:33:48,267][INFO] pytorch_pretrained_bert.tokenization:146 - loading vocabulary file https://s3.amazonaws.com/models.huggingface.co/bert/bert-base-uncased-vocab.txt from cache at /lfs/local/0/senwu/.pytorch_pretrained_bert/26bc1ad6c0ac742e9b52263248f6d0f00068293b33709fae12320c0e35ccfbbb.542ce4285a40d23a559526243235df47c5f75c197f04f37d1a0c124c32c9a084\n",
            "[2019-05-07 15:33:49,939][INFO] __main__:24 - Loaded train for MRPC.\n"
          ],
          "name": "stderr"
        },
        {
          "output_type": "display_data",
          "data": {
            "application/vnd.jupyter.widget-view+json": {
              "model_id": "23b8d08bc6764d5b897f22cdce60f389",
              "version_major": 2,
              "version_minor": 0
            },
            "text/plain": [
              "HBox(children=(IntProgress(value=0, max=408), HTML(value='')))"
            ]
          },
          "metadata": {
            "tags": []
          }
        },
        {
          "output_type": "stream",
          "text": [
            "\n"
          ],
          "name": "stdout"
        },
        {
          "output_type": "stream",
          "text": [
            "[2019-05-07 15:33:50,263][INFO] pytorch_pretrained_bert.tokenization:146 - loading vocabulary file https://s3.amazonaws.com/models.huggingface.co/bert/bert-base-uncased-vocab.txt from cache at /lfs/local/0/senwu/.pytorch_pretrained_bert/26bc1ad6c0ac742e9b52263248f6d0f00068293b33709fae12320c0e35ccfbbb.542ce4285a40d23a559526243235df47c5f75c197f04f37d1a0c124c32c9a084\n",
            "[2019-05-07 15:33:50,996][INFO] __main__:24 - Loaded dev for MRPC.\n"
          ],
          "name": "stderr"
        },
        {
          "output_type": "display_data",
          "data": {
            "application/vnd.jupyter.widget-view+json": {
              "model_id": "d55f1eadf5974cae9e84b7cb52093fc0",
              "version_major": 2,
              "version_minor": 0
            },
            "text/plain": [
              "HBox(children=(IntProgress(value=0, max=1000), HTML(value='')))"
            ]
          },
          "metadata": {
            "tags": []
          }
        },
        {
          "output_type": "stream",
          "text": [
            "\n"
          ],
          "name": "stdout"
        },
        {
          "output_type": "stream",
          "text": [
            "[2019-05-07 15:33:51,348][INFO] pytorch_pretrained_bert.tokenization:146 - loading vocabulary file https://s3.amazonaws.com/models.huggingface.co/bert/bert-base-uncased-vocab.txt from cache at /lfs/local/0/senwu/.pytorch_pretrained_bert/26bc1ad6c0ac742e9b52263248f6d0f00068293b33709fae12320c0e35ccfbbb.542ce4285a40d23a559526243235df47c5f75c197f04f37d1a0c124c32c9a084\n",
            "[2019-05-07 15:33:53,043][INFO] __main__:24 - Loaded test for MRPC.\n"
          ],
          "name": "stderr"
        },
        {
          "output_type": "display_data",
          "data": {
            "application/vnd.jupyter.widget-view+json": {
              "model_id": "d0b0cb8897a64c0ebb458a25c51b6d12",
              "version_major": 2,
              "version_minor": 0
            },
            "text/plain": [
              "HBox(children=(IntProgress(value=0, max=1000), HTML(value='')))"
            ]
          },
          "metadata": {
            "tags": []
          }
        },
        {
          "output_type": "stream",
          "text": [
            "\n"
          ],
          "name": "stdout"
        },
        {
          "output_type": "stream",
          "text": [
            "[2019-05-07 15:33:55,501][INFO] pytorch_pretrained_bert.tokenization:146 - loading vocabulary file https://s3.amazonaws.com/models.huggingface.co/bert/bert-base-uncased-vocab.txt from cache at /lfs/local/0/senwu/.pytorch_pretrained_bert/26bc1ad6c0ac742e9b52263248f6d0f00068293b33709fae12320c0e35ccfbbb.542ce4285a40d23a559526243235df47c5f75c197f04f37d1a0c124c32c9a084\n",
            "[2019-05-07 15:33:57,047][INFO] __main__:24 - Loaded train for QNLI.\n"
          ],
          "name": "stderr"
        },
        {
          "output_type": "display_data",
          "data": {
            "application/vnd.jupyter.widget-view+json": {
              "model_id": "dd12330f19ad409c8344bdc7ba7c6d7f",
              "version_major": 2,
              "version_minor": 0
            },
            "text/plain": [
              "HBox(children=(IntProgress(value=0, max=1000), HTML(value='')))"
            ]
          },
          "metadata": {
            "tags": []
          }
        },
        {
          "output_type": "stream",
          "text": [
            "\n"
          ],
          "name": "stdout"
        },
        {
          "output_type": "stream",
          "text": [
            "[2019-05-07 15:33:57,460][INFO] pytorch_pretrained_bert.tokenization:146 - loading vocabulary file https://s3.amazonaws.com/models.huggingface.co/bert/bert-base-uncased-vocab.txt from cache at /lfs/local/0/senwu/.pytorch_pretrained_bert/26bc1ad6c0ac742e9b52263248f6d0f00068293b33709fae12320c0e35ccfbbb.542ce4285a40d23a559526243235df47c5f75c197f04f37d1a0c124c32c9a084\n",
            "[2019-05-07 15:33:58,961][INFO] __main__:24 - Loaded dev for QNLI.\n"
          ],
          "name": "stderr"
        },
        {
          "output_type": "display_data",
          "data": {
            "application/vnd.jupyter.widget-view+json": {
              "model_id": "e48d03d5ec9943a8925e331f9f5b6509",
              "version_major": 2,
              "version_minor": 0
            },
            "text/plain": [
              "HBox(children=(IntProgress(value=0, max=1000), HTML(value='')))"
            ]
          },
          "metadata": {
            "tags": []
          }
        },
        {
          "output_type": "stream",
          "text": [
            "\n"
          ],
          "name": "stdout"
        },
        {
          "output_type": "stream",
          "text": [
            "[2019-05-07 15:33:59,398][INFO] pytorch_pretrained_bert.tokenization:146 - loading vocabulary file https://s3.amazonaws.com/models.huggingface.co/bert/bert-base-uncased-vocab.txt from cache at /lfs/local/0/senwu/.pytorch_pretrained_bert/26bc1ad6c0ac742e9b52263248f6d0f00068293b33709fae12320c0e35ccfbbb.542ce4285a40d23a559526243235df47c5f75c197f04f37d1a0c124c32c9a084\n",
            "[2019-05-07 15:34:01,651][INFO] __main__:24 - Loaded test for QNLI.\n"
          ],
          "name": "stderr"
        },
        {
          "output_type": "display_data",
          "data": {
            "application/vnd.jupyter.widget-view+json": {
              "model_id": "d55d1769426740c1bcc3e68f41effdb8",
              "version_major": 2,
              "version_minor": 0
            },
            "text/plain": [
              "HBox(children=(IntProgress(value=0, max=1000), HTML(value='')))"
            ]
          },
          "metadata": {
            "tags": []
          }
        },
        {
          "output_type": "stream",
          "text": [
            "\n"
          ],
          "name": "stdout"
        },
        {
          "output_type": "stream",
          "text": [
            "[2019-05-07 15:34:07,373][INFO] pytorch_pretrained_bert.tokenization:146 - loading vocabulary file https://s3.amazonaws.com/models.huggingface.co/bert/bert-base-uncased-vocab.txt from cache at /lfs/local/0/senwu/.pytorch_pretrained_bert/26bc1ad6c0ac742e9b52263248f6d0f00068293b33709fae12320c0e35ccfbbb.542ce4285a40d23a559526243235df47c5f75c197f04f37d1a0c124c32c9a084\n",
            "[2019-05-07 15:34:08,315][INFO] __main__:24 - Loaded train for QQP.\n"
          ],
          "name": "stderr"
        },
        {
          "output_type": "display_data",
          "data": {
            "application/vnd.jupyter.widget-view+json": {
              "model_id": "05f02da02aa84765972d2bcb0c51b4cf",
              "version_major": 2,
              "version_minor": 0
            },
            "text/plain": [
              "HBox(children=(IntProgress(value=0, max=1000), HTML(value='')))"
            ]
          },
          "metadata": {
            "tags": []
          }
        },
        {
          "output_type": "stream",
          "text": [
            "\n"
          ],
          "name": "stdout"
        },
        {
          "output_type": "stream",
          "text": [
            "[2019-05-07 15:34:09,214][INFO] pytorch_pretrained_bert.tokenization:146 - loading vocabulary file https://s3.amazonaws.com/models.huggingface.co/bert/bert-base-uncased-vocab.txt from cache at /lfs/local/0/senwu/.pytorch_pretrained_bert/26bc1ad6c0ac742e9b52263248f6d0f00068293b33709fae12320c0e35ccfbbb.542ce4285a40d23a559526243235df47c5f75c197f04f37d1a0c124c32c9a084\n",
            "[2019-05-07 15:34:10,320][INFO] __main__:24 - Loaded dev for QQP.\n"
          ],
          "name": "stderr"
        },
        {
          "output_type": "display_data",
          "data": {
            "application/vnd.jupyter.widget-view+json": {
              "model_id": "216bdb13337449258d146bfdea5244a6",
              "version_major": 2,
              "version_minor": 0
            },
            "text/plain": [
              "HBox(children=(IntProgress(value=0, max=1000), HTML(value='')))"
            ]
          },
          "metadata": {
            "tags": []
          }
        },
        {
          "output_type": "stream",
          "text": [
            "\n"
          ],
          "name": "stdout"
        },
        {
          "output_type": "stream",
          "text": [
            "[2019-05-07 15:34:16,024][INFO] pytorch_pretrained_bert.tokenization:146 - loading vocabulary file https://s3.amazonaws.com/models.huggingface.co/bert/bert-base-uncased-vocab.txt from cache at /lfs/local/0/senwu/.pytorch_pretrained_bert/26bc1ad6c0ac742e9b52263248f6d0f00068293b33709fae12320c0e35ccfbbb.542ce4285a40d23a559526243235df47c5f75c197f04f37d1a0c124c32c9a084\n",
            "[2019-05-07 15:34:16,961][INFO] __main__:24 - Loaded test for QQP.\n"
          ],
          "name": "stderr"
        },
        {
          "output_type": "display_data",
          "data": {
            "application/vnd.jupyter.widget-view+json": {
              "model_id": "ac1d6cfa6ff6475ba037ddbf816e95bc",
              "version_major": 2,
              "version_minor": 0
            },
            "text/plain": [
              "HBox(children=(IntProgress(value=0, max=1000), HTML(value='')))"
            ]
          },
          "metadata": {
            "tags": []
          }
        },
        {
          "output_type": "stream",
          "text": [
            "\n"
          ],
          "name": "stdout"
        },
        {
          "output_type": "stream",
          "text": [
            "[2019-05-07 15:34:17,318][INFO] pytorch_pretrained_bert.tokenization:146 - loading vocabulary file https://s3.amazonaws.com/models.huggingface.co/bert/bert-base-uncased-vocab.txt from cache at /lfs/local/0/senwu/.pytorch_pretrained_bert/26bc1ad6c0ac742e9b52263248f6d0f00068293b33709fae12320c0e35ccfbbb.542ce4285a40d23a559526243235df47c5f75c197f04f37d1a0c124c32c9a084\n",
            "[2019-05-07 15:34:19,541][INFO] __main__:24 - Loaded train for RTE.\n"
          ],
          "name": "stderr"
        },
        {
          "output_type": "display_data",
          "data": {
            "application/vnd.jupyter.widget-view+json": {
              "model_id": "f90913ae3c72468183efd70c9ed3b1ec",
              "version_major": 2,
              "version_minor": 0
            },
            "text/plain": [
              "HBox(children=(IntProgress(value=0, max=277), HTML(value='')))"
            ]
          },
          "metadata": {
            "tags": []
          }
        },
        {
          "output_type": "stream",
          "text": [
            "\n"
          ],
          "name": "stdout"
        },
        {
          "output_type": "stream",
          "text": [
            "[2019-05-07 15:34:19,906][INFO] pytorch_pretrained_bert.tokenization:146 - loading vocabulary file https://s3.amazonaws.com/models.huggingface.co/bert/bert-base-uncased-vocab.txt from cache at /lfs/local/0/senwu/.pytorch_pretrained_bert/26bc1ad6c0ac742e9b52263248f6d0f00068293b33709fae12320c0e35ccfbbb.542ce4285a40d23a559526243235df47c5f75c197f04f37d1a0c124c32c9a084\n",
            "[2019-05-07 15:34:20,527][INFO] __main__:24 - Loaded dev for RTE.\n"
          ],
          "name": "stderr"
        },
        {
          "output_type": "display_data",
          "data": {
            "application/vnd.jupyter.widget-view+json": {
              "model_id": "850b24260c5049098191b5f06ed9469d",
              "version_major": 2,
              "version_minor": 0
            },
            "text/plain": [
              "HBox(children=(IntProgress(value=0, max=1000), HTML(value='')))"
            ]
          },
          "metadata": {
            "tags": []
          }
        },
        {
          "output_type": "stream",
          "text": [
            "\n"
          ],
          "name": "stdout"
        },
        {
          "output_type": "stream",
          "text": [
            "[2019-05-07 15:34:20,902][INFO] pytorch_pretrained_bert.tokenization:146 - loading vocabulary file https://s3.amazonaws.com/models.huggingface.co/bert/bert-base-uncased-vocab.txt from cache at /lfs/local/0/senwu/.pytorch_pretrained_bert/26bc1ad6c0ac742e9b52263248f6d0f00068293b33709fae12320c0e35ccfbbb.542ce4285a40d23a559526243235df47c5f75c197f04f37d1a0c124c32c9a084\n",
            "[2019-05-07 15:34:22,459][INFO] __main__:24 - Loaded test for RTE.\n"
          ],
          "name": "stderr"
        },
        {
          "output_type": "display_data",
          "data": {
            "application/vnd.jupyter.widget-view+json": {
              "model_id": "425b5cf2d8494326b4c4d688d7c73280",
              "version_major": 2,
              "version_minor": 0
            },
            "text/plain": [
              "HBox(children=(IntProgress(value=0, max=1000), HTML(value='')))"
            ]
          },
          "metadata": {
            "tags": []
          }
        },
        {
          "output_type": "stream",
          "text": [
            "\n"
          ],
          "name": "stdout"
        },
        {
          "output_type": "stream",
          "text": [
            "[2019-05-07 15:34:41,526][INFO] pytorch_pretrained_bert.tokenization:146 - loading vocabulary file https://s3.amazonaws.com/models.huggingface.co/bert/bert-base-uncased-vocab.txt from cache at /lfs/local/0/senwu/.pytorch_pretrained_bert/26bc1ad6c0ac742e9b52263248f6d0f00068293b33709fae12320c0e35ccfbbb.542ce4285a40d23a559526243235df47c5f75c197f04f37d1a0c124c32c9a084\n",
            "[2019-05-07 15:34:42,361][INFO] __main__:24 - Loaded train for SNLI.\n"
          ],
          "name": "stderr"
        },
        {
          "output_type": "display_data",
          "data": {
            "application/vnd.jupyter.widget-view+json": {
              "model_id": "19a8312bfc1a484f97e7465b46885106",
              "version_major": 2,
              "version_minor": 0
            },
            "text/plain": [
              "HBox(children=(IntProgress(value=0, max=1000), HTML(value='')))"
            ]
          },
          "metadata": {
            "tags": []
          }
        },
        {
          "output_type": "stream",
          "text": [
            "\n"
          ],
          "name": "stdout"
        },
        {
          "output_type": "stream",
          "text": [
            "[2019-05-07 15:34:43,020][INFO] pytorch_pretrained_bert.tokenization:146 - loading vocabulary file https://s3.amazonaws.com/models.huggingface.co/bert/bert-base-uncased-vocab.txt from cache at /lfs/local/0/senwu/.pytorch_pretrained_bert/26bc1ad6c0ac742e9b52263248f6d0f00068293b33709fae12320c0e35ccfbbb.542ce4285a40d23a559526243235df47c5f75c197f04f37d1a0c124c32c9a084\n",
            "[2019-05-07 15:34:43,884][INFO] __main__:24 - Loaded dev for SNLI.\n"
          ],
          "name": "stderr"
        },
        {
          "output_type": "display_data",
          "data": {
            "application/vnd.jupyter.widget-view+json": {
              "model_id": "5f161ebf7a4c473ea32013bcc395e74b",
              "version_major": 2,
              "version_minor": 0
            },
            "text/plain": [
              "HBox(children=(IntProgress(value=0, max=1000), HTML(value='')))"
            ]
          },
          "metadata": {
            "tags": []
          }
        },
        {
          "output_type": "stream",
          "text": [
            "[2019-05-07 15:34:44,254][WARNING] preprocessor:139 - Data column doesn't match, skip...\n",
            "[2019-05-07 15:34:44,260][WARNING] preprocessor:139 - Data column doesn't match, skip...\n"
          ],
          "name": "stderr"
        },
        {
          "output_type": "stream",
          "text": [
            "\n"
          ],
          "name": "stdout"
        },
        {
          "output_type": "stream",
          "text": [
            "[2019-05-07 15:34:44,547][INFO] pytorch_pretrained_bert.tokenization:146 - loading vocabulary file https://s3.amazonaws.com/models.huggingface.co/bert/bert-base-uncased-vocab.txt from cache at /lfs/local/0/senwu/.pytorch_pretrained_bert/26bc1ad6c0ac742e9b52263248f6d0f00068293b33709fae12320c0e35ccfbbb.542ce4285a40d23a559526243235df47c5f75c197f04f37d1a0c124c32c9a084\n",
            "[2019-05-07 15:34:45,392][INFO] __main__:24 - Loaded test for SNLI.\n"
          ],
          "name": "stderr"
        },
        {
          "output_type": "display_data",
          "data": {
            "application/vnd.jupyter.widget-view+json": {
              "model_id": "701c99d6b4f146a2bed4bb36a4fe8fe2",
              "version_major": 2,
              "version_minor": 0
            },
            "text/plain": [
              "HBox(children=(IntProgress(value=0, max=1000), HTML(value='')))"
            ]
          },
          "metadata": {
            "tags": []
          }
        },
        {
          "output_type": "stream",
          "text": [
            "\n"
          ],
          "name": "stdout"
        },
        {
          "output_type": "stream",
          "text": [
            "[2019-05-07 15:34:46,243][INFO] pytorch_pretrained_bert.tokenization:146 - loading vocabulary file https://s3.amazonaws.com/models.huggingface.co/bert/bert-base-uncased-vocab.txt from cache at /lfs/local/0/senwu/.pytorch_pretrained_bert/26bc1ad6c0ac742e9b52263248f6d0f00068293b33709fae12320c0e35ccfbbb.542ce4285a40d23a559526243235df47c5f75c197f04f37d1a0c124c32c9a084\n",
            "[2019-05-07 15:34:46,703][INFO] __main__:24 - Loaded train for SST-2.\n"
          ],
          "name": "stderr"
        },
        {
          "output_type": "display_data",
          "data": {
            "application/vnd.jupyter.widget-view+json": {
              "model_id": "99d4ebe897fb42b49603e17c8efb9b7c",
              "version_major": 2,
              "version_minor": 0
            },
            "text/plain": [
              "HBox(children=(IntProgress(value=0, max=872), HTML(value='')))"
            ]
          },
          "metadata": {
            "tags": []
          }
        },
        {
          "output_type": "stream",
          "text": [
            "\n"
          ],
          "name": "stdout"
        },
        {
          "output_type": "stream",
          "text": [
            "[2019-05-07 15:34:47,049][INFO] pytorch_pretrained_bert.tokenization:146 - loading vocabulary file https://s3.amazonaws.com/models.huggingface.co/bert/bert-base-uncased-vocab.txt from cache at /lfs/local/0/senwu/.pytorch_pretrained_bert/26bc1ad6c0ac742e9b52263248f6d0f00068293b33709fae12320c0e35ccfbbb.542ce4285a40d23a559526243235df47c5f75c197f04f37d1a0c124c32c9a084\n",
            "[2019-05-07 15:34:47,751][INFO] __main__:24 - Loaded dev for SST-2.\n"
          ],
          "name": "stderr"
        },
        {
          "output_type": "display_data",
          "data": {
            "application/vnd.jupyter.widget-view+json": {
              "model_id": "1bd6543f73c54439962b2feeb83ef912",
              "version_major": 2,
              "version_minor": 0
            },
            "text/plain": [
              "HBox(children=(IntProgress(value=0, max=1000), HTML(value='')))"
            ]
          },
          "metadata": {
            "tags": []
          }
        },
        {
          "output_type": "stream",
          "text": [
            "\n"
          ],
          "name": "stdout"
        },
        {
          "output_type": "stream",
          "text": [
            "[2019-05-07 15:34:48,081][INFO] pytorch_pretrained_bert.tokenization:146 - loading vocabulary file https://s3.amazonaws.com/models.huggingface.co/bert/bert-base-uncased-vocab.txt from cache at /lfs/local/0/senwu/.pytorch_pretrained_bert/26bc1ad6c0ac742e9b52263248f6d0f00068293b33709fae12320c0e35ccfbbb.542ce4285a40d23a559526243235df47c5f75c197f04f37d1a0c124c32c9a084\n",
            "[2019-05-07 15:34:48,874][INFO] __main__:24 - Loaded test for SST-2.\n"
          ],
          "name": "stderr"
        },
        {
          "output_type": "display_data",
          "data": {
            "application/vnd.jupyter.widget-view+json": {
              "model_id": "10c7f25053e446abba0024894b7bbd80",
              "version_major": 2,
              "version_minor": 0
            },
            "text/plain": [
              "HBox(children=(IntProgress(value=0, max=1000), HTML(value='')))"
            ]
          },
          "metadata": {
            "tags": []
          }
        },
        {
          "output_type": "stream",
          "text": [
            "\n"
          ],
          "name": "stdout"
        },
        {
          "output_type": "stream",
          "text": [
            "[2019-05-07 15:34:49,276][INFO] pytorch_pretrained_bert.tokenization:146 - loading vocabulary file https://s3.amazonaws.com/models.huggingface.co/bert/bert-base-uncased-vocab.txt from cache at /lfs/local/0/senwu/.pytorch_pretrained_bert/26bc1ad6c0ac742e9b52263248f6d0f00068293b33709fae12320c0e35ccfbbb.542ce4285a40d23a559526243235df47c5f75c197f04f37d1a0c124c32c9a084\n",
            "[2019-05-07 15:34:49,833][INFO] __main__:24 - Loaded train for STS-B.\n"
          ],
          "name": "stderr"
        },
        {
          "output_type": "display_data",
          "data": {
            "application/vnd.jupyter.widget-view+json": {
              "model_id": "41ed5ae390e242b792c65c47e2b41ca6",
              "version_major": 2,
              "version_minor": 0
            },
            "text/plain": [
              "HBox(children=(IntProgress(value=0, max=1000), HTML(value='')))"
            ]
          },
          "metadata": {
            "tags": []
          }
        },
        {
          "output_type": "stream",
          "text": [
            "\n"
          ],
          "name": "stdout"
        },
        {
          "output_type": "stream",
          "text": [
            "[2019-05-07 15:34:50,172][INFO] pytorch_pretrained_bert.tokenization:146 - loading vocabulary file https://s3.amazonaws.com/models.huggingface.co/bert/bert-base-uncased-vocab.txt from cache at /lfs/local/0/senwu/.pytorch_pretrained_bert/26bc1ad6c0ac742e9b52263248f6d0f00068293b33709fae12320c0e35ccfbbb.542ce4285a40d23a559526243235df47c5f75c197f04f37d1a0c124c32c9a084\n",
            "[2019-05-07 15:34:51,275][INFO] __main__:24 - Loaded dev for STS-B.\n"
          ],
          "name": "stderr"
        },
        {
          "output_type": "display_data",
          "data": {
            "application/vnd.jupyter.widget-view+json": {
              "model_id": "8ad3d420717848a2805da25ef258339e",
              "version_major": 2,
              "version_minor": 0
            },
            "text/plain": [
              "HBox(children=(IntProgress(value=0, max=1000), HTML(value='')))"
            ]
          },
          "metadata": {
            "tags": []
          }
        },
        {
          "output_type": "stream",
          "text": [
            "\n"
          ],
          "name": "stdout"
        },
        {
          "output_type": "stream",
          "text": [
            "[2019-05-07 15:34:51,601][INFO] pytorch_pretrained_bert.tokenization:146 - loading vocabulary file https://s3.amazonaws.com/models.huggingface.co/bert/bert-base-uncased-vocab.txt from cache at /lfs/local/0/senwu/.pytorch_pretrained_bert/26bc1ad6c0ac742e9b52263248f6d0f00068293b33709fae12320c0e35ccfbbb.542ce4285a40d23a559526243235df47c5f75c197f04f37d1a0c124c32c9a084\n",
            "[2019-05-07 15:34:52,371][INFO] __main__:24 - Loaded test for STS-B.\n"
          ],
          "name": "stderr"
        },
        {
          "output_type": "display_data",
          "data": {
            "application/vnd.jupyter.widget-view+json": {
              "model_id": "123c6d4d04eb45f3ae716796c012f45f",
              "version_major": 2,
              "version_minor": 0
            },
            "text/plain": [
              "HBox(children=(IntProgress(value=0, max=635), HTML(value='')))"
            ]
          },
          "metadata": {
            "tags": []
          }
        },
        {
          "output_type": "stream",
          "text": [
            "\n"
          ],
          "name": "stdout"
        },
        {
          "output_type": "stream",
          "text": [
            "[2019-05-07 15:34:52,686][INFO] pytorch_pretrained_bert.tokenization:146 - loading vocabulary file https://s3.amazonaws.com/models.huggingface.co/bert/bert-base-uncased-vocab.txt from cache at /lfs/local/0/senwu/.pytorch_pretrained_bert/26bc1ad6c0ac742e9b52263248f6d0f00068293b33709fae12320c0e35ccfbbb.542ce4285a40d23a559526243235df47c5f75c197f04f37d1a0c124c32c9a084\n",
            "[2019-05-07 15:34:53,403][INFO] __main__:24 - Loaded train for WNLI.\n"
          ],
          "name": "stderr"
        },
        {
          "output_type": "display_data",
          "data": {
            "application/vnd.jupyter.widget-view+json": {
              "model_id": "204e3312f0e04df4881bd77a9bc6bc9c",
              "version_major": 2,
              "version_minor": 0
            },
            "text/plain": [
              "HBox(children=(IntProgress(value=0, max=71), HTML(value='')))"
            ]
          },
          "metadata": {
            "tags": []
          }
        },
        {
          "output_type": "stream",
          "text": [
            "\n"
          ],
          "name": "stdout"
        },
        {
          "output_type": "stream",
          "text": [
            "[2019-05-07 15:34:53,701][INFO] pytorch_pretrained_bert.tokenization:146 - loading vocabulary file https://s3.amazonaws.com/models.huggingface.co/bert/bert-base-uncased-vocab.txt from cache at /lfs/local/0/senwu/.pytorch_pretrained_bert/26bc1ad6c0ac742e9b52263248f6d0f00068293b33709fae12320c0e35ccfbbb.542ce4285a40d23a559526243235df47c5f75c197f04f37d1a0c124c32c9a084\n",
            "[2019-05-07 15:34:53,822][INFO] __main__:24 - Loaded dev for WNLI.\n"
          ],
          "name": "stderr"
        },
        {
          "output_type": "display_data",
          "data": {
            "application/vnd.jupyter.widget-view+json": {
              "model_id": "632e836f7d5a47d58d7bf7116e85c7af",
              "version_major": 2,
              "version_minor": 0
            },
            "text/plain": [
              "HBox(children=(IntProgress(value=0, max=146), HTML(value='')))"
            ]
          },
          "metadata": {
            "tags": []
          }
        },
        {
          "output_type": "stream",
          "text": [
            "\n"
          ],
          "name": "stdout"
        },
        {
          "output_type": "stream",
          "text": [
            "[2019-05-07 15:34:54,121][INFO] pytorch_pretrained_bert.tokenization:146 - loading vocabulary file https://s3.amazonaws.com/models.huggingface.co/bert/bert-base-uncased-vocab.txt from cache at /lfs/local/0/senwu/.pytorch_pretrained_bert/26bc1ad6c0ac742e9b52263248f6d0f00068293b33709fae12320c0e35ccfbbb.542ce4285a40d23a559526243235df47c5f75c197f04f37d1a0c124c32c9a084\n",
            "[2019-05-07 15:34:54,406][INFO] __main__:24 - Loaded test for WNLI.\n"
          ],
          "name": "stderr"
        }
      ]
    },
    {
      "cell_type": "markdown",
      "metadata": {
        "id": "1DZEmScnxM61"
      },
      "source": [
        "## Build Emmental dataloader"
      ]
    },
    {
      "cell_type": "code",
      "metadata": {
        "id": "8ep0txDkxM62",
        "outputId": "db9a6044-bd63-4ba0-ce06-b90921e1a58a"
      },
      "source": [
        "dataloaders = []\n",
        "\n",
        "for task_name in GLUE_TASK_NAMES:\n",
        "    for split in [\"train\", \"dev\", \"test\"]:\n",
        "        dataloaders.append(\n",
        "            EmmentalDataLoader(\n",
        "                task_to_label_dict={task_name: \"labels\"},\n",
        "                dataset=datasets[task_name][split],\n",
        "                split=split,\n",
        "                batch_size=BATCH_SIZE,\n",
        "                shuffle=True if split == \"train\" else False,\n",
        "            )\n",
        "        )\n",
        "        logger.info(f\"Built dataloader for {task_name} {split} set.\")"
      ],
      "execution_count": null,
      "outputs": [
        {
          "output_type": "stream",
          "text": [
            "[2019-05-07 15:36:29,950][INFO] __main__:14 - Built dataloader for CoLA train set.\n",
            "[2019-05-07 15:36:29,952][INFO] __main__:14 - Built dataloader for CoLA dev set.\n",
            "[2019-05-07 15:36:29,953][INFO] __main__:14 - Built dataloader for CoLA test set.\n",
            "[2019-05-07 15:36:29,954][INFO] __main__:14 - Built dataloader for MNLI train set.\n",
            "[2019-05-07 15:36:29,956][INFO] __main__:14 - Built dataloader for MNLI dev set.\n",
            "[2019-05-07 15:36:29,958][INFO] __main__:14 - Built dataloader for MNLI test set.\n",
            "[2019-05-07 15:36:29,958][INFO] __main__:14 - Built dataloader for MRPC train set.\n",
            "[2019-05-07 15:36:29,960][INFO] __main__:14 - Built dataloader for MRPC dev set.\n",
            "[2019-05-07 15:36:29,961][INFO] __main__:14 - Built dataloader for MRPC test set.\n",
            "[2019-05-07 15:36:29,962][INFO] __main__:14 - Built dataloader for QNLI train set.\n",
            "[2019-05-07 15:36:29,963][INFO] __main__:14 - Built dataloader for QNLI dev set.\n",
            "[2019-05-07 15:36:29,964][INFO] __main__:14 - Built dataloader for QNLI test set.\n",
            "[2019-05-07 15:36:29,965][INFO] __main__:14 - Built dataloader for QQP train set.\n",
            "[2019-05-07 15:36:29,967][INFO] __main__:14 - Built dataloader for QQP dev set.\n",
            "[2019-05-07 15:36:29,968][INFO] __main__:14 - Built dataloader for QQP test set.\n",
            "[2019-05-07 15:36:29,969][INFO] __main__:14 - Built dataloader for RTE train set.\n",
            "[2019-05-07 15:36:29,970][INFO] __main__:14 - Built dataloader for RTE dev set.\n",
            "[2019-05-07 15:36:29,971][INFO] __main__:14 - Built dataloader for RTE test set.\n",
            "[2019-05-07 15:36:29,972][INFO] __main__:14 - Built dataloader for SNLI train set.\n",
            "[2019-05-07 15:36:29,973][INFO] __main__:14 - Built dataloader for SNLI dev set.\n",
            "[2019-05-07 15:36:29,975][INFO] __main__:14 - Built dataloader for SNLI test set.\n",
            "[2019-05-07 15:36:29,975][INFO] __main__:14 - Built dataloader for SST-2 train set.\n",
            "[2019-05-07 15:36:29,977][INFO] __main__:14 - Built dataloader for SST-2 dev set.\n",
            "[2019-05-07 15:36:29,978][INFO] __main__:14 - Built dataloader for SST-2 test set.\n",
            "[2019-05-07 15:36:29,979][INFO] __main__:14 - Built dataloader for STS-B train set.\n",
            "[2019-05-07 15:36:29,980][INFO] __main__:14 - Built dataloader for STS-B dev set.\n",
            "[2019-05-07 15:36:29,981][INFO] __main__:14 - Built dataloader for STS-B test set.\n",
            "[2019-05-07 15:36:29,982][INFO] __main__:14 - Built dataloader for WNLI train set.\n",
            "[2019-05-07 15:36:29,983][INFO] __main__:14 - Built dataloader for WNLI dev set.\n",
            "[2019-05-07 15:36:29,984][INFO] __main__:14 - Built dataloader for WNLI test set.\n"
          ],
          "name": "stderr"
        }
      ]
    },
    {
      "cell_type": "markdown",
      "metadata": {
        "id": "Bq_a8Y2OxM64"
      },
      "source": [
        "## Model and Training"
      ]
    },
    {
      "cell_type": "code",
      "metadata": {
        "id": "wOJUr2LvxM65",
        "outputId": "c3b4fd73-ead2-4e8b-acd5-c1e12ac61166"
      },
      "source": [
        "tasks = get_gule_task(GLUE_TASK_NAMES, BERT_MODEL_NAME)"
      ],
      "execution_count": null,
      "outputs": [
        {
          "output_type": "stream",
          "text": [
            "[2019-05-07 15:59:02,833][INFO] pytorch_pretrained_bert.modeling:564 - loading archive file https://s3.amazonaws.com/models.huggingface.co/bert/bert-base-uncased.tar.gz from cache at ./cache/9c41111e2de84547a463fd39217199738d1e3deb72d4fec4399e6e241983c6f0.ae3cef932725ca7a30cdcb93fc6e09150a55e2a130ec7af63975a16c153ae2ba\n",
            "[2019-05-07 15:59:02,837][INFO] pytorch_pretrained_bert.modeling:572 - extracting archive file ./cache/9c41111e2de84547a463fd39217199738d1e3deb72d4fec4399e6e241983c6f0.ae3cef932725ca7a30cdcb93fc6e09150a55e2a130ec7af63975a16c153ae2ba to temp dir /tmp/tmpuxt7ykoe\n",
            "[2019-05-07 15:59:08,700][INFO] pytorch_pretrained_bert.modeling:579 - Model config {\n",
            "  \"attention_probs_dropout_prob\": 0.1,\n",
            "  \"hidden_act\": \"gelu\",\n",
            "  \"hidden_dropout_prob\": 0.1,\n",
            "  \"hidden_size\": 768,\n",
            "  \"initializer_range\": 0.02,\n",
            "  \"intermediate_size\": 3072,\n",
            "  \"max_position_embeddings\": 512,\n",
            "  \"num_attention_heads\": 12,\n",
            "  \"num_hidden_layers\": 12,\n",
            "  \"type_vocab_size\": 2,\n",
            "  \"vocab_size\": 30522\n",
            "}\n",
            "\n",
            "[2019-05-07 15:59:19,274][INFO] emmental.task:34 - Created task: CoLA\n",
            "[2019-05-07 15:59:19,279][INFO] emmental.task:34 - Created task: MNLI\n",
            "[2019-05-07 15:59:19,280][INFO] emmental.task:34 - Created task: MRPC\n",
            "[2019-05-07 15:59:19,282][INFO] emmental.task:34 - Created task: QNLI\n",
            "[2019-05-07 15:59:19,283][INFO] emmental.task:34 - Created task: QQP\n",
            "[2019-05-07 15:59:19,285][INFO] emmental.task:34 - Created task: RTE\n",
            "[2019-05-07 15:59:19,286][INFO] emmental.task:34 - Created task: SNLI\n",
            "[2019-05-07 15:59:19,288][INFO] emmental.task:34 - Created task: SST-2\n",
            "[2019-05-07 15:59:19,289][INFO] emmental.task:34 - Created task: STS-B\n",
            "[2019-05-07 15:59:19,292][INFO] emmental.task:34 - Created task: WNLI\n"
          ],
          "name": "stderr"
        }
      ]
    },
    {
      "cell_type": "code",
      "metadata": {
        "id": "l8-rj_c8xM67",
        "outputId": "66c9d692-865a-4951-d8b8-b6e7d89cb50f"
      },
      "source": [
        "Meta.update_config(\n",
        "    config={\n",
        "        \"meta_config\": {\"device\": 1},\n",
        "        \"learner_config\": {\n",
        "            \"n_epochs\": 3,\n",
        "            \"valid_split\": \"dev\",\n",
        "            \"optimizer_config\": {\"optimizer\": \"adam\", \"lr\": 5e-5},\n",
        "            \"lr_scheduler_config\": {\n",
        "                \"warmup_steps\": 70,\n",
        "                \"warmup_unit\": \"batch\",\n",
        "                \"lr_scheduler\": \"linear\",\n",
        "            },\n",
        "        },\n",
        "        \"logging_config\": {\n",
        "            \"evaluation_freq\": 50,\n",
        "            \"checkpointing\": None,\n",
        "            #             \"checkpointer_config\": {\n",
        "            #                 \"checkpoint_metric\": f\"{TASK_NAME}/GLUE/train/accuracy\",\n",
        "            #                 \"checkpoint_freq\": 10,\n",
        "            #             },\n",
        "        },\n",
        "    }\n",
        ")\n"
      ],
      "execution_count": null,
      "outputs": [
        {
          "output_type": "stream",
          "text": [
            "[2019-05-07 16:00:34,801][INFO] emmental.meta:143 - Updating Emmental config from user provided config.\n"
          ],
          "name": "stderr"
        }
      ]
    },
    {
      "cell_type": "code",
      "metadata": {
        "id": "YFt2-B9FxM69",
        "outputId": "8c79b105-1b4f-4290-c19d-5394855cdebb"
      },
      "source": [
        "mtl_model = EmmentalModel(name = 'GLUE_multi_task', tasks=tasks.values())"
      ],
      "execution_count": null,
      "outputs": [
        {
          "output_type": "stream",
          "text": [
            "[2019-05-07 16:00:52,190][INFO] emmental.model:58 - Moving model to GPU (cuda:1).\n",
            "[2019-05-07 16:00:57,359][INFO] emmental.model:58 - Moving model to GPU (cuda:1).\n",
            "[2019-05-07 16:00:57,368][INFO] emmental.model:58 - Moving model to GPU (cuda:1).\n",
            "[2019-05-07 16:00:57,373][INFO] emmental.model:58 - Moving model to GPU (cuda:1).\n",
            "[2019-05-07 16:00:57,378][INFO] emmental.model:58 - Moving model to GPU (cuda:1).\n",
            "[2019-05-07 16:00:57,382][INFO] emmental.model:58 - Moving model to GPU (cuda:1).\n",
            "[2019-05-07 16:00:57,386][INFO] emmental.model:58 - Moving model to GPU (cuda:1).\n",
            "[2019-05-07 16:00:57,390][INFO] emmental.model:58 - Moving model to GPU (cuda:1).\n",
            "[2019-05-07 16:00:57,393][INFO] emmental.model:58 - Moving model to GPU (cuda:1).\n",
            "[2019-05-07 16:00:57,397][INFO] emmental.model:58 - Moving model to GPU (cuda:1).\n",
            "[2019-05-07 16:00:57,402][INFO] emmental.model:44 - Created emmental model GLUE_multi_task that contains task {'RTE', 'MRPC', 'QNLI', 'STS-B', 'MNLI', 'SNLI', 'SST-2', 'WNLI', 'CoLA', 'QQP'}.\n",
            "[2019-05-07 16:00:57,403][INFO] emmental.model:58 - Moving model to GPU (cuda:1).\n"
          ],
          "name": "stderr"
        }
      ]
    },
    {
      "cell_type": "code",
      "metadata": {
        "id": "787Jqg6cxM6_"
      },
      "source": [
        "emmental_learner = EmmentalLearner()"
      ],
      "execution_count": null,
      "outputs": []
    },
    {
      "cell_type": "code",
      "metadata": {
        "scrolled": false,
        "id": "nm-NoTm7xM7B",
        "colab": {
          "referenced_widgets": [
            "aac569a516a645a1b5b460873559b03f",
            "27b4814b10ce42908f4fed364e9fc1c3",
            "59e602fae1d74d13a4d7057aa7a4dd57"
          ]
        },
        "outputId": "2fade73f-1cae-49c5-fcf8-d1a9eaedd55d"
      },
      "source": [
        "emmental_learner.learn(mtl_model, dataloaders)"
      ],
      "execution_count": null,
      "outputs": [
        {
          "output_type": "stream",
          "text": [
            "[2019-05-07 16:04:03,149][INFO] emmental.logging.logging_manager:33 - Evaluating every 50 batch.\n",
            "[2019-05-07 16:04:03,150][INFO] emmental.logging.logging_manager:51 - No checkpointing.\n",
            "[2019-05-07 16:04:03,196][INFO] emmental.learner:286 - Start learning...\n"
          ],
          "name": "stderr"
        },
        {
          "output_type": "display_data",
          "data": {
            "application/vnd.jupyter.widget-view+json": {
              "model_id": "aac569a516a645a1b5b460873559b03f",
              "version_major": 2,
              "version_minor": 0
            },
            "text/plain": [
              "HBox(children=(IntProgress(value=0, max=607), HTML(value='')))"
            ]
          },
          "metadata": {
            "tags": []
          }
        },
        {
          "output_type": "stream",
          "text": [
            "/lfs/raiders3/0/senwu/.venv_emmental/lib/python3.6/site-packages/sklearn/metrics/classification.py:543: RuntimeWarning: invalid value encountered in double_scalars\n",
            "  mcc = cov_ytyp / np.sqrt(cov_ytyt * cov_ypyp)\n"
          ],
          "name": "stderr"
        },
        {
          "output_type": "stream",
          "text": [
            "\n"
          ],
          "name": "stdout"
        },
        {
          "output_type": "display_data",
          "data": {
            "application/vnd.jupyter.widget-view+json": {
              "model_id": "27b4814b10ce42908f4fed364e9fc1c3",
              "version_major": 2,
              "version_minor": 0
            },
            "text/plain": [
              "HBox(children=(IntProgress(value=0, max=607), HTML(value='')))"
            ]
          },
          "metadata": {
            "tags": []
          }
        },
        {
          "output_type": "stream",
          "text": [
            "\n"
          ],
          "name": "stdout"
        },
        {
          "output_type": "display_data",
          "data": {
            "application/vnd.jupyter.widget-view+json": {
              "model_id": "59e602fae1d74d13a4d7057aa7a4dd57",
              "version_major": 2,
              "version_minor": 0
            },
            "text/plain": [
              "HBox(children=(IntProgress(value=0, max=607), HTML(value='')))"
            ]
          },
          "metadata": {
            "tags": []
          }
        },
        {
          "output_type": "stream",
          "text": [
            "\n"
          ],
          "name": "stdout"
        }
      ]
    },
    {
      "cell_type": "code",
      "metadata": {
        "id": "kfYs2or4xM7D",
        "outputId": "85d40c65-3530-4638-e172-9c39c2d1c51c"
      },
      "source": [
        "mtl_model.score(dataloaders)"
      ],
      "execution_count": null,
      "outputs": [
        {
          "output_type": "stream",
          "text": [
            "/lfs/raiders3/0/senwu/.venv_emmental/lib/python3.6/site-packages/scipy/stats/stats.py:3038: RuntimeWarning: invalid value encountered in double_scalars\n",
            "  r = r_num / r_den\n",
            "/lfs/raiders3/0/senwu/.venv_emmental/lib/python3.6/site-packages/numpy/lib/function_base.py:2530: RuntimeWarning: invalid value encountered in true_divide\n",
            "  c /= stddev[:, None]\n",
            "/lfs/raiders3/0/senwu/.venv_emmental/lib/python3.6/site-packages/numpy/lib/function_base.py:2531: RuntimeWarning: invalid value encountered in true_divide\n",
            "  c /= stddev[None, :]\n",
            "/lfs/raiders3/0/senwu/.venv_emmental/lib/python3.6/site-packages/scipy/stats/_distn_infrastructure.py:877: RuntimeWarning: invalid value encountered in greater\n",
            "  return (self.a < x) & (x < self.b)\n",
            "/lfs/raiders3/0/senwu/.venv_emmental/lib/python3.6/site-packages/scipy/stats/_distn_infrastructure.py:877: RuntimeWarning: invalid value encountered in less\n",
            "  return (self.a < x) & (x < self.b)\n",
            "/lfs/raiders3/0/senwu/.venv_emmental/lib/python3.6/site-packages/scipy/stats/_distn_infrastructure.py:1831: RuntimeWarning: invalid value encountered in less_equal\n",
            "  cond2 = cond0 & (x <= self.a)\n"
          ],
          "name": "stderr"
        },
        {
          "output_type": "execute_result",
          "data": {
            "text/plain": [
              "{'CoLA/GLUE/train/matthews_corrcoef': 0.38573432553207543,\n",
              " 'CoLA/GLUE/dev/matthews_corrcoef': 0.1857313532962773,\n",
              " 'CoLA/GLUE/test/matthews_corrcoef': 0.0,\n",
              " 'MNLI/GLUE/train/accuracy': 0.518,\n",
              " 'MNLI/GLUE/dev/accuracy': 0.468,\n",
              " 'MNLI/GLUE/test/accuracy': 0.0,\n",
              " 'MRPC/GLUE/train/accuracy': 0.776,\n",
              " 'MRPC/GLUE/train/f1': 0.8502673796791445,\n",
              " 'MRPC/GLUE/dev/accuracy': 0.7426470588235294,\n",
              " 'MRPC/GLUE/dev/f1': 0.8356807511737089,\n",
              " 'MRPC/GLUE/test/accuracy': 0.0,\n",
              " 'MRPC/GLUE/test/f1': 0.0,\n",
              " 'QNLI/GLUE/train/accuracy': 0.748,\n",
              " 'QNLI/GLUE/dev/accuracy': 0.622,\n",
              " 'QNLI/GLUE/test/accuracy': 0.0,\n",
              " 'QQP/GLUE/train/accuracy': 0.718,\n",
              " 'QQP/GLUE/train/f1': 0.6466165413533834,\n",
              " 'QQP/GLUE/dev/accuracy': 0.709,\n",
              " 'QQP/GLUE/dev/f1': 0.6196078431372549,\n",
              " 'QQP/GLUE/test/accuracy': 0.0,\n",
              " 'QQP/GLUE/test/f1': 0.0,\n",
              " 'RTE/GLUE/train/accuracy': 0.678,\n",
              " 'RTE/GLUE/dev/accuracy': 0.6462093862815884,\n",
              " 'RTE/GLUE/test/accuracy': 0.0,\n",
              " 'SNLI/GLUE/train/accuracy': 0.568,\n",
              " 'SNLI/GLUE/dev/accuracy': 0.562,\n",
              " 'SNLI/GLUE/test/accuracy': 0.5400801603206413,\n",
              " 'SST-2/GLUE/train/accuracy': 0.753,\n",
              " 'SST-2/GLUE/dev/accuracy': 0.6055045871559633,\n",
              " 'SST-2/GLUE/test/accuracy': 0.0,\n",
              " 'STS-B/GLUE/train/pearson_correlation': 0.87818354,\n",
              " 'STS-B/GLUE/train/pearson_pvalue': 6.6e-322,\n",
              " 'STS-B/GLUE/train/spearman_correlation': 0.8633436364225326,\n",
              " 'STS-B/GLUE/train/spearman_pvalue': 1.0505543119108316e-298,\n",
              " 'STS-B/GLUE/train/pearson_spearman': 0.8707635900523155,\n",
              " 'STS-B/GLUE/dev/pearson_correlation': 0.749441,\n",
              " 'STS-B/GLUE/dev/pearson_pvalue': 6.166152106795193e-181,\n",
              " 'STS-B/GLUE/dev/spearman_correlation': 0.7518586433138009,\n",
              " 'STS-B/GLUE/dev/spearman_pvalue': 9.6984994272347e-183,\n",
              " 'STS-B/GLUE/dev/pearson_spearman': 0.7506498354775486,\n",
              " 'STS-B/GLUE/test/pearson_correlation': 0.0,\n",
              " 'STS-B/GLUE/test/pearson_pvalue': 0.0,\n",
              " 'STS-B/GLUE/test/spearman_correlation': 0.0,\n",
              " 'STS-B/GLUE/test/spearman_pvalue': nan,\n",
              " 'STS-B/GLUE/test/pearson_spearman': 0.0,\n",
              " 'WNLI/GLUE/train/accuracy': 0.5086614173228347,\n",
              " 'WNLI/GLUE/dev/accuracy': 0.5492957746478874,\n",
              " 'WNLI/GLUE/test/accuracy': 0.0}"
            ]
          },
          "metadata": {
            "tags": []
          },
          "execution_count": 17
        }
      ]
    },
    {
      "cell_type": "code",
      "metadata": {
        "id": "aX6qzkHnxM7G"
      },
      "source": [
        ""
      ],
      "execution_count": null,
      "outputs": []
    }
  ]
}