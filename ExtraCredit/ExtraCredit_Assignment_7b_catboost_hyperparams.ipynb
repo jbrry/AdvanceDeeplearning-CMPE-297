{
  "nbformat": 4,
  "nbformat_minor": 0,
  "metadata": {
    "colab": {
      "name": "ExtraCredit_Assignment_7b_catboost_hyperparams.ipynb",
      "provenance": [],
      "toc_visible": true,
      "include_colab_link": true
    },
    "kernelspec": {
      "name": "python3",
      "display_name": "Python 3"
    }
  },
  "cells": [
    {
      "cell_type": "markdown",
      "metadata": {
        "id": "view-in-github",
        "colab_type": "text"
      },
      "source": [
        "<a href=\"https://colab.research.google.com/github/s-c-soma/AdvanceDeeplearning-CMPE-297/blob/master/ExtraCredit/ExtraCredit_Assignment_7b_catboost_hyperparams.ipynb\" target=\"_parent\"><img src=\"https://colab.research.google.com/assets/colab-badge.svg\" alt=\"Open In Colab\"/></a>"
      ]
    },
    {
      "cell_type": "markdown",
      "metadata": {
        "id": "QouP1QU-y7T_"
      },
      "source": [
        "# CATBoost with Hyperparams using Kaggle Dataset(Amazon Employee Data)"
      ]
    },
    {
      "cell_type": "markdown",
      "metadata": {
        "id": "ZkhgM27fx-6Q"
      },
      "source": [
        "## **Implementation Details and Discussion**\n",
        "\n",
        " \n",
        "* In this colab I have implemented CATBoost with hyperparams \n",
        "* For that I have used Amazon Employee Data Kaggle dataset. Dataset csvs are available in the current folder.\n",
        "* I have performed preprocessing one data, then feature engineering before moving to CATBoost\n",
        "* From the CATBoost after hyperparam tuning, I have achieved the following result:\n",
        "\n",
        "> bestTest = 0.1656210392\n",
        "\n",
        "> bestIteration = 9\n",
        "\n"
      ]
    },
    {
      "cell_type": "markdown",
      "metadata": {
        "id": "N59BR5udzHDl"
      },
      "source": [
        "# Import Package"
      ]
    },
    {
      "cell_type": "code",
      "metadata": {
        "id": "vI-imxAyyvK4"
      },
      "source": [
        "import numpy as np # linear algebra\n",
        "import pandas as pd # data processing, CSV file I/O (e.g. pd.read_csv)"
      ],
      "execution_count": null,
      "outputs": []
    },
    {
      "cell_type": "markdown",
      "metadata": {
        "id": "uKSvDLtRzQbe"
      },
      "source": [
        "# Load Kaggle Amazon Employee Dataset"
      ]
    },
    {
      "cell_type": "code",
      "metadata": {
        "id": "75gl0Q5nzVQX"
      },
      "source": [
        "train_df = pd.read_csv('https://github.com/s-c-soma/AdvanceDeeplearning-CMPE-297/blob/master/Assignment_7/amazon_train.csv')\n",
        "test_df = pd.read_csv('https://github.com/s-c-soma/AdvanceDeeplearning-CMPE-297/blob/master/Assignment_7/amazon_test.csv')"
      ],
      "execution_count": null,
      "outputs": []
    },
    {
      "cell_type": "code",
      "metadata": {
        "id": "sX6gF7cN0euU"
      },
      "source": [
        "train_df.info()"
      ],
      "execution_count": null,
      "outputs": []
    },
    {
      "cell_type": "code",
      "metadata": {
        "id": "qyfXmrkE0hVt"
      },
      "source": [
        "test_df.info()"
      ],
      "execution_count": null,
      "outputs": []
    },
    {
      "cell_type": "code",
      "metadata": {
        "id": "Dp-Nmb680WlW"
      },
      "source": [
        "train_df.head()"
      ],
      "execution_count": null,
      "outputs": []
    },
    {
      "cell_type": "code",
      "metadata": {
        "id": "rOUAe19M0Zr-"
      },
      "source": [
        "test_df.head()"
      ],
      "execution_count": null,
      "outputs": []
    },
    {
      "cell_type": "code",
      "metadata": {
        "id": "YTwXuV1c0osO"
      },
      "source": [
        "train_df.nunique()"
      ],
      "execution_count": null,
      "outputs": []
    },
    {
      "cell_type": "markdown",
      "metadata": {
        "id": "-p9Lgmz60uel"
      },
      "source": [
        "# Data Preprocessing"
      ]
    },
    {
      "cell_type": "code",
      "metadata": {
        "id": "-EDQamAG0wrw"
      },
      "source": [
        "X = train_df.drop(\"ACTION\", axis=1)\n",
        "y = train_df[\"ACTION\"]"
      ],
      "execution_count": null,
      "outputs": []
    },
    {
      "cell_type": "markdown",
      "metadata": {
        "id": "98DCXD7N02F3"
      },
      "source": [
        "## Categorical Feature"
      ]
    },
    {
      "cell_type": "code",
      "metadata": {
        "id": "qaqt5iX1065G"
      },
      "source": [
        "cat_features = list(range(0, X.shape[1]))\n",
        "print(cat_features)"
      ],
      "execution_count": null,
      "outputs": []
    },
    {
      "cell_type": "markdown",
      "metadata": {
        "id": "nhCSxwkj0_Is"
      },
      "source": [
        "# Split Data"
      ]
    },
    {
      "cell_type": "code",
      "metadata": {
        "id": "dg3akeSp1A3M"
      },
      "source": [
        "from sklearn.model_selection import train_test_split\n",
        "\n",
        "X_train, X_val, y_train, y_val = train_test_split(X, y, test_size=0.2, random_state=0)"
      ],
      "execution_count": null,
      "outputs": []
    },
    {
      "cell_type": "markdown",
      "metadata": {
        "id": "fq7ASEhe1JRe"
      },
      "source": [
        "# CATBoost"
      ]
    },
    {
      "cell_type": "code",
      "metadata": {
        "id": "PZZIiT-i1Tbn"
      },
      "source": [
        "!pip install catboost"
      ],
      "execution_count": null,
      "outputs": []
    },
    {
      "cell_type": "code",
      "metadata": {
        "id": "fwOsPG3i1K6U"
      },
      "source": [
        "from catboost import CatBoostClassifier\n",
        "\n",
        "clf = CatBoostClassifier(\n",
        "    iterations=5, \n",
        "    learning_rate=0.1, \n",
        "    #loss_function='CrossEntropy'\n",
        ")\n",
        "\n",
        "\n",
        "clf.fit(X_train, y_train, \n",
        "        cat_features=cat_features, \n",
        "        eval_set=(X_val, y_val), \n",
        "        verbose=False\n",
        ")\n",
        "\n",
        "print('CatBoost model is fitted: ' + str(clf.is_fitted()))\n",
        "print('CatBoost model parameters:')\n",
        "print(clf.get_params())"
      ],
      "execution_count": null,
      "outputs": []
    },
    {
      "cell_type": "markdown",
      "metadata": {
        "id": "JGJlF-UV1dde"
      },
      "source": [
        "# Training"
      ]
    },
    {
      "cell_type": "code",
      "metadata": {
        "id": "NoCeqlBH1e2j"
      },
      "source": [
        "from catboost import CatBoostClassifier\n",
        "clf = CatBoostClassifier(\n",
        "    iterations=10,\n",
        "#     verbose=5,\n",
        ")\n",
        "\n",
        "clf.fit(\n",
        "    X_train, y_train,\n",
        "    cat_features=cat_features,\n",
        "    eval_set=(X_val, y_val),\n",
        ")"
      ],
      "execution_count": null,
      "outputs": []
    },
    {
      "cell_type": "markdown",
      "metadata": {
        "id": "BvPfovi01jHu"
      },
      "source": [
        "# Model Prediction"
      ]
    },
    {
      "cell_type": "code",
      "metadata": {
        "id": "qWXdUnAX1lGN"
      },
      "source": [
        "print(clf.predict_proba(data=X_val))"
      ],
      "execution_count": null,
      "outputs": []
    },
    {
      "cell_type": "code",
      "metadata": {
        "id": "7ONhI9GC1pHm"
      },
      "source": [
        "print(clf.predict(data=X_val))"
      ],
      "execution_count": null,
      "outputs": []
    },
    {
      "cell_type": "markdown",
      "metadata": {
        "id": "QJNNwuEM1uIP"
      },
      "source": [
        "# Metrics Calculation and Graph"
      ]
    },
    {
      "cell_type": "code",
      "metadata": {
        "id": "d_dUjGuF1zo3"
      },
      "source": [
        "from catboost import CatBoostClassifier\n",
        "\n",
        "clf = CatBoostClassifier(\n",
        "    iterations=50,\n",
        "    random_seed=42,\n",
        "    learning_rate=0.5,\n",
        "    custom_loss=['AUC', 'Accuracy']\n",
        ")\n",
        "\n",
        "clf.fit(\n",
        "    X_train, y_train,\n",
        "    cat_features=cat_features,\n",
        "    eval_set=(X_val, y_val),\n",
        "    verbose=False,\n",
        "    plot=True\n",
        ")"
      ],
      "execution_count": null,
      "outputs": []
    }
  ]
}