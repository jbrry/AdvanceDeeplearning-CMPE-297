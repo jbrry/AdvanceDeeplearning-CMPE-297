{
  "nbformat": 4,
  "nbformat_minor": 0,
  "metadata": {
    "kernelspec": {
      "display_name": "Python 3",
      "language": "python",
      "name": "python3"
    },
    "language_info": {
      "codemirror_mode": {
        "name": "ipython",
        "version": 3
      },
      "file_extension": ".py",
      "mimetype": "text/x-python",
      "name": "python",
      "nbconvert_exporter": "python",
      "pygments_lexer": "ipython3",
      "version": "3.6.1"
    },
    "colab": {
      "name": "Assignment_7e_XGBoost_SparkML.ipynb",
      "provenance": [],
      "include_colab_link": true
    }
  },
  "cells": [
    {
      "cell_type": "markdown",
      "metadata": {
        "id": "view-in-github",
        "colab_type": "text"
      },
      "source": [
        "<a href=\"https://colab.research.google.com/github/s-c-soma/AdvanceDeeplearning-CMPE-297/blob/master/Assignment_7/ExtraCredit_Assignment_7e_XGBoost_SparkML.ipynb\" target=\"_parent\"><img src=\"https://colab.research.google.com/assets/colab-badge.svg\" alt=\"Open In Colab\"/></a>"
      ]
    },
    {
      "cell_type": "markdown",
      "metadata": {
        "id": "QGnnJKZn6RPL"
      },
      "source": [
        "# XGBoost_SparkML"
      ]
    },
    {
      "cell_type": "markdown",
      "metadata": {
        "id": "ZkhgM27fx-6Q"
      },
      "source": [
        "## **Implementation Details and Discussion**\n",
        "\n",
        " \n",
        "* In this colab I have implemented SparkML with XGBoost+ gridsearch and hyperparams \n",
        "* For that I have used Titanic Kaggle dataset. \n",
        "* I have performed preprocessing one data, then feature engineering before moving to Xgboost\n",
        "\n",
        "\n"
      ]
    },
    {
      "cell_type": "markdown",
      "metadata": {
        "id": "mfMlV0v_6Yv0"
      },
      "source": [
        "# Spark Env Setup and Import Packages"
      ]
    },
    {
      "cell_type": "code",
      "metadata": {
        "colab": {
          "base_uri": "https://localhost:8080/"
        },
        "id": "faL63eePyX34",
        "outputId": "2c928a33-f0cf-4fd8-acfc-b95fa5b67c2e"
      },
      "source": [
        "!pip install findspark"
      ],
      "execution_count": null,
      "outputs": [
        {
          "output_type": "stream",
          "text": [
            "Collecting findspark\n",
            "  Downloading https://files.pythonhosted.org/packages/fc/2d/2e39f9a023479ea798eed4351cd66f163ce61e00c717e03c37109f00c0f2/findspark-1.4.2-py2.py3-none-any.whl\n",
            "Installing collected packages: findspark\n",
            "Successfully installed findspark-1.4.2\n"
          ],
          "name": "stdout"
        }
      ]
    },
    {
      "cell_type": "code",
      "metadata": {
        "id": "rXY3oHqZ0NfX"
      },
      "source": [
        "import os\n",
        "os.environ['PYSPARK_SUBMIT_ARGS'] = '--jars xgboost4j-spark-0.72.jar,xgboost4j-0.72.jar pyspark-shell'\n",
        "\n",
        "import findspark\n",
        "findspark.init()\n",
        "\n",
        "import pyspark\n",
        "from pyspark.sql.session import SparkSession\n",
        "from pyspark.sql.types import *\n",
        "from pyspark.ml.feature import StringIndexer, VectorAssembler\n",
        "from pyspark.ml import Pipeline\n",
        "from pyspark.sql.functions import col"
      ],
      "execution_count": null,
      "outputs": []
    },
    {
      "cell_type": "markdown",
      "metadata": {
        "id": "JvhDchpL6i_E"
      },
      "source": [
        "# Load Titanic Dataset"
      ]
    },
    {
      "cell_type": "code",
      "metadata": {
        "id": "4zqorZjF0Nfb"
      },
      "source": [
        "spark = SparkSession\\\n",
        "        .builder\\\n",
        "        .appName(\"PySpark XGBOOST Titanic\")\\\n",
        "        .getOrCreate()"
      ],
      "execution_count": null,
      "outputs": []
    },
    {
      "cell_type": "code",
      "metadata": {
        "id": "dxgI6TE50Nfb"
      },
      "source": [
        "spark.sparkContext.addPyFile(\"YOUR_PATH/sparkxgb.zip\")"
      ],
      "execution_count": null,
      "outputs": []
    },
    {
      "cell_type": "code",
      "metadata": {
        "id": "1ukmw8rl0Nfc"
      },
      "source": [
        "from sparkxgb import XGBoostEstimator"
      ],
      "execution_count": null,
      "outputs": []
    },
    {
      "cell_type": "code",
      "metadata": {
        "id": "rxbT_W_A0Nfc"
      },
      "source": [
        "schema = StructType(\n",
        "  [StructField(\"PassengerId\", DoubleType()),\n",
        "    StructField(\"Survival\", DoubleType()),\n",
        "    StructField(\"Pclass\", DoubleType()),\n",
        "    StructField(\"Name\", StringType()),\n",
        "    StructField(\"Sex\", StringType()),\n",
        "    StructField(\"Age\", DoubleType()),\n",
        "    StructField(\"SibSp\", DoubleType()),\n",
        "    StructField(\"Parch\", DoubleType()),\n",
        "    StructField(\"Ticket\", StringType()),\n",
        "    StructField(\"Fare\", DoubleType()),\n",
        "    StructField(\"Cabin\", StringType()),\n",
        "    StructField(\"Embarked\", StringType())\n",
        "  ])"
      ],
      "execution_count": null,
      "outputs": []
    },
    {
      "cell_type": "code",
      "metadata": {
        "id": "YFDMdNOt0Nfc"
      },
      "source": [
        "df_raw = spark\\\n",
        "  .read\\\n",
        "  .option(\"header\", \"true\")\\\n",
        "  .schema(schema)\\\n",
        "  .csv(\"YOUR_PATH/train.csv\")"
      ],
      "execution_count": null,
      "outputs": []
    },
    {
      "cell_type": "code",
      "metadata": {
        "id": "5q0AmVYj0Nfc",
        "outputId": "631eac22-e537-40bd-d5ab-9cda5e99fcbf"
      },
      "source": [
        "df_raw.show(2)"
      ],
      "execution_count": null,
      "outputs": [
        {
          "output_type": "stream",
          "text": [
            "+-----------+--------+------+--------------------+------+----+-----+-----+---------+-------+-----+--------+\n",
            "|PassengerId|Survival|Pclass|                Name|   Sex| Age|SibSp|Parch|   Ticket|   Fare|Cabin|Embarked|\n",
            "+-----------+--------+------+--------------------+------+----+-----+-----+---------+-------+-----+--------+\n",
            "|        1.0|     0.0|   3.0|Braund, Mr. Owen ...|  male|22.0|  1.0|  0.0|A/5 21171|   7.25| null|       S|\n",
            "|        2.0|     1.0|   1.0|Cumings, Mrs. Joh...|female|38.0|  1.0|  0.0| PC 17599|71.2833|  C85|       C|\n",
            "+-----------+--------+------+--------------------+------+----+-----+-----+---------+-------+-----+--------+\n",
            "only showing top 2 rows\n",
            "\n"
          ],
          "name": "stdout"
        }
      ]
    },
    {
      "cell_type": "code",
      "metadata": {
        "id": "Vcl0MPvL0Nff"
      },
      "source": [
        "df = df_raw.na.fill(0)"
      ],
      "execution_count": null,
      "outputs": []
    },
    {
      "cell_type": "code",
      "metadata": {
        "id": "mHzun07n0Nff"
      },
      "source": [
        "sexIndexer = StringIndexer()\\\n",
        "  .setInputCol(\"Sex\")\\\n",
        "  .setOutputCol(\"SexIndex\")\\\n",
        "  .setHandleInvalid(\"keep\")\n",
        "    \n",
        "cabinIndexer = StringIndexer()\\\n",
        "  .setInputCol(\"Cabin\")\\\n",
        "  .setOutputCol(\"CabinIndex\")\\\n",
        "  .setHandleInvalid(\"keep\")\n",
        "    \n",
        "embarkedIndexer = StringIndexer()\\\n",
        "  .setInputCol(\"Embarked\")\\\n",
        "  .setOutputCol(\"EmbarkedIndex\")\\\n",
        "  .setHandleInvalid(\"keep\")"
      ],
      "execution_count": null,
      "outputs": []
    },
    {
      "cell_type": "markdown",
      "metadata": {
        "id": "_0gg4H_S6qAb"
      },
      "source": [
        "# Vector Assembler"
      ]
    },
    {
      "cell_type": "code",
      "metadata": {
        "id": "qSVaGZiz0Nff"
      },
      "source": [
        "vectorAssembler = VectorAssembler()\\\n",
        "  .setInputCols([\"Pclass\", \"SexIndex\", \"Age\", \"SibSp\", \"Parch\", \"Fare\", \"CabinIndex\", \"EmbarkedIndex\"])\\\n",
        "  .setOutputCol(\"features\")"
      ],
      "execution_count": null,
      "outputs": []
    },
    {
      "cell_type": "markdown",
      "metadata": {
        "id": "wIpz-jZX6tmb"
      },
      "source": [
        "# Xgboost"
      ]
    },
    {
      "cell_type": "code",
      "metadata": {
        "id": "r06rTqdP0Nff"
      },
      "source": [
        "xgboost = XGBoostEstimator(\n",
        "    featuresCol=\"features\", \n",
        "    labelCol=\"Survival\", \n",
        "    predictionCol=\"prediction\"\n",
        ")"
      ],
      "execution_count": null,
      "outputs": []
    },
    {
      "cell_type": "code",
      "metadata": {
        "id": "LNuO3iD10Nff"
      },
      "source": [
        "pipeline = Pipeline().setStages([sexIndexer, cabinIndexer, embarkedIndexer, vectorAssembler, xgboost])"
      ],
      "execution_count": null,
      "outputs": []
    },
    {
      "cell_type": "code",
      "metadata": {
        "id": "iFyOgSWV0Nfg"
      },
      "source": [
        "trainDF, testDF = df.randomSplit([0.8, 0.2], seed=24)"
      ],
      "execution_count": null,
      "outputs": []
    },
    {
      "cell_type": "markdown",
      "metadata": {
        "id": "fbzBlN_d6w5E"
      },
      "source": [
        "# Model and Training"
      ]
    },
    {
      "cell_type": "code",
      "metadata": {
        "id": "I6GQsUvA0Nfg"
      },
      "source": [
        "model = pipeline.fit(trainDF)"
      ],
      "execution_count": null,
      "outputs": []
    },
    {
      "cell_type": "code",
      "metadata": {
        "id": "l1tl148J0Nfg",
        "outputId": "1f8ba432-0b73-4161-c91f-e779b814f413"
      },
      "source": [
        "model.transform(testDF).select(col(\"PassengerId\"), col(\"prediction\")).show()"
      ],
      "execution_count": null,
      "outputs": [
        {
          "output_type": "stream",
          "text": [
            "+-----------+----------+\n",
            "|PassengerId|prediction|\n",
            "+-----------+----------+\n",
            "|        1.0|       0.0|\n",
            "|        4.0|       1.0|\n",
            "|       14.0|       0.0|\n",
            "|       15.0|       1.0|\n",
            "|       20.0|       1.0|\n",
            "|       28.0|       1.0|\n",
            "|       34.0|       0.0|\n",
            "|       38.0|       0.0|\n",
            "|       50.0|       1.0|\n",
            "|       52.0|       0.0|\n",
            "|       59.0|       1.0|\n",
            "|       60.0|       0.0|\n",
            "|       82.0|       0.0|\n",
            "|       94.0|       0.0|\n",
            "|       96.0|       0.0|\n",
            "|       99.0|       1.0|\n",
            "|      104.0|       0.0|\n",
            "|      105.0|       0.0|\n",
            "|      107.0|       1.0|\n",
            "|      116.0|       0.0|\n",
            "+-----------+----------+\n",
            "only showing top 20 rows\n",
            "\n"
          ],
          "name": "stdout"
        }
      ]
    },
    {
      "cell_type": "code",
      "metadata": {
        "id": "F5ilOrj60Nfg"
      },
      "source": [
        ""
      ],
      "execution_count": null,
      "outputs": []
    }
  ]
}