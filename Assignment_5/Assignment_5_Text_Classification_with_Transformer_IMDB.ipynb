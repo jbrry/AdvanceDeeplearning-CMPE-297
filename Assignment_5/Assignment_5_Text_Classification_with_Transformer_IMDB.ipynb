{
  "nbformat": 4,
  "nbformat_minor": 0,
  "metadata": {
    "colab": {
      "name": "Assignment_5_Text_Classification_with_Transformer_IMDB.ipynb",
      "provenance": [],
      "collapsed_sections": [],
      "toc_visible": true,
      "machine_shape": "hm",
      "include_colab_link": true
    },
    "kernelspec": {
      "display_name": "Python 3",
      "language": "python",
      "name": "python3"
    },
    "language_info": {
      "codemirror_mode": {
        "name": "ipython",
        "version": 3
      },
      "file_extension": ".py",
      "mimetype": "text/x-python",
      "name": "python",
      "nbconvert_exporter": "python",
      "pygments_lexer": "ipython3",
      "version": "3.7.0"
    },
    "accelerator": "GPU"
  },
  "cells": [
    {
      "cell_type": "markdown",
      "metadata": {
        "id": "view-in-github",
        "colab_type": "text"
      },
      "source": [
        "<a href=\"https://colab.research.google.com/github/s-c-soma/AdvanceDeeplearning-CMPE-297/blob/master/Assignment_5/Assignment_5_Text_Classification_with_Transformer_IMDB.ipynb\" target=\"_parent\"><img src=\"https://colab.research.google.com/assets/colab-badge.svg\" alt=\"Open In Colab\"/></a>"
      ]
    },
    {
      "cell_type": "markdown",
      "metadata": {
        "id": "VfVyseNp0rof"
      },
      "source": [
        "# Text classification with Transformer\n",
        "\n",
        "\n"
      ]
    },
    {
      "cell_type": "markdown",
      "metadata": {
        "id": "cxGI4b1llHch"
      },
      "source": [
        "## **Implementation Details and Discussion:**\n",
        "\n",
        "* In this assignment, I have implemented a transformer block called Multi Head Self attention. \n",
        "* Code is implemented in Keras. I have followed Professor's reference links and typed everything from scrath here.\n",
        "* Here I have used IMDB text dataset. I am considering the top 20k words\n",
        "* The transformer implemented here is used for text classification.\n",
        "* Two seperate embedding layers is developed, one for tokens, one for token index (positions).\n",
        "* Transformer layer outputs one vector for each time step of our input sequence.\n",
        "* Here, I take the mean across all time steps and use a feed forward network on top of it to classify text.\n",
        "* After 20 epochs, result is as follows:\n",
        "> loss: 0.0045 - accuracy: 0.9984 - val_loss: 1.6841 - val_accuracy: 0.8248"
      ]
    },
    {
      "cell_type": "markdown",
      "metadata": {
        "id": "NXCSuXKW0rof"
      },
      "source": [
        "## Setup- Packeges\n"
      ]
    },
    {
      "cell_type": "code",
      "metadata": {
        "id": "tb53ftcD0rof"
      },
      "source": [
        "import tensorflow as tf\n",
        "from tensorflow import keras\n",
        "from tensorflow.keras import layers\n"
      ],
      "execution_count": 1,
      "outputs": []
    },
    {
      "cell_type": "markdown",
      "metadata": {
        "id": "9oCXsUBe0rof"
      },
      "source": [
        "## Implementing: Multi Head self Attention Layer\n"
      ]
    },
    {
      "cell_type": "code",
      "metadata": {
        "id": "yZoHM8Z40rof"
      },
      "source": [
        "\n",
        "class MultiHeadSelfAttention(layers.Layer):\n",
        "    def __init__(self, embed_dim, num_heads=8):\n",
        "        super(MultiHeadSelfAttention, self).__init__()\n",
        "        self.embed_dim = embed_dim\n",
        "        self.num_heads = num_heads\n",
        "        if embed_dim % num_heads != 0:\n",
        "            raise ValueError(\n",
        "                f\"embedding dimension = {embed_dim} should be divisible by number of heads = {num_heads}\"\n",
        "            )\n",
        "        self.projection_dim = embed_dim // num_heads\n",
        "        self.query_dense = layers.Dense(embed_dim)\n",
        "        self.key_dense = layers.Dense(embed_dim)\n",
        "        self.value_dense = layers.Dense(embed_dim)\n",
        "        self.combine_heads = layers.Dense(embed_dim)\n",
        "\n",
        "    def attention(self, query, key, value):\n",
        "        score = tf.matmul(query, key, transpose_b=True)\n",
        "        dim_key = tf.cast(tf.shape(key)[-1], tf.float32)\n",
        "        scaled_score = score / tf.math.sqrt(dim_key)\n",
        "        weights = tf.nn.softmax(scaled_score, axis=-1)\n",
        "        output = tf.matmul(weights, value)\n",
        "        return output, weights\n",
        "\n",
        "    def separate_heads(self, x, batch_size):\n",
        "        x = tf.reshape(x, (batch_size, -1, self.num_heads, self.projection_dim))\n",
        "        return tf.transpose(x, perm=[0, 2, 1, 3])\n",
        "\n",
        "    def call(self, inputs):\n",
        "        batch_size = tf.shape(inputs)[0]\n",
        "        query = self.query_dense(inputs)  # (batch_size, seq_len, embed_dim)\n",
        "        key = self.key_dense(inputs)  # (batch_size, seq_len, embed_dim)\n",
        "        value = self.value_dense(inputs)  # (batch_size, seq_len, embed_dim)\n",
        "        query = self.separate_heads(\n",
        "            query, batch_size\n",
        "        )  # (batch_size, num_heads, seq_len, projection_dim)\n",
        "        key = self.separate_heads(\n",
        "            key, batch_size\n",
        "        )  # (batch_size, num_heads, seq_len, projection_dim)\n",
        "        value = self.separate_heads(\n",
        "            value, batch_size\n",
        "        )  # (batch_size, num_heads, seq_len, projection_dim)\n",
        "        attention, weights = self.attention(query, key, value)\n",
        "        attention = tf.transpose(\n",
        "            attention, perm=[0, 2, 1, 3]\n",
        "        )  # (batch_size, seq_len, num_heads, projection_dim)\n",
        "        concat_attention = tf.reshape(\n",
        "            attention, (batch_size, -1, self.embed_dim)\n",
        "        )  # (batch_size, seq_len, embed_dim)\n",
        "        output = self.combine_heads(\n",
        "            concat_attention\n",
        "        )  # (batch_size, seq_len, embed_dim)\n",
        "        return output\n",
        "\n"
      ],
      "execution_count": 2,
      "outputs": []
    },
    {
      "cell_type": "markdown",
      "metadata": {
        "id": "ccsjcy020rof"
      },
      "source": [
        "## Implementing: Transformer Block\n"
      ]
    },
    {
      "cell_type": "code",
      "metadata": {
        "id": "a87uoG970rof"
      },
      "source": [
        "\n",
        "class TransformerBlock(layers.Layer):\n",
        "    def __init__(self, embed_dim, num_heads, ff_dim, rate=0.1):\n",
        "        super(TransformerBlock, self).__init__()\n",
        "        self.att = MultiHeadSelfAttention(embed_dim, num_heads)\n",
        "        self.ffn = keras.Sequential(\n",
        "            [layers.Dense(ff_dim, activation=\"relu\"), layers.Dense(embed_dim),]\n",
        "        )\n",
        "        self.layernorm1 = layers.LayerNormalization(epsilon=1e-6)\n",
        "        self.layernorm2 = layers.LayerNormalization(epsilon=1e-6)\n",
        "        self.dropout1 = layers.Dropout(rate)\n",
        "        self.dropout2 = layers.Dropout(rate)\n",
        "\n",
        "    def call(self, inputs, training):\n",
        "        attn_output = self.att(inputs)\n",
        "        attn_output = self.dropout1(attn_output, training=training)\n",
        "        out1 = self.layernorm1(inputs + attn_output)\n",
        "        ffn_output = self.ffn(out1)\n",
        "        ffn_output = self.dropout2(ffn_output, training=training)\n",
        "        return self.layernorm2(out1 + ffn_output)\n",
        "\n"
      ],
      "execution_count": 3,
      "outputs": []
    },
    {
      "cell_type": "markdown",
      "metadata": {
        "id": "HsBCWURR0rof"
      },
      "source": [
        "## Implementing: Embedding Layer\n",
        "\n",
        "\n"
      ]
    },
    {
      "cell_type": "code",
      "metadata": {
        "id": "ha0EPPB70rof"
      },
      "source": [
        "\n",
        "class TokenAndPositionEmbedding(layers.Layer):\n",
        "    def __init__(self, maxlen, vocab_size, embed_dim):\n",
        "        super(TokenAndPositionEmbedding, self).__init__()\n",
        "        self.token_emb = layers.Embedding(input_dim=vocab_size, output_dim=embed_dim)\n",
        "        self.pos_emb = layers.Embedding(input_dim=maxlen, output_dim=embed_dim)\n",
        "\n",
        "    def call(self, x):\n",
        "        maxlen = tf.shape(x)[-1]\n",
        "        positions = tf.range(start=0, limit=maxlen, delta=1)\n",
        "        positions = self.pos_emb(positions)\n",
        "        x = self.token_emb(x)\n",
        "        return x + positions\n",
        "\n"
      ],
      "execution_count": 4,
      "outputs": []
    },
    {
      "cell_type": "markdown",
      "metadata": {
        "id": "bkvlMnlJ0rof"
      },
      "source": [
        "## Load Data: IMDB\n"
      ]
    },
    {
      "cell_type": "code",
      "metadata": {
        "id": "S8zUrwew0rof",
        "colab": {
          "base_uri": "https://localhost:8080/"
        },
        "outputId": "babe0190-1777-4a73-8ec3-7183306187b2"
      },
      "source": [
        "vocab_size = 20000  # \n",
        "maxlen = 200  # Only consider the first 200 words of each movie review\n",
        "(x_train, y_train), (x_val, y_val) = keras.datasets.imdb.load_data(num_words=vocab_size)\n",
        "print(len(x_train), \"Training sequences\")\n",
        "print(len(x_val), \"Validation sequences\")\n",
        "x_train = keras.preprocessing.sequence.pad_sequences(x_train, maxlen=maxlen)\n",
        "x_val = keras.preprocessing.sequence.pad_sequences(x_val, maxlen=maxlen)\n"
      ],
      "execution_count": 5,
      "outputs": [
        {
          "output_type": "stream",
          "text": [
            "Downloading data from https://storage.googleapis.com/tensorflow/tf-keras-datasets/imdb.npz\n",
            "17465344/17464789 [==============================] - 1s 0us/step\n",
            "25000 Training sequences\n",
            "25000 Validation sequences\n"
          ],
          "name": "stdout"
        }
      ]
    },
    {
      "cell_type": "markdown",
      "metadata": {
        "id": "KRmckRnE0rog"
      },
      "source": [
        "## Classifier Model using Transformer Layer\n",
        "\n",
        "\n"
      ]
    },
    {
      "cell_type": "code",
      "metadata": {
        "id": "f3ig_WBD0rog"
      },
      "source": [
        "\n",
        "embed_dim = 32  # Embedding size for each token\n",
        "num_heads = 2  # Number of attention heads\n",
        "ff_dim = 32  # Hidden layer size in feed forward network inside transformer\n",
        "\n",
        "inputs = layers.Input(shape=(maxlen,))\n",
        "embedding_layer = TokenAndPositionEmbedding(maxlen, vocab_size, embed_dim)\n",
        "x = embedding_layer(inputs)\n",
        "transformer_block = TransformerBlock(embed_dim, num_heads, ff_dim)\n",
        "x = transformer_block(x)\n",
        "x = layers.GlobalAveragePooling1D()(x)\n",
        "x = layers.Dropout(0.1)(x)\n",
        "x = layers.Dense(20, activation=\"relu\")(x)\n",
        "x = layers.Dropout(0.1)(x)\n",
        "outputs = layers.Dense(2, activation=\"softmax\")(x)\n",
        "\n",
        "model = keras.Model(inputs=inputs, outputs=outputs)\n",
        "\n"
      ],
      "execution_count": 6,
      "outputs": []
    },
    {
      "cell_type": "markdown",
      "metadata": {
        "id": "MbtBsGO40rog"
      },
      "source": [
        "## Training\n"
      ]
    },
    {
      "cell_type": "code",
      "metadata": {
        "id": "zSvnM2dRnHYb"
      },
      "source": [
        "model.compile(\"adam\", \"sparse_categorical_crossentropy\", metrics=[\"accuracy\"])"
      ],
      "execution_count": 7,
      "outputs": []
    },
    {
      "cell_type": "markdown",
      "metadata": {
        "id": "-z8wVYbTnKNG"
      },
      "source": [
        "## Evaluation"
      ]
    },
    {
      "cell_type": "code",
      "metadata": {
        "id": "VIn9-K-q0rog",
        "colab": {
          "base_uri": "https://localhost:8080/"
        },
        "outputId": "7c248db1-d103-42ca-9ec7-493de723a357"
      },
      "source": [
        "\n",
        "history = model.fit(\n",
        "    x_train, y_train, batch_size=32, epochs=20, validation_data=(x_val, y_val)\n",
        ")\n"
      ],
      "execution_count": 9,
      "outputs": [
        {
          "output_type": "stream",
          "text": [
            "Epoch 1/20\n",
            "782/782 [==============================] - 11s 14ms/step - loss: 0.0150 - accuracy: 0.9956 - val_loss: 0.9560 - val_accuracy: 0.8310\n",
            "Epoch 2/20\n",
            "782/782 [==============================] - 11s 14ms/step - loss: 0.0128 - accuracy: 0.9963 - val_loss: 1.1160 - val_accuracy: 0.8323\n",
            "Epoch 3/20\n",
            "782/782 [==============================] - 11s 14ms/step - loss: 0.0123 - accuracy: 0.9960 - val_loss: 1.2048 - val_accuracy: 0.8308\n",
            "Epoch 4/20\n",
            "782/782 [==============================] - 11s 14ms/step - loss: 0.0125 - accuracy: 0.9959 - val_loss: 1.0902 - val_accuracy: 0.8320\n",
            "Epoch 5/20\n",
            "782/782 [==============================] - 11s 14ms/step - loss: 0.0087 - accuracy: 0.9973 - val_loss: 1.1075 - val_accuracy: 0.8326\n",
            "Epoch 6/20\n",
            "782/782 [==============================] - 11s 14ms/step - loss: 0.0094 - accuracy: 0.9970 - val_loss: 1.2374 - val_accuracy: 0.8208\n",
            "Epoch 7/20\n",
            "782/782 [==============================] - 11s 14ms/step - loss: 0.0068 - accuracy: 0.9978 - val_loss: 1.3188 - val_accuracy: 0.8309\n",
            "Epoch 8/20\n",
            "782/782 [==============================] - 11s 14ms/step - loss: 0.0051 - accuracy: 0.9982 - val_loss: 1.3245 - val_accuracy: 0.8321\n",
            "Epoch 9/20\n",
            "782/782 [==============================] - 11s 14ms/step - loss: 0.0058 - accuracy: 0.9985 - val_loss: 1.3854 - val_accuracy: 0.8305\n",
            "Epoch 10/20\n",
            "782/782 [==============================] - 11s 13ms/step - loss: 0.0068 - accuracy: 0.9979 - val_loss: 1.2840 - val_accuracy: 0.8242\n",
            "Epoch 11/20\n",
            "782/782 [==============================] - 11s 14ms/step - loss: 0.0038 - accuracy: 0.9989 - val_loss: 1.3692 - val_accuracy: 0.8357\n",
            "Epoch 12/20\n",
            "782/782 [==============================] - 11s 14ms/step - loss: 0.0031 - accuracy: 0.9992 - val_loss: 1.4867 - val_accuracy: 0.8296\n",
            "Epoch 13/20\n",
            "782/782 [==============================] - 11s 14ms/step - loss: 0.0073 - accuracy: 0.9976 - val_loss: 1.3368 - val_accuracy: 0.8298\n",
            "Epoch 14/20\n",
            "782/782 [==============================] - 11s 14ms/step - loss: 0.0044 - accuracy: 0.9985 - val_loss: 1.3386 - val_accuracy: 0.8232\n",
            "Epoch 15/20\n",
            "782/782 [==============================] - 11s 14ms/step - loss: 0.0043 - accuracy: 0.9989 - val_loss: 1.2777 - val_accuracy: 0.8252\n",
            "Epoch 16/20\n",
            "782/782 [==============================] - 10s 13ms/step - loss: 0.0034 - accuracy: 0.9992 - val_loss: 1.1994 - val_accuracy: 0.8302\n",
            "Epoch 17/20\n",
            "782/782 [==============================] - 11s 13ms/step - loss: 0.0029 - accuracy: 0.9990 - val_loss: 1.8165 - val_accuracy: 0.8236\n",
            "Epoch 18/20\n",
            "782/782 [==============================] - 11s 14ms/step - loss: 0.0013 - accuracy: 0.9996 - val_loss: 1.9080 - val_accuracy: 0.8298\n",
            "Epoch 19/20\n",
            "782/782 [==============================] - 11s 14ms/step - loss: 0.0029 - accuracy: 0.9992 - val_loss: 1.6035 - val_accuracy: 0.8240\n",
            "Epoch 20/20\n",
            "782/782 [==============================] - 11s 14ms/step - loss: 0.0045 - accuracy: 0.9984 - val_loss: 1.6841 - val_accuracy: 0.8248\n"
          ],
          "name": "stdout"
        }
      ]
    }
  ]
}